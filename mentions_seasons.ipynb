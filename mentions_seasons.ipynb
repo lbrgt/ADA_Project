{
 "cells": [
  {
   "cell_type": "code",
   "execution_count": 1,
   "metadata": {},
   "outputs": [],
   "source": [
    "import matplotlib.pyplot as plt\n",
    "from pyspark.sql.types import TimestampType\n",
    "from pyspark.sql.functions import *\n",
    "#import pyspark.sql.functions as pysqlfunc\n",
    "import pandas as pd\n",
    "import numpy as np\n",
    "import scipy as sp\n",
    "from pyspark.sql import *\n",
    "from matplotlib.pyplot import figure\n",
    "\n",
    "from pyspark.sql.types import DateType\n",
    "from datetime import datetime"
   ]
  },
  {
   "cell_type": "code",
   "execution_count": 2,
   "metadata": {},
   "outputs": [],
   "source": [
    "spark = SparkSession.builder.getOrCreate()"
   ]
  },
  {
   "cell_type": "code",
   "execution_count": 3,
   "metadata": {},
   "outputs": [],
   "source": [
    "mentions_df = spark.read.parquet(\"./Data/file_mentions_year_month_day.parquet\")"
   ]
  },
  {
   "cell_type": "code",
   "execution_count": 4,
   "metadata": {},
   "outputs": [],
   "source": [
    "mentions_df = mentions_df.select('MentionSourceName','MentionDocTone')"
   ]
  },
  {
   "cell_type": "code",
   "execution_count": 5,
   "metadata": {},
   "outputs": [
    {
     "data": {
      "text/plain": [
       "DataFrame[MentionSourceName: string, MentionDocTone: float]"
      ]
     },
     "execution_count": 5,
     "metadata": {},
     "output_type": "execute_result"
    }
   ],
   "source": [
    "mentions_df"
   ]
  },
  {
   "cell_type": "code",
   "execution_count": null,
   "metadata": {},
   "outputs": [],
   "source": [
    "mentions_df = mentions_df.groupBy(window(mentions_df['Year-Month-Day'], \\\n",
    "                                                           \"90 days\", \\\n",
    "                                                           startTime = \"24 days\"\n",
    "                                                          ) \\\n",
    "                                 ) \\\n",
    "                        .agg(mean(\"MentionDocTone\")) \\"
   ]
  },
  {
   "cell_type": "code",
   "execution_count": null,
   "metadata": {},
   "outputs": [],
   "source": [
    "mentions_df = mentions_df.withColumn(\"start\", mentions_df.window.start.cast(\"string\")) \\\n",
    "                         .withColumn(\"end\", mentions_df.window.end.cast(\"string\")) \\\n",
    "                         .sort('start', ascending = True) \\\n",
    "                         .select('start', 'end', 'avg(MentionDocTone)')"
   ]
  },
  {
   "cell_type": "code",
   "execution_count": null,
   "metadata": {},
   "outputs": [],
   "source": [
    "mentions_Pandas_df = mentions_df.toPandas()"
   ]
  },
  {
   "cell_type": "code",
   "execution_count": null,
   "metadata": {},
   "outputs": [],
   "source": [
    "mentions_Pandas_df[\"interval\"] = \"[\" + mentions_Pandas_df[\"start\"] + \"; \" +\\\n",
    "                                       mentions_Pandas_df[\"end\"] + \")\"\n",
    "mentions_Pandas_df = mentions_Pandas_df[['start', 'end', 'interval', 'avg(MentionDocTone)']]"
   ]
  },
  {
   "cell_type": "code",
   "execution_count": null,
   "metadata": {},
   "outputs": [],
   "source": [
    "mentions_Pandas_df.plot.bar(x='interval', y='avg(MentionDocTone)')"
   ]
  },
  {
   "cell_type": "code",
   "execution_count": null,
   "metadata": {},
   "outputs": [],
   "source": [
    "mentions_Pandas_df"
   ]
  },
  {
   "cell_type": "code",
   "execution_count": null,
   "metadata": {},
   "outputs": [],
   "source": []
  }
 ],
 "metadata": {
  "kernelspec": {
   "display_name": "Python [default]",
   "language": "python",
   "name": "python3"
  },
  "language_info": {
   "codemirror_mode": {
    "name": "ipython",
    "version": 3
   },
   "file_extension": ".py",
   "mimetype": "text/x-python",
   "name": "python",
   "nbconvert_exporter": "python",
   "pygments_lexer": "ipython3",
   "version": "3.6.6"
  }
 },
 "nbformat": 4,
 "nbformat_minor": 2
}

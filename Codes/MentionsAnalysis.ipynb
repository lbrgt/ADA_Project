{
 "cells": [
  {
   "cell_type": "code",
   "execution_count": 1,
   "metadata": {},
   "outputs": [],
   "source": [
    "import pandas as pd\n",
    "import numpy as np\n",
    "import scipy as sp\n",
    "import seaborn as sn\n",
    "import folium\n",
    "import math\n",
    "import json\n",
    "from branca.colormap import LinearColormap\n",
    "from branca.element import MacroElement\n",
    "from jinja2 import Template\n",
    "import matplotlib.pyplot as plt"
   ]
  },
  {
   "cell_type": "markdown",
   "metadata": {},
   "source": [
    "**Query on Google Big Query to create the mentions.csv dataframe :**\n",
    "\n",
    "SELECT ActionGeo_CountryCode AS LocEvent, EventRootCode, COUNT(*) as NumberOfMentions \n",
    "\n",
    "FROM (\n",
    "\n",
    "      SELECT GLOBALEVENTID AS GLOBALEVENTID_mentions\n",
    "      \n",
    "      FROM `gdelt-bq.gdeltv2.eventmentions` \n",
    "      \n",
    "      WHERE MentionType =1      \n",
    "      \n",
    "      ) \n",
    "      \n",
    "INNER JOIN `gdelt-bq.gdeltv2.events` ON `gdelt-bq.gdeltv2.events`.GLOBALEVENTID = GLOBALEVENTID_mentions \n",
    "\n",
    "GROUP BY ActionGeo_CountryCode, EventRootCode"
   ]
  },
  {
   "cell_type": "markdown",
   "metadata": {},
   "source": [
    "**Loading the csv files into the notebook :**"
   ]
  },
  {
   "cell_type": "code",
   "execution_count": 2,
   "metadata": {},
   "outputs": [],
   "source": [
    "mentions = pd.read_csv('../Data_sinan/mentions.csv', dtype={'EventRootCode': np.str})\n",
    "\n",
    "#Fips_codes will be useful further to get the country names from their respective fips codes\n",
    "fips_codes = pd.read_csv('../Data/fipscountries.csv')\n",
    "fips_codes = fips_codes[['fips','country']]\n",
    "\n",
    "#From happiness_df, we will get the happiness scores for 156 countries\n",
    "happiness_df = pd.read_excel('../Data_sinan/WHR2018Chapter2OnlineData.xls', sheet_name='Figure2.2')\n",
    "happiness_df = happiness_df[['Country','Happiness score']]\n",
    "happiness_df.rename(index=str, columns={\"Country\": \"country\"}, inplace=True)\n",
    "\n",
    "#Reading the world happiness report 2018\n",
    "politics_df = pd.read_excel('../Data_sinan/WHR2018Chapter2OnlineData.xls')\n",
    "\n",
    "#Creating the confidence_df from the year, country and Confidence in national government features of the politics_df\n",
    "confidence_df = politics_df[['year', 'country', 'Confidence in national government']]\n",
    "confidence_df = confidence_df.dropna()\n",
    "#The dataframe contains information for multiple years for each country, thus we just take in consideration the most recent information\n",
    "confidence_df = confidence_df.sort_values('year', ascending=False) \\\n",
    "                             .groupby(\"country\") \\\n",
    "                             .first()\n",
    "\n",
    "#Creating the corruption_df from the year, country and Perceptions of corruption features of the politics_df\n",
    "corruption_df = politics_df[['year', 'country', 'Perceptions of corruption']]\n",
    "corruption_df = corruption_df.dropna()\n",
    "#The dataframe contains information for multiple years for each country, thus we just take in consideration the most recent information\n",
    "corruption_df = corruption_df.sort_values('year', ascending=False)\\\n",
    "                             .groupby(\"country\").first()\n",
    "\n",
    "#To construct, further, relations between the media and the political indicators, merging the corruption and confidence in gouvernment on each country\n",
    "politics_df = corruption_df.merge(confidence_df, on='country', how='inner')\n",
    "politics_df.rename(index=str, columns={\"year_x\": \"year_corruption\", \"year_y\": \"year_confidence\"}, inplace=True)\n",
    "\n",
    "#Loading the The Economist's Democracy Index by Country(2017) \n",
    "democracy_index_df =  pd.read_csv('../Data_sinan/democracy_index.csv')\n",
    "democracy_index_df =  democracy_index_df[['Country', 'Score']]\n",
    "democracy_index_df.rename(index=str, columns={\"Country\": \"country\", \"Score\": \"Democratic Quality\"}, inplace=True)\n",
    "\n",
    "\n",
    "#country_info_df = pd.read_csv('../Data_sinan/countryinfo.csv')\n",
    "#world_borders = json.load(open('../Data/world_borders.topojson.json'))"
   ]
  },
  {
   "cell_type": "code",
   "execution_count": 3,
   "metadata": {
    "scrolled": true
   },
   "outputs": [],
   "source": [
    "#gdeltv2countries = pd.DataFrame(data=mentions['LocEvent'].unique(), columns=['fips'])\n",
    "#gdeltv2countries = fips_codes.merge(gdeltv2countries, \\\n",
    "#                                    on='fips',\n",
    "#                                     how='inner' \\\n",
    "#                                    ) \n",
    "#gdeltv2countries.shape"
   ]
  },
  {
   "cell_type": "code",
   "execution_count": 4,
   "metadata": {},
   "outputs": [],
   "source": [
    "#countries = gdeltv2countries.merge(happiness_df, on='country')\n",
    "#gdeltv2countries[(~gdeltv2countries.country.isin(countries.country))].shape"
   ]
  },
  {
   "cell_type": "code",
   "execution_count": 5,
   "metadata": {},
   "outputs": [
    {
     "data": {
      "text/html": [
       "<div>\n",
       "<style scoped>\n",
       "    .dataframe tbody tr th:only-of-type {\n",
       "        vertical-align: middle;\n",
       "    }\n",
       "\n",
       "    .dataframe tbody tr th {\n",
       "        vertical-align: top;\n",
       "    }\n",
       "\n",
       "    .dataframe thead th {\n",
       "        text-align: right;\n",
       "    }\n",
       "</style>\n",
       "<table border=\"1\" class=\"dataframe\">\n",
       "  <thead>\n",
       "    <tr style=\"text-align: right;\">\n",
       "      <th></th>\n",
       "      <th>year_corruption</th>\n",
       "      <th>Perceptions of corruption</th>\n",
       "      <th>year_confidence</th>\n",
       "      <th>Confidence in national government</th>\n",
       "    </tr>\n",
       "    <tr>\n",
       "      <th>country</th>\n",
       "      <th></th>\n",
       "      <th></th>\n",
       "      <th></th>\n",
       "      <th></th>\n",
       "    </tr>\n",
       "  </thead>\n",
       "  <tbody>\n",
       "    <tr>\n",
       "      <th>Afghanistan</th>\n",
       "      <td>2017</td>\n",
       "      <td>0.954393</td>\n",
       "      <td>2017</td>\n",
       "      <td>0.261179</td>\n",
       "    </tr>\n",
       "    <tr>\n",
       "      <th>Albania</th>\n",
       "      <td>2017</td>\n",
       "      <td>0.876135</td>\n",
       "      <td>2017</td>\n",
       "      <td>0.457738</td>\n",
       "    </tr>\n",
       "    <tr>\n",
       "      <th>Angola</th>\n",
       "      <td>2014</td>\n",
       "      <td>0.834076</td>\n",
       "      <td>2014</td>\n",
       "      <td>0.572346</td>\n",
       "    </tr>\n",
       "    <tr>\n",
       "      <th>Argentina</th>\n",
       "      <td>2017</td>\n",
       "      <td>0.841052</td>\n",
       "      <td>2017</td>\n",
       "      <td>0.305430</td>\n",
       "    </tr>\n",
       "    <tr>\n",
       "      <th>Armenia</th>\n",
       "      <td>2017</td>\n",
       "      <td>0.864683</td>\n",
       "      <td>2017</td>\n",
       "      <td>0.246901</td>\n",
       "    </tr>\n",
       "  </tbody>\n",
       "</table>\n",
       "</div>"
      ],
      "text/plain": [
       "             year_corruption  Perceptions of corruption  year_confidence  \\\n",
       "country                                                                    \n",
       "Afghanistan             2017                   0.954393             2017   \n",
       "Albania                 2017                   0.876135             2017   \n",
       "Angola                  2014                   0.834076             2014   \n",
       "Argentina               2017                   0.841052             2017   \n",
       "Armenia                 2017                   0.864683             2017   \n",
       "\n",
       "             Confidence in national government  \n",
       "country                                         \n",
       "Afghanistan                           0.261179  \n",
       "Albania                               0.457738  \n",
       "Angola                                0.572346  \n",
       "Argentina                             0.305430  \n",
       "Armenia                               0.246901  "
      ]
     },
     "execution_count": 5,
     "metadata": {},
     "output_type": "execute_result"
    }
   ],
   "source": [
    "politics_df.head()"
   ]
  },
  {
   "cell_type": "markdown",
   "metadata": {},
   "source": [
    "Let's observe our mentions dataframe coming from GDELTV2 and see if there are unwanted values for EventRootCode feature :"
   ]
  },
  {
   "cell_type": "code",
   "execution_count": 6,
   "metadata": {},
   "outputs": [
    {
     "data": {
      "text/plain": [
       "04    263\n",
       "01    260\n",
       "02    258\n",
       "07    258\n",
       "09    257\n",
       "03    257\n",
       "12    256\n",
       "06    256\n",
       "05    256\n",
       "19    254\n",
       "08    254\n",
       "17    254\n",
       "11    253\n",
       "18    252\n",
       "13    252\n",
       "16    251\n",
       "10    250\n",
       "14    249\n",
       "15    246\n",
       "20    220\n",
       "--     23\n",
       "X       1\n",
       "Name: EventRootCode, dtype: int64"
      ]
     },
     "execution_count": 6,
     "metadata": {},
     "output_type": "execute_result"
    }
   ],
   "source": [
    "mentions['EventRootCode'].value_counts()"
   ]
  },
  {
   "cell_type": "markdown",
   "metadata": {},
   "source": [
    "\"--\" and \"X\" codes are not defined, thus dropping the rows corresponding to these codes:"
   ]
  },
  {
   "cell_type": "code",
   "execution_count": 7,
   "metadata": {},
   "outputs": [],
   "source": [
    "mentions = (mentions[(mentions[\"EventRootCode\"]!='X') & (mentions[\"EventRootCode\"]!='--')])"
   ]
  },
  {
   "cell_type": "markdown",
   "metadata": {},
   "source": [
    "**Creating the dataframe containing the information about the proportion of the number of protest news over the total number of news for each country :**"
   ]
  },
  {
   "cell_type": "code",
   "execution_count": 8,
   "metadata": {},
   "outputs": [],
   "source": [
    "#Summing the number of mentions by country\n",
    "mentions_by_country = mentions.groupby(['LocEvent'], as_index=False).sum()[['LocEvent','NumberOfMentions']]\n",
    "\n",
    "#Summing the number of protest mentions by country\n",
    "df = mentions.groupby(['LocEvent', 'EventRootCode'], as_index=False).sum()\n",
    "protest_mentions_by_country = df[df['EventRootCode']=='14'].drop(columns=['EventRootCode']) \\\n",
    "                                                           .rename(index=str, \\\n",
    "                                                                   columns={\"NumberOfMentions\": \"Number of protest mentions\"},\\\n",
    "                                                                  )\n",
    "\n",
    "#Creating the relative_mentions dataframe by merging the 2 dataframes created above on country FIPS Code\n",
    "#and adding the column obtained by dividing the number or protest news by the number of news \n",
    "#for each country\n",
    "relative_mentions = protest_mentions_by_country.merge(mentions_by_country, on='LocEvent', how='inner')\n",
    "relative_mentions['Relative number of protest'] = relative_mentions['Number of protest mentions']/relative_mentions['NumberOfMentions']\n",
    "\n"
   ]
  },
  {
   "cell_type": "code",
   "execution_count": 9,
   "metadata": {
    "scrolled": true
   },
   "outputs": [
    {
     "data": {
      "text/html": [
       "<div>\n",
       "<style scoped>\n",
       "    .dataframe tbody tr th:only-of-type {\n",
       "        vertical-align: middle;\n",
       "    }\n",
       "\n",
       "    .dataframe tbody tr th {\n",
       "        vertical-align: top;\n",
       "    }\n",
       "\n",
       "    .dataframe thead th {\n",
       "        text-align: right;\n",
       "    }\n",
       "</style>\n",
       "<table border=\"1\" class=\"dataframe\">\n",
       "  <thead>\n",
       "    <tr style=\"text-align: right;\">\n",
       "      <th></th>\n",
       "      <th>LocEvent</th>\n",
       "      <th>Number of protest mentions</th>\n",
       "      <th>NumberOfMentions</th>\n",
       "      <th>Relative number of protest</th>\n",
       "    </tr>\n",
       "  </thead>\n",
       "  <tbody>\n",
       "    <tr>\n",
       "      <th>0</th>\n",
       "      <td>AA</td>\n",
       "      <td>203</td>\n",
       "      <td>47695</td>\n",
       "      <td>0.004256</td>\n",
       "    </tr>\n",
       "    <tr>\n",
       "      <th>1</th>\n",
       "      <td>AC</td>\n",
       "      <td>216</td>\n",
       "      <td>98264</td>\n",
       "      <td>0.002198</td>\n",
       "    </tr>\n",
       "    <tr>\n",
       "      <th>2</th>\n",
       "      <td>AE</td>\n",
       "      <td>11925</td>\n",
       "      <td>2934690</td>\n",
       "      <td>0.004063</td>\n",
       "    </tr>\n",
       "    <tr>\n",
       "      <th>3</th>\n",
       "      <td>AF</td>\n",
       "      <td>56085</td>\n",
       "      <td>9718130</td>\n",
       "      <td>0.005771</td>\n",
       "    </tr>\n",
       "    <tr>\n",
       "      <th>4</th>\n",
       "      <td>AG</td>\n",
       "      <td>15104</td>\n",
       "      <td>1456706</td>\n",
       "      <td>0.010369</td>\n",
       "    </tr>\n",
       "  </tbody>\n",
       "</table>\n",
       "</div>"
      ],
      "text/plain": [
       "  LocEvent  Number of protest mentions  NumberOfMentions  \\\n",
       "0       AA                         203             47695   \n",
       "1       AC                         216             98264   \n",
       "2       AE                       11925           2934690   \n",
       "3       AF                       56085           9718130   \n",
       "4       AG                       15104           1456706   \n",
       "\n",
       "   Relative number of protest  \n",
       "0                    0.004256  \n",
       "1                    0.002198  \n",
       "2                    0.004063  \n",
       "3                    0.005771  \n",
       "4                    0.010369  "
      ]
     },
     "execution_count": 9,
     "metadata": {},
     "output_type": "execute_result"
    }
   ],
   "source": [
    "relative_mentions.head()"
   ]
  },
  {
   "cell_type": "markdown",
   "metadata": {},
   "source": [
    "**Adding the country names for each corresponding FIPS Code by merging with the dataframe containing the country names for FIPS Codes :**\n"
   ]
  },
  {
   "cell_type": "code",
   "execution_count": 10,
   "metadata": {},
   "outputs": [],
   "source": [
    "relative_mentions = fips_codes.merge(relative_mentions, \\\n",
    "                                     left_on='fips', \\\n",
    "                                     right_on='LocEvent', \\\n",
    "                                     how='inner' \\\n",
    "                                    ) \\\n",
    "                              .drop(columns=['LocEvent'])"
   ]
  },
  {
   "cell_type": "markdown",
   "metadata": {},
   "source": [
    "**Finally putting all the information together for each country :**"
   ]
  },
  {
   "cell_type": "code",
   "execution_count": 11,
   "metadata": {},
   "outputs": [],
   "source": [
    "#population = country_info_df[['fips', 'population']]\n",
    "#relative_mentions = relative_mentions.merge(population, on='fips', how='inner')\n",
    "relative_mentions = relative_mentions.merge(happiness_df, on='country', how='inner')\n",
    "relative_mentions = relative_mentions.merge(politics_df, on='country', how='inner')\n",
    "relative_mentions = relative_mentions.merge(democracy_index_df, on='country', how='inner')\n"
   ]
  },
  {
   "cell_type": "code",
   "execution_count": 12,
   "metadata": {},
   "outputs": [
    {
     "data": {
      "text/html": [
       "<div>\n",
       "<style scoped>\n",
       "    .dataframe tbody tr th:only-of-type {\n",
       "        vertical-align: middle;\n",
       "    }\n",
       "\n",
       "    .dataframe tbody tr th {\n",
       "        vertical-align: top;\n",
       "    }\n",
       "\n",
       "    .dataframe thead th {\n",
       "        text-align: right;\n",
       "    }\n",
       "</style>\n",
       "<table border=\"1\" class=\"dataframe\">\n",
       "  <thead>\n",
       "    <tr style=\"text-align: right;\">\n",
       "      <th></th>\n",
       "      <th>fips</th>\n",
       "      <th>country</th>\n",
       "      <th>Number of protest mentions</th>\n",
       "      <th>NumberOfMentions</th>\n",
       "      <th>Relative number of protest</th>\n",
       "      <th>Happiness score</th>\n",
       "      <th>year_corruption</th>\n",
       "      <th>Perceptions of corruption</th>\n",
       "      <th>year_confidence</th>\n",
       "      <th>Confidence in national government</th>\n",
       "      <th>Democratic Quality</th>\n",
       "    </tr>\n",
       "  </thead>\n",
       "  <tbody>\n",
       "    <tr>\n",
       "      <th>0</th>\n",
       "      <td>AF</td>\n",
       "      <td>Afghanistan</td>\n",
       "      <td>56085</td>\n",
       "      <td>9718130</td>\n",
       "      <td>0.005771</td>\n",
       "      <td>3.6315</td>\n",
       "      <td>2017</td>\n",
       "      <td>0.954393</td>\n",
       "      <td>2017</td>\n",
       "      <td>0.261179</td>\n",
       "      <td>2.55</td>\n",
       "    </tr>\n",
       "    <tr>\n",
       "      <th>1</th>\n",
       "      <td>AL</td>\n",
       "      <td>Albania</td>\n",
       "      <td>62138</td>\n",
       "      <td>3367533</td>\n",
       "      <td>0.018452</td>\n",
       "      <td>4.5860</td>\n",
       "      <td>2017</td>\n",
       "      <td>0.876135</td>\n",
       "      <td>2017</td>\n",
       "      <td>0.457738</td>\n",
       "      <td>5.98</td>\n",
       "    </tr>\n",
       "    <tr>\n",
       "      <th>2</th>\n",
       "      <td>AM</td>\n",
       "      <td>Armenia</td>\n",
       "      <td>42372</td>\n",
       "      <td>2679371</td>\n",
       "      <td>0.015814</td>\n",
       "      <td>4.3206</td>\n",
       "      <td>2017</td>\n",
       "      <td>0.864683</td>\n",
       "      <td>2017</td>\n",
       "      <td>0.246901</td>\n",
       "      <td>4.11</td>\n",
       "    </tr>\n",
       "    <tr>\n",
       "      <th>3</th>\n",
       "      <td>AO</td>\n",
       "      <td>Angola</td>\n",
       "      <td>10950</td>\n",
       "      <td>1671962</td>\n",
       "      <td>0.006549</td>\n",
       "      <td>3.7948</td>\n",
       "      <td>2014</td>\n",
       "      <td>0.834076</td>\n",
       "      <td>2014</td>\n",
       "      <td>0.572346</td>\n",
       "      <td>3.62</td>\n",
       "    </tr>\n",
       "    <tr>\n",
       "      <th>4</th>\n",
       "      <td>AR</td>\n",
       "      <td>Argentina</td>\n",
       "      <td>49026</td>\n",
       "      <td>5527104</td>\n",
       "      <td>0.008870</td>\n",
       "      <td>6.3880</td>\n",
       "      <td>2017</td>\n",
       "      <td>0.841052</td>\n",
       "      <td>2017</td>\n",
       "      <td>0.305430</td>\n",
       "      <td>6.96</td>\n",
       "    </tr>\n",
       "  </tbody>\n",
       "</table>\n",
       "</div>"
      ],
      "text/plain": [
       "  fips      country  Number of protest mentions  NumberOfMentions  \\\n",
       "0   AF  Afghanistan                       56085           9718130   \n",
       "1   AL      Albania                       62138           3367533   \n",
       "2   AM      Armenia                       42372           2679371   \n",
       "3   AO       Angola                       10950           1671962   \n",
       "4   AR    Argentina                       49026           5527104   \n",
       "\n",
       "   Relative number of protest  Happiness score  year_corruption  \\\n",
       "0                    0.005771           3.6315             2017   \n",
       "1                    0.018452           4.5860             2017   \n",
       "2                    0.015814           4.3206             2017   \n",
       "3                    0.006549           3.7948             2014   \n",
       "4                    0.008870           6.3880             2017   \n",
       "\n",
       "   Perceptions of corruption  year_confidence  \\\n",
       "0                   0.954393             2017   \n",
       "1                   0.876135             2017   \n",
       "2                   0.864683             2017   \n",
       "3                   0.834076             2014   \n",
       "4                   0.841052             2017   \n",
       "\n",
       "   Confidence in national government  Democratic Quality  \n",
       "0                           0.261179                2.55  \n",
       "1                           0.457738                5.98  \n",
       "2                           0.246901                4.11  \n",
       "3                           0.572346                3.62  \n",
       "4                           0.305430                6.96  "
      ]
     },
     "execution_count": 12,
     "metadata": {},
     "output_type": "execute_result"
    }
   ],
   "source": [
    "relative_mentions.head()"
   ]
  },
  {
   "cell_type": "markdown",
   "metadata": {},
   "source": [
    "**Analysing the relation between the relative number of protest news and the indicators :**"
   ]
  },
  {
   "cell_type": "code",
   "execution_count": 13,
   "metadata": {
    "scrolled": true
   },
   "outputs": [
    {
     "data": {
      "text/html": [
       "<style  type=\"text/css\" >\n",
       "    #T_d7c135ba_fe27_11e8_b613_a8bbcf242840row0_col0 {\n",
       "            background-color:  #023858;\n",
       "        }    #T_d7c135ba_fe27_11e8_b613_a8bbcf242840row0_col1 {\n",
       "            background-color:  #dedcec;\n",
       "        }    #T_d7c135ba_fe27_11e8_b613_a8bbcf242840row0_col2 {\n",
       "            background-color:  #f4eef6;\n",
       "        }    #T_d7c135ba_fe27_11e8_b613_a8bbcf242840row0_col3 {\n",
       "            background-color:  #e0dded;\n",
       "        }    #T_d7c135ba_fe27_11e8_b613_a8bbcf242840row0_col4 {\n",
       "            background-color:  #83afd3;\n",
       "        }    #T_d7c135ba_fe27_11e8_b613_a8bbcf242840row1_col0 {\n",
       "            background-color:  #fcf4fa;\n",
       "        }    #T_d7c135ba_fe27_11e8_b613_a8bbcf242840row1_col1 {\n",
       "            background-color:  #023858;\n",
       "        }    #T_d7c135ba_fe27_11e8_b613_a8bbcf242840row1_col2 {\n",
       "            background-color:  #fdf5fa;\n",
       "        }    #T_d7c135ba_fe27_11e8_b613_a8bbcf242840row1_col3 {\n",
       "            background-color:  #dfddec;\n",
       "        }    #T_d7c135ba_fe27_11e8_b613_a8bbcf242840row1_col4 {\n",
       "            background-color:  #fff7fb;\n",
       "        }    #T_d7c135ba_fe27_11e8_b613_a8bbcf242840row2_col0 {\n",
       "            background-color:  #fff7fb;\n",
       "        }    #T_d7c135ba_fe27_11e8_b613_a8bbcf242840row2_col1 {\n",
       "            background-color:  #ede7f2;\n",
       "        }    #T_d7c135ba_fe27_11e8_b613_a8bbcf242840row2_col2 {\n",
       "            background-color:  #023858;\n",
       "        }    #T_d7c135ba_fe27_11e8_b613_a8bbcf242840row2_col3 {\n",
       "            background-color:  #0569a5;\n",
       "        }    #T_d7c135ba_fe27_11e8_b613_a8bbcf242840row2_col4 {\n",
       "            background-color:  #efe9f3;\n",
       "        }    #T_d7c135ba_fe27_11e8_b613_a8bbcf242840row3_col0 {\n",
       "            background-color:  #fdf5fa;\n",
       "        }    #T_d7c135ba_fe27_11e8_b613_a8bbcf242840row3_col1 {\n",
       "            background-color:  #dfddec;\n",
       "        }    #T_d7c135ba_fe27_11e8_b613_a8bbcf242840row3_col2 {\n",
       "            background-color:  #056dac;\n",
       "        }    #T_d7c135ba_fe27_11e8_b613_a8bbcf242840row3_col3 {\n",
       "            background-color:  #023858;\n",
       "        }    #T_d7c135ba_fe27_11e8_b613_a8bbcf242840row3_col4 {\n",
       "            background-color:  #fff7fb;\n",
       "        }    #T_d7c135ba_fe27_11e8_b613_a8bbcf242840row4_col0 {\n",
       "            background-color:  #adc1dd;\n",
       "        }    #T_d7c135ba_fe27_11e8_b613_a8bbcf242840row4_col1 {\n",
       "            background-color:  #fff7fb;\n",
       "        }    #T_d7c135ba_fe27_11e8_b613_a8bbcf242840row4_col2 {\n",
       "            background-color:  #fff7fb;\n",
       "        }    #T_d7c135ba_fe27_11e8_b613_a8bbcf242840row4_col3 {\n",
       "            background-color:  #fff7fb;\n",
       "        }    #T_d7c135ba_fe27_11e8_b613_a8bbcf242840row4_col4 {\n",
       "            background-color:  #023858;\n",
       "        }</style>  \n",
       "<table id=\"T_d7c135ba_fe27_11e8_b613_a8bbcf242840\" > \n",
       "<thead>    <tr> \n",
       "        <th class=\"blank level0\" ></th> \n",
       "        <th class=\"col_heading level0 col0\" >Relative number of protest</th> \n",
       "        <th class=\"col_heading level0 col1\" >Confidence in national government</th> \n",
       "        <th class=\"col_heading level0 col2\" >Democratic Quality</th> \n",
       "        <th class=\"col_heading level0 col3\" >Happiness score</th> \n",
       "        <th class=\"col_heading level0 col4\" >Perceptions of corruption</th> \n",
       "    </tr></thead> \n",
       "<tbody>    <tr> \n",
       "        <th id=\"T_d7c135ba_fe27_11e8_b613_a8bbcf242840level0_row0\" class=\"row_heading level0 row0\" >Relative number of protest</th> \n",
       "        <td id=\"T_d7c135ba_fe27_11e8_b613_a8bbcf242840row0_col0\" class=\"data row0 col0\" >1</td> \n",
       "        <td id=\"T_d7c135ba_fe27_11e8_b613_a8bbcf242840row0_col1\" class=\"data row0 col1\" >-0.174152</td> \n",
       "        <td id=\"T_d7c135ba_fe27_11e8_b613_a8bbcf242840row0_col2\" class=\"data row0 col2\" >-0.199675</td> \n",
       "        <td id=\"T_d7c135ba_fe27_11e8_b613_a8bbcf242840row0_col3\" class=\"data row0 col3\" >-0.184985</td> \n",
       "        <td id=\"T_d7c135ba_fe27_11e8_b613_a8bbcf242840row0_col4\" class=\"data row0 col4\" >0.225235</td> \n",
       "    </tr>    <tr> \n",
       "        <th id=\"T_d7c135ba_fe27_11e8_b613_a8bbcf242840level0_row1\" class=\"row_heading level0 row1\" >Confidence in national government</th> \n",
       "        <td id=\"T_d7c135ba_fe27_11e8_b613_a8bbcf242840row1_col0\" class=\"data row1 col0\" >-0.174152</td> \n",
       "        <td id=\"T_d7c135ba_fe27_11e8_b613_a8bbcf242840row1_col1\" class=\"data row1 col1\" >1</td> \n",
       "        <td id=\"T_d7c135ba_fe27_11e8_b613_a8bbcf242840row1_col2\" class=\"data row1 col2\" >-0.270167</td> \n",
       "        <td id=\"T_d7c135ba_fe27_11e8_b613_a8bbcf242840row1_col3\" class=\"data row1 col3\" >-0.180481</td> \n",
       "        <td id=\"T_d7c135ba_fe27_11e8_b613_a8bbcf242840row1_col4\" class=\"data row1 col4\" >-0.446626</td> \n",
       "    </tr>    <tr> \n",
       "        <th id=\"T_d7c135ba_fe27_11e8_b613_a8bbcf242840level0_row2\" class=\"row_heading level0 row2\" >Democratic Quality</th> \n",
       "        <td id=\"T_d7c135ba_fe27_11e8_b613_a8bbcf242840row2_col0\" class=\"data row2 col0\" >-0.199675</td> \n",
       "        <td id=\"T_d7c135ba_fe27_11e8_b613_a8bbcf242840row2_col1\" class=\"data row2 col1\" >-0.270167</td> \n",
       "        <td id=\"T_d7c135ba_fe27_11e8_b613_a8bbcf242840row2_col2\" class=\"data row2 col2\" >1</td> \n",
       "        <td id=\"T_d7c135ba_fe27_11e8_b613_a8bbcf242840row2_col3\" class=\"data row2 col3\" >0.69385</td> \n",
       "        <td id=\"T_d7c135ba_fe27_11e8_b613_a8bbcf242840row2_col4\" class=\"data row2 col4\" >-0.292589</td> \n",
       "    </tr>    <tr> \n",
       "        <th id=\"T_d7c135ba_fe27_11e8_b613_a8bbcf242840level0_row3\" class=\"row_heading level0 row3\" >Happiness score</th> \n",
       "        <td id=\"T_d7c135ba_fe27_11e8_b613_a8bbcf242840row3_col0\" class=\"data row3 col0\" >-0.184985</td> \n",
       "        <td id=\"T_d7c135ba_fe27_11e8_b613_a8bbcf242840row3_col1\" class=\"data row3 col1\" >-0.180481</td> \n",
       "        <td id=\"T_d7c135ba_fe27_11e8_b613_a8bbcf242840row3_col2\" class=\"data row3 col2\" >0.69385</td> \n",
       "        <td id=\"T_d7c135ba_fe27_11e8_b613_a8bbcf242840row3_col3\" class=\"data row3 col3\" >1</td> \n",
       "        <td id=\"T_d7c135ba_fe27_11e8_b613_a8bbcf242840row3_col4\" class=\"data row3 col4\" >-0.447212</td> \n",
       "    </tr>    <tr> \n",
       "        <th id=\"T_d7c135ba_fe27_11e8_b613_a8bbcf242840level0_row4\" class=\"row_heading level0 row4\" >Perceptions of corruption</th> \n",
       "        <td id=\"T_d7c135ba_fe27_11e8_b613_a8bbcf242840row4_col0\" class=\"data row4 col0\" >0.225235</td> \n",
       "        <td id=\"T_d7c135ba_fe27_11e8_b613_a8bbcf242840row4_col1\" class=\"data row4 col1\" >-0.446626</td> \n",
       "        <td id=\"T_d7c135ba_fe27_11e8_b613_a8bbcf242840row4_col2\" class=\"data row4 col2\" >-0.292589</td> \n",
       "        <td id=\"T_d7c135ba_fe27_11e8_b613_a8bbcf242840row4_col3\" class=\"data row4 col3\" >-0.447212</td> \n",
       "        <td id=\"T_d7c135ba_fe27_11e8_b613_a8bbcf242840row4_col4\" class=\"data row4 col4\" >1</td> \n",
       "    </tr></tbody> \n",
       "</table> "
      ],
      "text/plain": [
       "<pandas.io.formats.style.Styler at 0x1a0cb3b7b8>"
      ]
     },
     "execution_count": 13,
     "metadata": {},
     "output_type": "execute_result"
    }
   ],
   "source": [
    "corr = relative_mentions[['Relative number of protest', 'Confidence in national government', \\\n",
    "                          'Democratic Quality', 'Happiness score', 'Perceptions of corruption']].corr()\n",
    "corr.style.background_gradient()"
   ]
  },
  {
   "cell_type": "code",
   "execution_count": 14,
   "metadata": {},
   "outputs": [
    {
     "data": {
      "image/png": "[encoded data removed]",
      "text/plain": [
       "<Figure size 2160x720 with 4 Axes>"
      ]
     },
     "metadata": {},
     "output_type": "display_data"
    }
   ],
   "source": [
    "fig, axs = plt.subplots(2, 2, figsize=(30, 10))\n",
    "\n",
    "#axs[0][0].set_title(\"Relation between democratic quality and number of protests\")\n",
    "_=sn.regplot('Confidence in national government', 'Relative number of protest', data=relative_mentions, ax=axs[0][0])\n",
    "\n",
    "#axs[0][1].set_title('Relation between population and number of protests ')\n",
    "_=sn.regplot('Democratic Quality', 'Relative number of protest', data=relative_mentions, ax=axs[0][1])\n",
    "\n",
    "#axs[1][0].set_title(\"Relation between democratic quality and number of protests\")\n",
    "_=sn.regplot('Happiness score', 'Relative number of protest', data=relative_mentions, ax=axs[1][0])\n",
    "\n",
    "#axs[1][1].set_title('Relation between population and number of protests ')\n",
    "_=sn.regplot('Perceptions of corruption', 'Relative number of protest', data=relative_mentions, ax=axs[1][1])"
   ]
  },
  {
   "cell_type": "markdown",
   "metadata": {},
   "source": [
    "For plotting the box plots for each relation, we bootstrapped and adopted the following methodology:\n",
    "\n",
    "1.) We bootstrapped the pearson coefficient. To this end, we sampled 500 times the original data (each sample size is the length of the data). From each sample we calculated the pearson coefficient.\n",
    "\n",
    "2.) We computed the mean of all the pearson coefficients calculated from each sample separetly.\n",
    "\n",
    "3.) We converted the average pearson coefficient to Fisher's z' parameter with the following formula: \n",
    "$z'= \\frac{log(\\frac{1+r}{1-r})}{2}$\n",
    "\n",
    "4.) $\\textbf{CI}=[z'-t\\cdot\\sigma ; \\ \\ z'+t\\cdot\\sigma]$, where $t=1.96$ and $\\sigma = \\frac{1}{\\sqrt{N-3}}$, where N is the sample size. $t=1.96$ given by the quantiles from the bootstrap distribution of the Student's t-test with 999 degrees of freedom for a 95% confidence interval.\n",
    "\n",
    "5.) The final step is converting back the confidence interval limits to average pearson coefficient with the following formula:\n",
    "$r = \\frac{e^{2z'}-1}{e^{2z'}+1}$"
   ]
  },
  {
   "cell_type": "code",
   "execution_count": 15,
   "metadata": {},
   "outputs": [],
   "source": [
    "def bootstrapping(data, number_of_sample, features, t=1.96):\n",
    "    feature1 = features[0]\n",
    "    feature2 = features[1]\n",
    "    r = []\n",
    "    sample_size = len(data)\n",
    "    for i in range(number_of_sample):\n",
    "        rnd_idx = np.random.randint(0, len(data), size=sample_size)\n",
    "        data_sampled = data.iloc[rnd_idx]\n",
    "        pearson_coeff = sp.stats.pearsonr(data_sampled[feature1], data_sampled[feature2])[0]\n",
    "        # if the sample contains only identical values, the std is zero and pearsonr return NaN because of \n",
    "        # an impossible division by zero\n",
    "        if not math.isnan(pearson_coeff):\n",
    "            r.append(pearson_coeff)\n",
    "     \n",
    "    r_mean = np.mean(r) \n",
    "    z = np.log((1+r_mean)/(1-r_mean))/2\n",
    "    std_err = 1/np.sqrt(sample_size-3)\n",
    "    lower_z = z - std_err*t\n",
    "    upper_z = z + std_err*t\n",
    "    \n",
    "    lower_r = (np.exp(2*lower_z)-1)/(np.exp(2*lower_z)+1)\n",
    "    upper_r = (np.exp(2*upper_z)-1)/(np.exp(2*upper_z)+1)\n",
    "    CI = (lower_r, upper_r)\n",
    "    return r , CI"
   ]
  },
  {
   "cell_type": "code",
   "execution_count": 16,
   "metadata": {},
   "outputs": [
    {
     "data": {
      "text/plain": [
       "<Figure size 7200x7200 with 0 Axes>"
      ]
     },
     "execution_count": 16,
     "metadata": {},
     "output_type": "execute_result"
    },
    {
     "data": {
      "image/png": "[encoded data removed]",
      "text/plain": [
       "<Figure size 432x288 with 1 Axes>"
      ]
     },
     "metadata": {},
     "output_type": "display_data"
    },
    {
     "data": {
      "text/plain": [
       "<Figure size 7200x7200 with 0 Axes>"
      ]
     },
     "metadata": {},
     "output_type": "display_data"
    }
   ],
   "source": [
    "number_of_sample = 200\n",
    "\n",
    "confidence_in_gov_coefs, confidence_in_gov_coef_ci = bootstrapping(relative_mentions, \\\n",
    "                                                                   number_of_sample, \\\n",
    "                                                                   features=['Confidence in national government', \\\n",
    "                                                                             'Relative number of protest' \\\n",
    "                                                                            ] \\\n",
    "                                                                  )\n",
    "\n",
    "democratic_quality_coefs, democratic_quality_coef_ci = bootstrapping(relative_mentions, \\\n",
    "                                                                     number_of_sample, \\\n",
    "                                                                     features=['Democratic Quality', \\\n",
    "                                                                               'Relative number of protest' \\\n",
    "                                                                              ] \\\n",
    "                                                                    )\n",
    "\n",
    "happiness_coefs, happiness_coef_ci = bootstrapping(relative_mentions, \\\n",
    "                                                   number_of_sample, \\\n",
    "                                                   features=['Happiness score', \\\n",
    "                                                             'Relative number of protest' \\\n",
    "                                                            ] \\\n",
    "                                                  )\n",
    "\n",
    "corruption_coefs, corruption_coef_ci = bootstrapping(relative_mentions, \\\n",
    "                                                     number_of_sample, \\\n",
    "                                                     features=['Perceptions of corruption', \\\n",
    "                                                               'Relative number of protest' \\\n",
    "                                                              ] \\\n",
    "                                                    )\n",
    "\n",
    "\n",
    "_=plt.boxplot([confidence_in_gov_coefs, democratic_quality_coefs, happiness_coefs, corruption_coefs], \\\n",
    "              conf_intervals=[confidence_in_gov_coef_ci, democratic_quality_coef_ci, \\\n",
    "                              happiness_coef_ci, corruption_coef_ci \\\n",
    "                             ], \\\n",
    "               manage_xticks = True \\\n",
    "             )\n",
    "\n",
    "x = [1, 2, 3, 4]\n",
    "labels=[\"Confidence in national government\", \"Democracy Quality\", \"Happiness score\", \"Perceptions of corruption\" ]\n",
    "plt.xticks(x, labels, rotation='vertical')\n",
    "plt.grid(True)\n",
    "plt.figure(figsize=(100,100))\n"
   ]
  },
  {
   "cell_type": "code",
   "execution_count": 17,
   "metadata": {},
   "outputs": [
    {
     "data": {
      "text/plain": [
       "(135, 11)"
      ]
     },
     "execution_count": 17,
     "metadata": {},
     "output_type": "execute_result"
    }
   ],
   "source": [
    "relative_mentions.shape"
   ]
  }
 ],
 "metadata": {
  "kernelspec": {
   "display_name": "Python 3",
   "language": "python",
   "name": "python3"
  },
  "language_info": {
   "codemirror_mode": {
    "name": "ipython",
    "version": 3
   },
   "file_extension": ".py",
   "mimetype": "text/x-python",
   "name": "python",
   "nbconvert_exporter": "python",
   "pygments_lexer": "ipython3",
   "version": "3.6.5"
  }
 },
 "nbformat": 4,
 "nbformat_minor": 2
}

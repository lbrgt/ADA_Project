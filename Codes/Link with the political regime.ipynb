{
 "cells": [
  {
   "cell_type": "code",
   "execution_count": 54,
   "metadata": {},
   "outputs": [],
   "source": [
    "from IPython.display import IFrame\n",
    "import folium\n",
    "import json\n",
    "import pandas as pd\n",
    "import seaborn as sns\n",
    "import matplotlib.pyplot as plt\n",
    "from branca.colormap import LinearColormap, StepColormap, linear\n",
    "import numpy as np"
   ]
  },
  {
   "cell_type": "code",
   "execution_count": 2,
   "metadata": {},
   "outputs": [
    {
     "data": {
      "text/html": [
       "<div>\n",
       "<style scoped>\n",
       "    .dataframe tbody tr th:only-of-type {\n",
       "        vertical-align: middle;\n",
       "    }\n",
       "\n",
       "    .dataframe tbody tr th {\n",
       "        vertical-align: top;\n",
       "    }\n",
       "\n",
       "    .dataframe thead th {\n",
       "        text-align: right;\n",
       "    }\n",
       "</style>\n",
       "<table border=\"1\" class=\"dataframe\">\n",
       "  <thead>\n",
       "    <tr style=\"text-align: right;\">\n",
       "      <th></th>\n",
       "      <th>country</th>\n",
       "      <th>year</th>\n",
       "      <th>Democratic Quality</th>\n",
       "    </tr>\n",
       "  </thead>\n",
       "  <tbody>\n",
       "    <tr>\n",
       "      <th>0</th>\n",
       "      <td>Afghanistan</td>\n",
       "      <td>2008</td>\n",
       "      <td>-1.929690</td>\n",
       "    </tr>\n",
       "    <tr>\n",
       "      <th>1</th>\n",
       "      <td>Afghanistan</td>\n",
       "      <td>2009</td>\n",
       "      <td>-2.044093</td>\n",
       "    </tr>\n",
       "    <tr>\n",
       "      <th>2</th>\n",
       "      <td>Afghanistan</td>\n",
       "      <td>2010</td>\n",
       "      <td>-1.991810</td>\n",
       "    </tr>\n",
       "    <tr>\n",
       "      <th>3</th>\n",
       "      <td>Afghanistan</td>\n",
       "      <td>2011</td>\n",
       "      <td>-1.919018</td>\n",
       "    </tr>\n",
       "    <tr>\n",
       "      <th>4</th>\n",
       "      <td>Afghanistan</td>\n",
       "      <td>2012</td>\n",
       "      <td>-1.842996</td>\n",
       "    </tr>\n",
       "  </tbody>\n",
       "</table>\n",
       "</div>"
      ],
      "text/plain": [
       "       country  year  Democratic Quality\n",
       "0  Afghanistan  2008           -1.929690\n",
       "1  Afghanistan  2009           -2.044093\n",
       "2  Afghanistan  2010           -1.991810\n",
       "3  Afghanistan  2011           -1.919018\n",
       "4  Afghanistan  2012           -1.842996"
      ]
     },
     "execution_count": 2,
     "metadata": {},
     "output_type": "execute_result"
    }
   ],
   "source": [
    "DemocraticQualityData = pd.read_excel('../Data/HappinessData.xls', sheet_name = 'Table2.1', usecols=\"A,B,M\")\n",
    "DemocraticQualityData.head()"
   ]
  },
  {
   "cell_type": "code",
   "execution_count": 3,
   "metadata": {},
   "outputs": [],
   "source": [
    "# Get the more recent Democratic Quality score --> should we take the mean ?\n",
    "DemocraticQualityData = DemocraticQualityData.sort_values('year', ascending=False)\\\n",
    "    .groupby(\"country\").first()"
   ]
  },
  {
   "cell_type": "code",
   "execution_count": 4,
   "metadata": {},
   "outputs": [
    {
     "data": {
      "text/html": [
       "<div>\n",
       "<style scoped>\n",
       "    .dataframe tbody tr th:only-of-type {\n",
       "        vertical-align: middle;\n",
       "    }\n",
       "\n",
       "    .dataframe tbody tr th {\n",
       "        vertical-align: top;\n",
       "    }\n",
       "\n",
       "    .dataframe thead th {\n",
       "        text-align: right;\n",
       "    }\n",
       "</style>\n",
       "<table border=\"1\" class=\"dataframe\">\n",
       "  <thead>\n",
       "    <tr style=\"text-align: right;\">\n",
       "      <th></th>\n",
       "      <th>Democratic Quality</th>\n",
       "    </tr>\n",
       "    <tr>\n",
       "      <th>country</th>\n",
       "      <th></th>\n",
       "    </tr>\n",
       "  </thead>\n",
       "  <tbody>\n",
       "    <tr>\n",
       "      <th>Afghanistan</th>\n",
       "      <td>-1.917693</td>\n",
       "    </tr>\n",
       "    <tr>\n",
       "      <th>Albania</th>\n",
       "      <td>0.208456</td>\n",
       "    </tr>\n",
       "    <tr>\n",
       "      <th>Algeria</th>\n",
       "      <td>-1.008262</td>\n",
       "    </tr>\n",
       "    <tr>\n",
       "      <th>Angola</th>\n",
       "      <td>-0.739363</td>\n",
       "    </tr>\n",
       "    <tr>\n",
       "      <th>Argentina</th>\n",
       "      <td>0.381370</td>\n",
       "    </tr>\n",
       "  </tbody>\n",
       "</table>\n",
       "</div>"
      ],
      "text/plain": [
       "             Democratic Quality\n",
       "country                        \n",
       "Afghanistan           -1.917693\n",
       "Albania                0.208456\n",
       "Algeria               -1.008262\n",
       "Angola                -0.739363\n",
       "Argentina              0.381370"
      ]
     },
     "execution_count": 4,
     "metadata": {},
     "output_type": "execute_result"
    }
   ],
   "source": [
    "DemocraticQualityData = DemocraticQualityData.drop('year', axis=1)\n",
    "DemocraticQualityData.head()"
   ]
  },
  {
   "cell_type": "code",
   "execution_count": 5,
   "metadata": {},
   "outputs": [],
   "source": [
    "#FIPS_codes = pd.read_csv('../Data/fips-country-codes.csv', usecols = ['Name', 'FIPS 10-4'])\n",
    "#print(FIPS_codes)"
   ]
  },
  {
   "cell_type": "code",
   "execution_count": 6,
   "metadata": {},
   "outputs": [
    {
     "data": {
      "text/html": [
       "<div>\n",
       "<style scoped>\n",
       "    .dataframe tbody tr th:only-of-type {\n",
       "        vertical-align: middle;\n",
       "    }\n",
       "\n",
       "    .dataframe tbody tr th {\n",
       "        vertical-align: top;\n",
       "    }\n",
       "\n",
       "    .dataframe thead th {\n",
       "        text-align: right;\n",
       "    }\n",
       "</style>\n",
       "<table border=\"1\" class=\"dataframe\">\n",
       "  <thead>\n",
       "    <tr style=\"text-align: right;\">\n",
       "      <th></th>\n",
       "      <th>FIPS</th>\n",
       "      <th>country</th>\n",
       "    </tr>\n",
       "  </thead>\n",
       "  <tbody>\n",
       "    <tr>\n",
       "      <th>0</th>\n",
       "      <td>AN</td>\n",
       "      <td>Andorra</td>\n",
       "    </tr>\n",
       "    <tr>\n",
       "      <th>1</th>\n",
       "      <td>AE</td>\n",
       "      <td>United Arab Emirates</td>\n",
       "    </tr>\n",
       "    <tr>\n",
       "      <th>2</th>\n",
       "      <td>AF</td>\n",
       "      <td>Afghanistan</td>\n",
       "    </tr>\n",
       "    <tr>\n",
       "      <th>3</th>\n",
       "      <td>AC</td>\n",
       "      <td>Antigua and Barbuda</td>\n",
       "    </tr>\n",
       "    <tr>\n",
       "      <th>4</th>\n",
       "      <td>AV</td>\n",
       "      <td>Anguilla</td>\n",
       "    </tr>\n",
       "  </tbody>\n",
       "</table>\n",
       "</div>"
      ],
      "text/plain": [
       "  FIPS               country\n",
       "0   AN               Andorra\n",
       "1   AE  United Arab Emirates\n",
       "2   AF           Afghanistan\n",
       "3   AC   Antigua and Barbuda\n",
       "4   AV              Anguilla"
      ]
     },
     "execution_count": 6,
     "metadata": {},
     "output_type": "execute_result"
    }
   ],
   "source": [
    "FIPS_codes = pd.read_csv('../Data/fipscountries.csv', usecols = ['country', 'fips'])\\\n",
    "    .rename(index=str, columns={'fips':'FIPS'})\n",
    "FIPS_codes.head()"
   ]
  },
  {
   "cell_type": "code",
   "execution_count": 7,
   "metadata": {},
   "outputs": [
    {
     "data": {
      "text/html": [
       "<div>\n",
       "<style scoped>\n",
       "    .dataframe tbody tr th:only-of-type {\n",
       "        vertical-align: middle;\n",
       "    }\n",
       "\n",
       "    .dataframe tbody tr th {\n",
       "        vertical-align: top;\n",
       "    }\n",
       "\n",
       "    .dataframe thead th {\n",
       "        text-align: right;\n",
       "    }\n",
       "</style>\n",
       "<table border=\"1\" class=\"dataframe\">\n",
       "  <thead>\n",
       "    <tr style=\"text-align: right;\">\n",
       "      <th></th>\n",
       "      <th>country</th>\n",
       "      <th>Democratic Quality</th>\n",
       "      <th>FIPS</th>\n",
       "    </tr>\n",
       "  </thead>\n",
       "  <tbody>\n",
       "    <tr>\n",
       "      <th>0</th>\n",
       "      <td>Afghanistan</td>\n",
       "      <td>-1.917693</td>\n",
       "      <td>AF</td>\n",
       "    </tr>\n",
       "    <tr>\n",
       "      <th>1</th>\n",
       "      <td>Albania</td>\n",
       "      <td>0.208456</td>\n",
       "      <td>AL</td>\n",
       "    </tr>\n",
       "    <tr>\n",
       "      <th>2</th>\n",
       "      <td>Algeria</td>\n",
       "      <td>-1.008262</td>\n",
       "      <td>AG</td>\n",
       "    </tr>\n",
       "    <tr>\n",
       "      <th>3</th>\n",
       "      <td>Angola</td>\n",
       "      <td>-0.739363</td>\n",
       "      <td>AO</td>\n",
       "    </tr>\n",
       "    <tr>\n",
       "      <th>4</th>\n",
       "      <td>Argentina</td>\n",
       "      <td>0.381370</td>\n",
       "      <td>AR</td>\n",
       "    </tr>\n",
       "  </tbody>\n",
       "</table>\n",
       "</div>"
      ],
      "text/plain": [
       "       country  Democratic Quality FIPS\n",
       "0  Afghanistan           -1.917693   AF\n",
       "1      Albania            0.208456   AL\n",
       "2      Algeria           -1.008262   AG\n",
       "3       Angola           -0.739363   AO\n",
       "4    Argentina            0.381370   AR"
      ]
     },
     "execution_count": 7,
     "metadata": {},
     "output_type": "execute_result"
    }
   ],
   "source": [
    "DemocraticQuality_byFIPS = DemocraticQualityData.merge(FIPS_codes, left_on='country', right_on='country')\n",
    "DemocraticQuality_byFIPS.head()"
   ]
  },
  {
   "cell_type": "code",
   "execution_count": 8,
   "metadata": {},
   "outputs": [
    {
     "data": {
      "text/plain": [
       "count    155.000000\n",
       "mean      -0.167136\n",
       "std        0.877713\n",
       "min       -2.448228\n",
       "25%       -0.738321\n",
       "50%       -0.270198\n",
       "75%        0.524382\n",
       "max        1.467140\n",
       "Name: Democratic Quality, dtype: float64"
      ]
     },
     "execution_count": 8,
     "metadata": {},
     "output_type": "execute_result"
    }
   ],
   "source": [
    "DemocraticQuality_byFIPS['Democratic Quality'].describe()"
   ]
  },
  {
   "cell_type": "code",
   "execution_count": 9,
   "metadata": {},
   "outputs": [
    {
     "data": {
      "text/html": [
       "<div>\n",
       "<style scoped>\n",
       "    .dataframe tbody tr th:only-of-type {\n",
       "        vertical-align: middle;\n",
       "    }\n",
       "\n",
       "    .dataframe tbody tr th {\n",
       "        vertical-align: top;\n",
       "    }\n",
       "\n",
       "    .dataframe thead th {\n",
       "        text-align: right;\n",
       "    }\n",
       "</style>\n",
       "<table border=\"1\" class=\"dataframe\">\n",
       "  <thead>\n",
       "    <tr style=\"text-align: right;\">\n",
       "      <th></th>\n",
       "      <th>country</th>\n",
       "      <th>Democratic Quality</th>\n",
       "      <th>FIPS</th>\n",
       "      <th>Democratic Quality binned</th>\n",
       "    </tr>\n",
       "  </thead>\n",
       "  <tbody>\n",
       "    <tr>\n",
       "      <th>0</th>\n",
       "      <td>Afghanistan</td>\n",
       "      <td>-1.917693</td>\n",
       "      <td>AF</td>\n",
       "      <td>(-2.0, -1.5]</td>\n",
       "    </tr>\n",
       "    <tr>\n",
       "      <th>1</th>\n",
       "      <td>Albania</td>\n",
       "      <td>0.208456</td>\n",
       "      <td>AL</td>\n",
       "      <td>(0.0, 0.5]</td>\n",
       "    </tr>\n",
       "    <tr>\n",
       "      <th>2</th>\n",
       "      <td>Algeria</td>\n",
       "      <td>-1.008262</td>\n",
       "      <td>AG</td>\n",
       "      <td>(-1.5, -1.0]</td>\n",
       "    </tr>\n",
       "    <tr>\n",
       "      <th>3</th>\n",
       "      <td>Angola</td>\n",
       "      <td>-0.739363</td>\n",
       "      <td>AO</td>\n",
       "      <td>(-1.0, -0.5]</td>\n",
       "    </tr>\n",
       "    <tr>\n",
       "      <th>4</th>\n",
       "      <td>Argentina</td>\n",
       "      <td>0.381370</td>\n",
       "      <td>AR</td>\n",
       "      <td>(0.0, 0.5]</td>\n",
       "    </tr>\n",
       "  </tbody>\n",
       "</table>\n",
       "</div>"
      ],
      "text/plain": [
       "       country  Democratic Quality FIPS Democratic Quality binned\n",
       "0  Afghanistan           -1.917693   AF              (-2.0, -1.5]\n",
       "1      Albania            0.208456   AL                (0.0, 0.5]\n",
       "2      Algeria           -1.008262   AG              (-1.5, -1.0]\n",
       "3       Angola           -0.739363   AO              (-1.0, -0.5]\n",
       "4    Argentina            0.381370   AR                (0.0, 0.5]"
      ]
     },
     "execution_count": 9,
     "metadata": {},
     "output_type": "execute_result"
    }
   ],
   "source": [
    "# Split DemocraticQuality index into bins in order to group countries with similar index\n",
    "DemocraticQuality_byFIPS['Democratic Quality binned']=pd.cut(DemocraticQuality_byFIPS['Democratic Quality'],\\\n",
    "                                                             bins = [-2.5, -2, -1.5, -1, -0.5, 0, 0.5, 1, 1.5])\n",
    "DemocraticQuality_byFIPS.head()"
   ]
  },
  {
   "cell_type": "code",
   "execution_count": 10,
   "metadata": {},
   "outputs": [
    {
     "data": {
      "text/html": [
       "<div>\n",
       "<style scoped>\n",
       "    .dataframe tbody tr th:only-of-type {\n",
       "        vertical-align: middle;\n",
       "    }\n",
       "\n",
       "    .dataframe tbody tr th {\n",
       "        vertical-align: top;\n",
       "    }\n",
       "\n",
       "    .dataframe thead th {\n",
       "        text-align: right;\n",
       "    }\n",
       "</style>\n",
       "<table border=\"1\" class=\"dataframe\">\n",
       "  <thead>\n",
       "    <tr style=\"text-align: right;\">\n",
       "      <th></th>\n",
       "      <th>Democratic_Quality_binned</th>\n",
       "      <th>FIPS</th>\n",
       "    </tr>\n",
       "  </thead>\n",
       "  <tbody>\n",
       "    <tr>\n",
       "      <th>0</th>\n",
       "      <td>(-2.5, -2.0]</td>\n",
       "      <td>[SO, OD, SU, SY, YM]</td>\n",
       "    </tr>\n",
       "    <tr>\n",
       "      <th>1</th>\n",
       "      <td>(-2.0, -1.5]</td>\n",
       "      <td>[AF, ET, IZ, LY, PK]</td>\n",
       "    </tr>\n",
       "    <tr>\n",
       "      <th>2</th>\n",
       "      <td>(-1.5, -1.0]</td>\n",
       "      <td>[AG, AJ, BA, CT, CD, CH, EG, IR, LE, NI, RS, S...</td>\n",
       "    </tr>\n",
       "    <tr>\n",
       "      <th>3</th>\n",
       "      <td>(-1.0, -0.5]</td>\n",
       "      <td>[AO, AM, BG, BO, BY, CM, CU, DJ, GB, GV, HA, I...</td>\n",
       "    </tr>\n",
       "    <tr>\n",
       "      <th>4</th>\n",
       "      <td>(-0.5, 0.0]</td>\n",
       "      <td>[BL, BK, UV, CB, CO, CN, EC, GG, GT, GY, HO, I...</td>\n",
       "    </tr>\n",
       "  </tbody>\n",
       "</table>\n",
       "</div>"
      ],
      "text/plain": [
       "  Democratic_Quality_binned                                               FIPS\n",
       "0              (-2.5, -2.0]                               [SO, OD, SU, SY, YM]\n",
       "1              (-2.0, -1.5]                               [AF, ET, IZ, LY, PK]\n",
       "2              (-1.5, -1.0]  [AG, AJ, BA, CT, CD, CH, EG, IR, LE, NI, RS, S...\n",
       "3              (-1.0, -0.5]  [AO, AM, BG, BO, BY, CM, CU, DJ, GB, GV, HA, I...\n",
       "4               (-0.5, 0.0]  [BL, BK, UV, CB, CO, CN, EC, GG, GT, GY, HO, I..."
      ]
     },
     "execution_count": 10,
     "metadata": {},
     "output_type": "execute_result"
    }
   ],
   "source": [
    "list_by_bin = DemocraticQuality_byFIPS.groupby('Democratic Quality binned')['FIPS'].apply(list)\n",
    "\n",
    "binned_DemocraticQuality = pd.DataFrame(list_by_bin)\n",
    "binned_DemocraticQuality = binned_DemocraticQuality.reset_index()\n",
    "binned_DemocraticQuality = binned_DemocraticQuality.rename(index=str, columns={'Democratic Quality binned':'Democratic_Quality_binned'})\n",
    "\n",
    "binned_DemocraticQuality.head()"
   ]
  },
  {
   "cell_type": "code",
   "execution_count": 11,
   "metadata": {},
   "outputs": [],
   "source": [
    "binned_DemocraticQuality.to_csv('binned_DemocraticQuality_FIPS', header=False, index=False)"
   ]
  },
  {
   "cell_type": "code",
   "execution_count": 12,
   "metadata": {},
   "outputs": [
    {
     "data": {
      "text/html": [
       "<div>\n",
       "<style scoped>\n",
       "    .dataframe tbody tr th:only-of-type {\n",
       "        vertical-align: middle;\n",
       "    }\n",
       "\n",
       "    .dataframe tbody tr th {\n",
       "        vertical-align: top;\n",
       "    }\n",
       "\n",
       "    .dataframe thead th {\n",
       "        text-align: right;\n",
       "    }\n",
       "</style>\n",
       "<table border=\"1\" class=\"dataframe\">\n",
       "  <thead>\n",
       "    <tr style=\"text-align: right;\">\n",
       "      <th></th>\n",
       "      <th>FIPS</th>\n",
       "      <th>AverageTone</th>\n",
       "    </tr>\n",
       "  </thead>\n",
       "  <tbody>\n",
       "    <tr>\n",
       "      <th>0</th>\n",
       "      <td>IT</td>\n",
       "      <td>-1.226632</td>\n",
       "    </tr>\n",
       "    <tr>\n",
       "      <th>1</th>\n",
       "      <td>WA</td>\n",
       "      <td>-2.156439</td>\n",
       "    </tr>\n",
       "    <tr>\n",
       "      <th>2</th>\n",
       "      <td>CM</td>\n",
       "      <td>-2.944971</td>\n",
       "    </tr>\n",
       "    <tr>\n",
       "      <th>3</th>\n",
       "      <td>ML</td>\n",
       "      <td>-1.462604</td>\n",
       "    </tr>\n",
       "    <tr>\n",
       "      <th>4</th>\n",
       "      <td>MG</td>\n",
       "      <td>-0.242109</td>\n",
       "    </tr>\n",
       "  </tbody>\n",
       "</table>\n",
       "</div>"
      ],
      "text/plain": [
       "  FIPS  AverageTone\n",
       "0   IT    -1.226632\n",
       "1   WA    -2.156439\n",
       "2   CM    -2.944971\n",
       "3   ML    -1.462604\n",
       "4   MG    -0.242109"
      ]
     },
     "execution_count": 12,
     "metadata": {},
     "output_type": "execute_result"
    }
   ],
   "source": [
    "averageTone_FIPS = pd.read_csv('../Data/avgToneBySourceLocation_table.csv')\n",
    "averageTone_FIPS.head()"
   ]
  },
  {
   "cell_type": "code",
   "execution_count": 13,
   "metadata": {},
   "outputs": [
    {
     "data": {
      "text/html": [
       "<div>\n",
       "<style scoped>\n",
       "    .dataframe tbody tr th:only-of-type {\n",
       "        vertical-align: middle;\n",
       "    }\n",
       "\n",
       "    .dataframe tbody tr th {\n",
       "        vertical-align: top;\n",
       "    }\n",
       "\n",
       "    .dataframe thead th {\n",
       "        text-align: right;\n",
       "    }\n",
       "</style>\n",
       "<table border=\"1\" class=\"dataframe\">\n",
       "  <thead>\n",
       "    <tr style=\"text-align: right;\">\n",
       "      <th></th>\n",
       "      <th>country</th>\n",
       "      <th>Democratic Quality</th>\n",
       "      <th>FIPS</th>\n",
       "      <th>Democratic Quality binned</th>\n",
       "      <th>AverageTone</th>\n",
       "    </tr>\n",
       "  </thead>\n",
       "  <tbody>\n",
       "    <tr>\n",
       "      <th>0</th>\n",
       "      <td>Afghanistan</td>\n",
       "      <td>-1.917693</td>\n",
       "      <td>AF</td>\n",
       "      <td>(-2.0, -1.5]</td>\n",
       "      <td>-3.374755</td>\n",
       "    </tr>\n",
       "    <tr>\n",
       "      <th>1</th>\n",
       "      <td>Albania</td>\n",
       "      <td>0.208456</td>\n",
       "      <td>AL</td>\n",
       "      <td>(0.0, 0.5]</td>\n",
       "      <td>-1.843297</td>\n",
       "    </tr>\n",
       "    <tr>\n",
       "      <th>2</th>\n",
       "      <td>Algeria</td>\n",
       "      <td>-1.008262</td>\n",
       "      <td>AG</td>\n",
       "      <td>(-1.5, -1.0]</td>\n",
       "      <td>-2.045113</td>\n",
       "    </tr>\n",
       "    <tr>\n",
       "      <th>3</th>\n",
       "      <td>Angola</td>\n",
       "      <td>-0.739363</td>\n",
       "      <td>AO</td>\n",
       "      <td>(-1.0, -0.5]</td>\n",
       "      <td>-1.026558</td>\n",
       "    </tr>\n",
       "    <tr>\n",
       "      <th>4</th>\n",
       "      <td>Argentina</td>\n",
       "      <td>0.381370</td>\n",
       "      <td>AR</td>\n",
       "      <td>(0.0, 0.5]</td>\n",
       "      <td>-1.964747</td>\n",
       "    </tr>\n",
       "  </tbody>\n",
       "</table>\n",
       "</div>"
      ],
      "text/plain": [
       "       country  Democratic Quality FIPS Democratic Quality binned  AverageTone\n",
       "0  Afghanistan           -1.917693   AF              (-2.0, -1.5]    -3.374755\n",
       "1      Albania            0.208456   AL                (0.0, 0.5]    -1.843297\n",
       "2      Algeria           -1.008262   AG              (-1.5, -1.0]    -2.045113\n",
       "3       Angola           -0.739363   AO              (-1.0, -0.5]    -1.026558\n",
       "4    Argentina            0.381370   AR                (0.0, 0.5]    -1.964747"
      ]
     },
     "execution_count": 13,
     "metadata": {},
     "output_type": "execute_result"
    }
   ],
   "source": [
    "DemocraticQuality_AvgTone_byFIPS = DemocraticQuality_byFIPS.merge(averageTone_FIPS, left_on='FIPS', right_on='FIPS')\n",
    "DemocraticQuality_AvgTone_byFIPS.head()"
   ]
  },
  {
   "cell_type": "code",
   "execution_count": 14,
   "metadata": {},
   "outputs": [
    {
     "data": {
      "text/plain": [
       "Democratic Quality binned\n",
       "(-2.5, -2.0]   -2.631084\n",
       "(-2.0, -1.5]   -2.574403\n",
       "(-1.5, -1.0]   -1.635941\n",
       "(-1.0, -0.5]   -1.562412\n",
       "(-0.5, 0.0]    -1.735919\n",
       "Name: AverageTone, dtype: float64"
      ]
     },
     "execution_count": 14,
     "metadata": {},
     "output_type": "execute_result"
    }
   ],
   "source": [
    "DemocraticQuality_AvgTone_mean=DemocraticQuality_AvgTone_byFIPS.groupby('Democratic Quality binned')['AverageTone']\\\n",
    "    .apply(np.mean)\n",
    "DemocraticQuality_AvgTone_mean.head()"
   ]
  },
  {
   "cell_type": "code",
   "execution_count": 15,
   "metadata": {},
   "outputs": [
    {
     "data": {
      "text/plain": [
       "Text(0, 0.5, 'Average Tone')"
      ]
     },
     "execution_count": 15,
     "metadata": {},
     "output_type": "execute_result"
    },
    {
     "data": {
      "image/png": "[encoded data removed]",
      "text/plain": [
       "<Figure size 432x288 with 1 Axes>"
      ]
     },
     "metadata": {
      "needs_background": "light"
     },
     "output_type": "display_data"
    }
   ],
   "source": [
    "DemocraticQuality_AvgTone_mean.plot.bar()\n",
    "plt.ylabel('Average Tone')"
   ]
  },
  {
   "cell_type": "code",
   "execution_count": 16,
   "metadata": {},
   "outputs": [
    {
     "name": "stdout",
     "output_type": "stream",
     "text": [
      "The Pearson correlation between Democratic Quality and Average Tone is : \n",
      "-0.07340862656961676\n"
     ]
    }
   ],
   "source": [
    "print('The Pearson correlation between Democratic Quality and Average Tone is : ')\n",
    "print(DemocraticQuality_AvgTone_byFIPS['Democratic Quality'].corr(DemocraticQuality_AvgTone_byFIPS['AverageTone']))"
   ]
  },
  {
   "cell_type": "code",
   "execution_count": 17,
   "metadata": {},
   "outputs": [
    {
     "data": {
      "text/html": [
       "<div>\n",
       "<style scoped>\n",
       "    .dataframe tbody tr th:only-of-type {\n",
       "        vertical-align: middle;\n",
       "    }\n",
       "\n",
       "    .dataframe tbody tr th {\n",
       "        vertical-align: top;\n",
       "    }\n",
       "\n",
       "    .dataframe thead th {\n",
       "        text-align: right;\n",
       "    }\n",
       "</style>\n",
       "<table border=\"1\" class=\"dataframe\">\n",
       "  <thead>\n",
       "    <tr style=\"text-align: right;\">\n",
       "      <th></th>\n",
       "      <th>FIPS</th>\n",
       "      <th>EventRootCode</th>\n",
       "      <th>AvgTone</th>\n",
       "    </tr>\n",
       "  </thead>\n",
       "  <tbody>\n",
       "    <tr>\n",
       "      <th>0</th>\n",
       "      <td>TU</td>\n",
       "      <td>5</td>\n",
       "      <td>0.641469</td>\n",
       "    </tr>\n",
       "    <tr>\n",
       "      <th>1</th>\n",
       "      <td>JO</td>\n",
       "      <td>5</td>\n",
       "      <td>0.100875</td>\n",
       "    </tr>\n",
       "    <tr>\n",
       "      <th>2</th>\n",
       "      <td>SC</td>\n",
       "      <td>5</td>\n",
       "      <td>2.567115</td>\n",
       "    </tr>\n",
       "    <tr>\n",
       "      <th>3</th>\n",
       "      <td>GP</td>\n",
       "      <td>5</td>\n",
       "      <td>-0.572004</td>\n",
       "    </tr>\n",
       "    <tr>\n",
       "      <th>4</th>\n",
       "      <td>PC</td>\n",
       "      <td>5</td>\n",
       "      <td>-1.619279</td>\n",
       "    </tr>\n",
       "  </tbody>\n",
       "</table>\n",
       "</div>"
      ],
      "text/plain": [
       "  FIPS  EventRootCode   AvgTone\n",
       "0   TU              5  0.641469\n",
       "1   JO              5  0.100875\n",
       "2   SC              5  2.567115\n",
       "3   GP              5 -0.572004\n",
       "4   PC              5 -1.619279"
      ]
     },
     "execution_count": 17,
     "metadata": {},
     "output_type": "execute_result"
    }
   ],
   "source": [
    "# Observe for several EventRootCodes, the average tone in each country\n",
    "avgTone_FIPS_EventRootCode = pd.read_csv('../Data/avgTone_FIPS_EventRootCode.csv')\\\n",
    "    .rename(index=str, columns={'f0_':'AvgTone'})\n",
    "avgTone_FIPS_EventRootCode.head()"
   ]
  },
  {
   "cell_type": "code",
   "execution_count": 18,
   "metadata": {},
   "outputs": [
    {
     "data": {
      "text/html": [
       "<div>\n",
       "<style scoped>\n",
       "    .dataframe tbody tr th:only-of-type {\n",
       "        vertical-align: middle;\n",
       "    }\n",
       "\n",
       "    .dataframe tbody tr th {\n",
       "        vertical-align: top;\n",
       "    }\n",
       "\n",
       "    .dataframe thead th {\n",
       "        text-align: right;\n",
       "    }\n",
       "</style>\n",
       "<table border=\"1\" class=\"dataframe\">\n",
       "  <thead>\n",
       "    <tr style=\"text-align: right;\">\n",
       "      <th></th>\n",
       "      <th>country</th>\n",
       "      <th>Democratic Quality</th>\n",
       "      <th>FIPS</th>\n",
       "      <th>Democratic Quality binned</th>\n",
       "      <th>EventRootCode</th>\n",
       "      <th>AvgTone</th>\n",
       "    </tr>\n",
       "  </thead>\n",
       "  <tbody>\n",
       "    <tr>\n",
       "      <th>0</th>\n",
       "      <td>Afghanistan</td>\n",
       "      <td>-1.917693</td>\n",
       "      <td>AF</td>\n",
       "      <td>(-2.0, -1.5]</td>\n",
       "      <td>5</td>\n",
       "      <td>-0.896783</td>\n",
       "    </tr>\n",
       "    <tr>\n",
       "      <th>1</th>\n",
       "      <td>Afghanistan</td>\n",
       "      <td>-1.917693</td>\n",
       "      <td>AF</td>\n",
       "      <td>(-2.0, -1.5]</td>\n",
       "      <td>6</td>\n",
       "      <td>-2.208447</td>\n",
       "    </tr>\n",
       "    <tr>\n",
       "      <th>2</th>\n",
       "      <td>Afghanistan</td>\n",
       "      <td>-1.917693</td>\n",
       "      <td>AF</td>\n",
       "      <td>(-2.0, -1.5]</td>\n",
       "      <td>14</td>\n",
       "      <td>-5.137769</td>\n",
       "    </tr>\n",
       "    <tr>\n",
       "      <th>3</th>\n",
       "      <td>Afghanistan</td>\n",
       "      <td>-1.917693</td>\n",
       "      <td>AF</td>\n",
       "      <td>(-2.0, -1.5]</td>\n",
       "      <td>15</td>\n",
       "      <td>-3.055255</td>\n",
       "    </tr>\n",
       "    <tr>\n",
       "      <th>4</th>\n",
       "      <td>Afghanistan</td>\n",
       "      <td>-1.917693</td>\n",
       "      <td>AF</td>\n",
       "      <td>(-2.0, -1.5]</td>\n",
       "      <td>19</td>\n",
       "      <td>-6.547427</td>\n",
       "    </tr>\n",
       "  </tbody>\n",
       "</table>\n",
       "</div>"
      ],
      "text/plain": [
       "       country  Democratic Quality FIPS Democratic Quality binned  \\\n",
       "0  Afghanistan           -1.917693   AF              (-2.0, -1.5]   \n",
       "1  Afghanistan           -1.917693   AF              (-2.0, -1.5]   \n",
       "2  Afghanistan           -1.917693   AF              (-2.0, -1.5]   \n",
       "3  Afghanistan           -1.917693   AF              (-2.0, -1.5]   \n",
       "4  Afghanistan           -1.917693   AF              (-2.0, -1.5]   \n",
       "\n",
       "   EventRootCode   AvgTone  \n",
       "0              5 -0.896783  \n",
       "1              6 -2.208447  \n",
       "2             14 -5.137769  \n",
       "3             15 -3.055255  \n",
       "4             19 -6.547427  "
      ]
     },
     "execution_count": 18,
     "metadata": {},
     "output_type": "execute_result"
    }
   ],
   "source": [
    "# Try to find a link with the democratic index in the country\n",
    "avgTone_EventRootCode_Demo = DemocraticQuality_byFIPS\\\n",
    "    .merge(avgTone_FIPS_EventRootCode, left_on='FIPS', right_on='FIPS')\n",
    "avgTone_EventRootCode_Demo.head()"
   ]
  },
  {
   "cell_type": "code",
   "execution_count": 19,
   "metadata": {},
   "outputs": [
    {
     "name": "stderr",
     "output_type": "stream",
     "text": [
      "/anaconda3/envs/adaconda/lib/python3.6/site-packages/scipy/stats/stats.py:1713: FutureWarning: Using a non-tuple sequence for multidimensional indexing is deprecated; use `arr[tuple(seq)]` instead of `arr[seq]`. In the future this will be interpreted as an array index, `arr[np.array(seq)]`, which will result either in an error or a different result.\n",
      "  return np.add.reduce(sorted[indexer] * weights, axis=axis) / sumval\n"
     ]
    },
    {
     "data": {
      "text/plain": [
       "<matplotlib.axes._subplots.AxesSubplot at 0x1a171c1400>"
      ]
     },
     "execution_count": 19,
     "metadata": {},
     "output_type": "execute_result"
    },
    {
     "data": {
      "image/png": "[encoded data removed]",
      "text/plain": [
       "<Figure size 1080x1080 with 1 Axes>"
      ]
     },
     "metadata": {
      "needs_background": "light"
     },
     "output_type": "display_data"
    }
   ],
   "source": [
    "fig_size = plt.rcParams[\"figure.figsize\"]\n",
    "fig_size[0] = 15\n",
    "fig_size[1] = 15\n",
    "plt.rcParams[\"figure.figsize\"] = fig_size\n",
    "sns.barplot(x=\"EventRootCode\", y=\"AvgTone\", hue=\"Democratic Quality binned\", data=avgTone_EventRootCode_Demo)"
   ]
  },
  {
   "cell_type": "code",
   "execution_count": 20,
   "metadata": {},
   "outputs": [
    {
     "data": {
      "text/html": [
       "<div>\n",
       "<style scoped>\n",
       "    .dataframe tbody tr th:only-of-type {\n",
       "        vertical-align: middle;\n",
       "    }\n",
       "\n",
       "    .dataframe tbody tr th {\n",
       "        vertical-align: top;\n",
       "    }\n",
       "\n",
       "    .dataframe thead tr th {\n",
       "        text-align: left;\n",
       "    }\n",
       "\n",
       "    .dataframe thead tr:last-of-type th {\n",
       "        text-align: right;\n",
       "    }\n",
       "</style>\n",
       "<table border=\"1\" class=\"dataframe\">\n",
       "  <thead>\n",
       "    <tr>\n",
       "      <th></th>\n",
       "      <th colspan=\"5\" halign=\"left\">AvgTone</th>\n",
       "    </tr>\n",
       "    <tr>\n",
       "      <th>EventRootCode</th>\n",
       "      <th>5</th>\n",
       "      <th>6</th>\n",
       "      <th>14</th>\n",
       "      <th>15</th>\n",
       "      <th>19</th>\n",
       "    </tr>\n",
       "    <tr>\n",
       "      <th>Democratic Quality binned</th>\n",
       "      <th></th>\n",
       "      <th></th>\n",
       "      <th></th>\n",
       "      <th></th>\n",
       "      <th></th>\n",
       "    </tr>\n",
       "  </thead>\n",
       "  <tbody>\n",
       "    <tr>\n",
       "      <th>(-2.5, -2.0]</th>\n",
       "      <td>-0.710548</td>\n",
       "      <td>-2.314746</td>\n",
       "      <td>-4.368456</td>\n",
       "      <td>-3.113141</td>\n",
       "      <td>-5.463931</td>\n",
       "    </tr>\n",
       "    <tr>\n",
       "      <th>(-2.0, -1.5]</th>\n",
       "      <td>-0.426933</td>\n",
       "      <td>-1.744307</td>\n",
       "      <td>-4.785505</td>\n",
       "      <td>-3.253414</td>\n",
       "      <td>-5.701234</td>\n",
       "    </tr>\n",
       "    <tr>\n",
       "      <th>(-1.5, -1.0]</th>\n",
       "      <td>0.362697</td>\n",
       "      <td>-1.084794</td>\n",
       "      <td>-3.488653</td>\n",
       "      <td>-2.620177</td>\n",
       "      <td>-4.845885</td>\n",
       "    </tr>\n",
       "    <tr>\n",
       "      <th>(-1.0, -0.5]</th>\n",
       "      <td>0.359623</td>\n",
       "      <td>-0.911364</td>\n",
       "      <td>-3.266903</td>\n",
       "      <td>-2.678450</td>\n",
       "      <td>-4.639899</td>\n",
       "    </tr>\n",
       "    <tr>\n",
       "      <th>(-0.5, 0.0]</th>\n",
       "      <td>0.267157</td>\n",
       "      <td>-1.005996</td>\n",
       "      <td>-3.415420</td>\n",
       "      <td>-2.711075</td>\n",
       "      <td>-4.842796</td>\n",
       "    </tr>\n",
       "  </tbody>\n",
       "</table>\n",
       "</div>"
      ],
      "text/plain": [
       "                            AvgTone                                        \n",
       "EventRootCode                    5         6         14        15        19\n",
       "Democratic Quality binned                                                  \n",
       "(-2.5, -2.0]              -0.710548 -2.314746 -4.368456 -3.113141 -5.463931\n",
       "(-2.0, -1.5]              -0.426933 -1.744307 -4.785505 -3.253414 -5.701234\n",
       "(-1.5, -1.0]               0.362697 -1.084794 -3.488653 -2.620177 -4.845885\n",
       "(-1.0, -0.5]               0.359623 -0.911364 -3.266903 -2.678450 -4.639899\n",
       "(-0.5, 0.0]                0.267157 -1.005996 -3.415420 -2.711075 -4.842796"
      ]
     },
     "execution_count": 20,
     "metadata": {},
     "output_type": "execute_result"
    }
   ],
   "source": [
    "avgTone_EventRootCode_Demo_binned = avgTone_EventRootCode_Demo.groupby(['Democratic Quality binned', 'EventRootCode'])['AvgTone'].apply(np.mean)\n",
    "\n",
    "avgTone_EventRootCode_Demo_binned = pd.DataFrame(avgTone_EventRootCode_Demo_binned).unstack()\n",
    "avgTone_EventRootCode_Demo_binned.head()"
   ]
  },
  {
   "cell_type": "code",
   "execution_count": 21,
   "metadata": {},
   "outputs": [],
   "source": [
    "#fig_size = plt.rcParams[\"figure.figsize\"]\n",
    "#fig_size[0] = 20\n",
    "#fig_size[1] = 20\n",
    "#plt.rcParams[\"figure.figsize\"] = fig_size\n",
    "\n",
    "#avgTone_EventRootCode_Demo_binned.unstack(level=0).plot(kind='bar', subplots=True)\n",
    "#fig = plt.gcf()\n",
    "#fig.savefig(\"democratic_event_avgTone.png\")"
   ]
  },
  {
   "cell_type": "code",
   "execution_count": 22,
   "metadata": {},
   "outputs": [],
   "source": [
    "#GovernmentConfidenceData = pd.read_excel('../Data/HappinessData.xls', sheet_name = 'Table2.1', usecols=\"A,B,L\")\\\n",
    " #   .sort_values('year', ascending=False)\\\n",
    "  #  .groupby(\"country\").first()\\\n",
    "   # .drop('year', axis=1)\\\n",
    "    #.dropna()\n",
    "#GovernmentConfidenceData.head()"
   ]
  },
  {
   "cell_type": "code",
   "execution_count": 23,
   "metadata": {},
   "outputs": [
    {
     "data": {
      "text/html": [
       "<div>\n",
       "<style scoped>\n",
       "    .dataframe tbody tr th:only-of-type {\n",
       "        vertical-align: middle;\n",
       "    }\n",
       "\n",
       "    .dataframe tbody tr th {\n",
       "        vertical-align: top;\n",
       "    }\n",
       "\n",
       "    .dataframe thead th {\n",
       "        text-align: right;\n",
       "    }\n",
       "</style>\n",
       "<table border=\"1\" class=\"dataframe\">\n",
       "  <thead>\n",
       "    <tr style=\"text-align: right;\">\n",
       "      <th></th>\n",
       "      <th>Confidence in national government</th>\n",
       "    </tr>\n",
       "    <tr>\n",
       "      <th>country</th>\n",
       "      <th></th>\n",
       "    </tr>\n",
       "  </thead>\n",
       "  <tbody>\n",
       "    <tr>\n",
       "      <th>Afghanistan</th>\n",
       "      <td>0.400442</td>\n",
       "    </tr>\n",
       "    <tr>\n",
       "      <th>Albania</th>\n",
       "      <td>0.409726</td>\n",
       "    </tr>\n",
       "    <tr>\n",
       "      <th>Angola</th>\n",
       "      <td>0.397389</td>\n",
       "    </tr>\n",
       "    <tr>\n",
       "      <th>Argentina</th>\n",
       "      <td>0.400587</td>\n",
       "    </tr>\n",
       "    <tr>\n",
       "      <th>Armenia</th>\n",
       "      <td>0.302084</td>\n",
       "    </tr>\n",
       "  </tbody>\n",
       "</table>\n",
       "</div>"
      ],
      "text/plain": [
       "             Confidence in national government\n",
       "country                                       \n",
       "Afghanistan                           0.400442\n",
       "Albania                               0.409726\n",
       "Angola                                0.397389\n",
       "Argentina                             0.400587\n",
       "Armenia                               0.302084"
      ]
     },
     "execution_count": 23,
     "metadata": {},
     "output_type": "execute_result"
    }
   ],
   "source": [
    "# Observe the link with Confidence in the national government\n",
    "GovernmentConfidenceData = pd.read_excel('../Data/HappinessData.xls', sheet_name = 'Table2.1', usecols=\"A,L\")\\\n",
    "    .groupby('country')\\\n",
    "    .apply(np.mean)\\\n",
    "    .dropna()\n",
    "GovernmentConfidenceData.head()"
   ]
  },
  {
   "cell_type": "code",
   "execution_count": 24,
   "metadata": {},
   "outputs": [
    {
     "data": {
      "text/html": [
       "<div>\n",
       "<style scoped>\n",
       "    .dataframe tbody tr th:only-of-type {\n",
       "        vertical-align: middle;\n",
       "    }\n",
       "\n",
       "    .dataframe tbody tr th {\n",
       "        vertical-align: top;\n",
       "    }\n",
       "\n",
       "    .dataframe thead th {\n",
       "        text-align: right;\n",
       "    }\n",
       "</style>\n",
       "<table border=\"1\" class=\"dataframe\">\n",
       "  <thead>\n",
       "    <tr style=\"text-align: right;\">\n",
       "      <th></th>\n",
       "      <th>country</th>\n",
       "      <th>Confidence in national government</th>\n",
       "      <th>FIPS</th>\n",
       "    </tr>\n",
       "  </thead>\n",
       "  <tbody>\n",
       "    <tr>\n",
       "      <th>0</th>\n",
       "      <td>Afghanistan</td>\n",
       "      <td>0.400442</td>\n",
       "      <td>AF</td>\n",
       "    </tr>\n",
       "    <tr>\n",
       "      <th>1</th>\n",
       "      <td>Albania</td>\n",
       "      <td>0.409726</td>\n",
       "      <td>AL</td>\n",
       "    </tr>\n",
       "    <tr>\n",
       "      <th>2</th>\n",
       "      <td>Angola</td>\n",
       "      <td>0.397389</td>\n",
       "      <td>AO</td>\n",
       "    </tr>\n",
       "    <tr>\n",
       "      <th>3</th>\n",
       "      <td>Argentina</td>\n",
       "      <td>0.400587</td>\n",
       "      <td>AR</td>\n",
       "    </tr>\n",
       "    <tr>\n",
       "      <th>4</th>\n",
       "      <td>Armenia</td>\n",
       "      <td>0.302084</td>\n",
       "      <td>AM</td>\n",
       "    </tr>\n",
       "  </tbody>\n",
       "</table>\n",
       "</div>"
      ],
      "text/plain": [
       "       country  Confidence in national government FIPS\n",
       "0  Afghanistan                           0.400442   AF\n",
       "1      Albania                           0.409726   AL\n",
       "2       Angola                           0.397389   AO\n",
       "3    Argentina                           0.400587   AR\n",
       "4      Armenia                           0.302084   AM"
      ]
     },
     "execution_count": 24,
     "metadata": {},
     "output_type": "execute_result"
    }
   ],
   "source": [
    "GovernmentConfidenceData_byFIPS = GovernmentConfidenceData.merge(FIPS_codes, left_on='country', right_on='country')\n",
    "GovernmentConfidenceData_byFIPS.head()"
   ]
  },
  {
   "cell_type": "code",
   "execution_count": 25,
   "metadata": {},
   "outputs": [
    {
     "data": {
      "text/plain": [
       "count    146.000000\n",
       "mean       0.499504\n",
       "std        0.181166\n",
       "min        0.164084\n",
       "25%        0.364060\n",
       "50%        0.469831\n",
       "75%        0.602204\n",
       "max        0.961462\n",
       "Name: Confidence in national government, dtype: float64"
      ]
     },
     "execution_count": 25,
     "metadata": {},
     "output_type": "execute_result"
    }
   ],
   "source": [
    "GovernmentConfidenceData_byFIPS['Confidence in national government'].describe()"
   ]
  },
  {
   "cell_type": "code",
   "execution_count": 26,
   "metadata": {},
   "outputs": [
    {
     "data": {
      "text/html": [
       "<div>\n",
       "<style scoped>\n",
       "    .dataframe tbody tr th:only-of-type {\n",
       "        vertical-align: middle;\n",
       "    }\n",
       "\n",
       "    .dataframe tbody tr th {\n",
       "        vertical-align: top;\n",
       "    }\n",
       "\n",
       "    .dataframe thead th {\n",
       "        text-align: right;\n",
       "    }\n",
       "</style>\n",
       "<table border=\"1\" class=\"dataframe\">\n",
       "  <thead>\n",
       "    <tr style=\"text-align: right;\">\n",
       "      <th></th>\n",
       "      <th>country</th>\n",
       "      <th>Confidence in national government</th>\n",
       "      <th>FIPS</th>\n",
       "      <th>AverageTone</th>\n",
       "    </tr>\n",
       "  </thead>\n",
       "  <tbody>\n",
       "    <tr>\n",
       "      <th>0</th>\n",
       "      <td>Afghanistan</td>\n",
       "      <td>0.400442</td>\n",
       "      <td>AF</td>\n",
       "      <td>-3.374755</td>\n",
       "    </tr>\n",
       "    <tr>\n",
       "      <th>1</th>\n",
       "      <td>Albania</td>\n",
       "      <td>0.409726</td>\n",
       "      <td>AL</td>\n",
       "      <td>-1.843297</td>\n",
       "    </tr>\n",
       "    <tr>\n",
       "      <th>2</th>\n",
       "      <td>Angola</td>\n",
       "      <td>0.397389</td>\n",
       "      <td>AO</td>\n",
       "      <td>-1.026558</td>\n",
       "    </tr>\n",
       "    <tr>\n",
       "      <th>3</th>\n",
       "      <td>Argentina</td>\n",
       "      <td>0.400587</td>\n",
       "      <td>AR</td>\n",
       "      <td>-1.964747</td>\n",
       "    </tr>\n",
       "    <tr>\n",
       "      <th>4</th>\n",
       "      <td>Armenia</td>\n",
       "      <td>0.302084</td>\n",
       "      <td>AM</td>\n",
       "      <td>-1.528395</td>\n",
       "    </tr>\n",
       "  </tbody>\n",
       "</table>\n",
       "</div>"
      ],
      "text/plain": [
       "       country  Confidence in national government FIPS  AverageTone\n",
       "0  Afghanistan                           0.400442   AF    -3.374755\n",
       "1      Albania                           0.409726   AL    -1.843297\n",
       "2       Angola                           0.397389   AO    -1.026558\n",
       "3    Argentina                           0.400587   AR    -1.964747\n",
       "4      Armenia                           0.302084   AM    -1.528395"
      ]
     },
     "execution_count": 26,
     "metadata": {},
     "output_type": "execute_result"
    }
   ],
   "source": [
    "GovernmentConfidence_AvgTone_byFIPS = GovernmentConfidenceData_byFIPS.merge(averageTone_FIPS, left_on='FIPS', right_on='FIPS')\n",
    "GovernmentConfidence_AvgTone_byFIPS.head()"
   ]
  },
  {
   "cell_type": "code",
   "execution_count": 27,
   "metadata": {},
   "outputs": [
    {
     "name": "stdout",
     "output_type": "stream",
     "text": [
      "The Pearson correlation between Government confidence and Average Tone is : \n",
      "0.0985741722552275\n"
     ]
    }
   ],
   "source": [
    "print('The Pearson correlation between Government confidence and Average Tone is : ')\n",
    "print(GovernmentConfidence_AvgTone_byFIPS['Confidence in national government']\\\n",
    "      .corr(GovernmentConfidence_AvgTone_byFIPS['AverageTone']))"
   ]
  },
  {
   "cell_type": "code",
   "execution_count": 28,
   "metadata": {},
   "outputs": [
    {
     "data": {
      "text/html": [
       "<div>\n",
       "<style scoped>\n",
       "    .dataframe tbody tr th:only-of-type {\n",
       "        vertical-align: middle;\n",
       "    }\n",
       "\n",
       "    .dataframe tbody tr th {\n",
       "        vertical-align: top;\n",
       "    }\n",
       "\n",
       "    .dataframe thead th {\n",
       "        text-align: right;\n",
       "    }\n",
       "</style>\n",
       "<table border=\"1\" class=\"dataframe\">\n",
       "  <thead>\n",
       "    <tr style=\"text-align: right;\">\n",
       "      <th></th>\n",
       "      <th>Perceptions of corruption</th>\n",
       "    </tr>\n",
       "    <tr>\n",
       "      <th>country</th>\n",
       "      <th></th>\n",
       "    </tr>\n",
       "  </thead>\n",
       "  <tbody>\n",
       "    <tr>\n",
       "      <th>Afghanistan</th>\n",
       "      <td>0.826794</td>\n",
       "    </tr>\n",
       "    <tr>\n",
       "      <th>Albania</th>\n",
       "      <td>0.859691</td>\n",
       "    </tr>\n",
       "    <tr>\n",
       "      <th>Algeria</th>\n",
       "      <td>0.661478</td>\n",
       "    </tr>\n",
       "    <tr>\n",
       "      <th>Angola</th>\n",
       "      <td>0.867018</td>\n",
       "    </tr>\n",
       "    <tr>\n",
       "      <th>Argentina</th>\n",
       "      <td>0.844038</td>\n",
       "    </tr>\n",
       "  </tbody>\n",
       "</table>\n",
       "</div>"
      ],
      "text/plain": [
       "             Perceptions of corruption\n",
       "country                               \n",
       "Afghanistan                   0.826794\n",
       "Albania                       0.859691\n",
       "Algeria                       0.661478\n",
       "Angola                        0.867018\n",
       "Argentina                     0.844038"
      ]
     },
     "execution_count": 28,
     "metadata": {},
     "output_type": "execute_result"
    }
   ],
   "source": [
    "# Observe the link with the corruption\n",
    "CorruptionData = pd.read_excel('../Data/HappinessData.xls', sheet_name = 'Table2.1', usecols=\"A,I\")\\\n",
    "    .groupby('country')\\\n",
    "    .apply(np.mean)\\\n",
    "    .dropna()\n",
    "CorruptionData.head()"
   ]
  },
  {
   "cell_type": "code",
   "execution_count": 29,
   "metadata": {},
   "outputs": [
    {
     "data": {
      "text/html": [
       "<div>\n",
       "<style scoped>\n",
       "    .dataframe tbody tr th:only-of-type {\n",
       "        vertical-align: middle;\n",
       "    }\n",
       "\n",
       "    .dataframe tbody tr th {\n",
       "        vertical-align: top;\n",
       "    }\n",
       "\n",
       "    .dataframe thead th {\n",
       "        text-align: right;\n",
       "    }\n",
       "</style>\n",
       "<table border=\"1\" class=\"dataframe\">\n",
       "  <thead>\n",
       "    <tr style=\"text-align: right;\">\n",
       "      <th></th>\n",
       "      <th>country</th>\n",
       "      <th>Perceptions of corruption</th>\n",
       "      <th>FIPS</th>\n",
       "    </tr>\n",
       "  </thead>\n",
       "  <tbody>\n",
       "    <tr>\n",
       "      <th>0</th>\n",
       "      <td>Afghanistan</td>\n",
       "      <td>0.826794</td>\n",
       "      <td>AF</td>\n",
       "    </tr>\n",
       "    <tr>\n",
       "      <th>1</th>\n",
       "      <td>Albania</td>\n",
       "      <td>0.859691</td>\n",
       "      <td>AL</td>\n",
       "    </tr>\n",
       "    <tr>\n",
       "      <th>2</th>\n",
       "      <td>Algeria</td>\n",
       "      <td>0.661478</td>\n",
       "      <td>AG</td>\n",
       "    </tr>\n",
       "    <tr>\n",
       "      <th>3</th>\n",
       "      <td>Angola</td>\n",
       "      <td>0.867018</td>\n",
       "      <td>AO</td>\n",
       "    </tr>\n",
       "    <tr>\n",
       "      <th>4</th>\n",
       "      <td>Argentina</td>\n",
       "      <td>0.844038</td>\n",
       "      <td>AR</td>\n",
       "    </tr>\n",
       "  </tbody>\n",
       "</table>\n",
       "</div>"
      ],
      "text/plain": [
       "       country  Perceptions of corruption FIPS\n",
       "0  Afghanistan                   0.826794   AF\n",
       "1      Albania                   0.859691   AL\n",
       "2      Algeria                   0.661478   AG\n",
       "3       Angola                   0.867018   AO\n",
       "4    Argentina                   0.844038   AR"
      ]
     },
     "execution_count": 29,
     "metadata": {},
     "output_type": "execute_result"
    }
   ],
   "source": [
    "CorruptionData_byFIPS = CorruptionData.merge(FIPS_codes, left_on='country', right_on='country')\n",
    "CorruptionData_byFIPS.head()"
   ]
  },
  {
   "cell_type": "code",
   "execution_count": 30,
   "metadata": {},
   "outputs": [
    {
     "data": {
      "text/plain": [
       "count    152.000000\n",
       "mean       0.748378\n",
       "std        0.174332\n",
       "min        0.183798\n",
       "25%        0.701091\n",
       "50%        0.798155\n",
       "75%        0.858603\n",
       "max        0.956521\n",
       "Name: Perceptions of corruption, dtype: float64"
      ]
     },
     "execution_count": 30,
     "metadata": {},
     "output_type": "execute_result"
    }
   ],
   "source": [
    "CorruptionData_byFIPS['Perceptions of corruption'].describe()"
   ]
  },
  {
   "cell_type": "code",
   "execution_count": 31,
   "metadata": {},
   "outputs": [
    {
     "data": {
      "text/html": [
       "<div>\n",
       "<style scoped>\n",
       "    .dataframe tbody tr th:only-of-type {\n",
       "        vertical-align: middle;\n",
       "    }\n",
       "\n",
       "    .dataframe tbody tr th {\n",
       "        vertical-align: top;\n",
       "    }\n",
       "\n",
       "    .dataframe thead th {\n",
       "        text-align: right;\n",
       "    }\n",
       "</style>\n",
       "<table border=\"1\" class=\"dataframe\">\n",
       "  <thead>\n",
       "    <tr style=\"text-align: right;\">\n",
       "      <th></th>\n",
       "      <th>country</th>\n",
       "      <th>Perceptions of corruption</th>\n",
       "      <th>FIPS</th>\n",
       "      <th>AverageTone</th>\n",
       "    </tr>\n",
       "  </thead>\n",
       "  <tbody>\n",
       "    <tr>\n",
       "      <th>0</th>\n",
       "      <td>Afghanistan</td>\n",
       "      <td>0.826794</td>\n",
       "      <td>AF</td>\n",
       "      <td>-3.374755</td>\n",
       "    </tr>\n",
       "    <tr>\n",
       "      <th>1</th>\n",
       "      <td>Albania</td>\n",
       "      <td>0.859691</td>\n",
       "      <td>AL</td>\n",
       "      <td>-1.843297</td>\n",
       "    </tr>\n",
       "    <tr>\n",
       "      <th>2</th>\n",
       "      <td>Algeria</td>\n",
       "      <td>0.661478</td>\n",
       "      <td>AG</td>\n",
       "      <td>-2.045113</td>\n",
       "    </tr>\n",
       "    <tr>\n",
       "      <th>3</th>\n",
       "      <td>Angola</td>\n",
       "      <td>0.867018</td>\n",
       "      <td>AO</td>\n",
       "      <td>-1.026558</td>\n",
       "    </tr>\n",
       "    <tr>\n",
       "      <th>4</th>\n",
       "      <td>Argentina</td>\n",
       "      <td>0.844038</td>\n",
       "      <td>AR</td>\n",
       "      <td>-1.964747</td>\n",
       "    </tr>\n",
       "  </tbody>\n",
       "</table>\n",
       "</div>"
      ],
      "text/plain": [
       "       country  Perceptions of corruption FIPS  AverageTone\n",
       "0  Afghanistan                   0.826794   AF    -3.374755\n",
       "1      Albania                   0.859691   AL    -1.843297\n",
       "2      Algeria                   0.661478   AG    -2.045113\n",
       "3       Angola                   0.867018   AO    -1.026558\n",
       "4    Argentina                   0.844038   AR    -1.964747"
      ]
     },
     "execution_count": 31,
     "metadata": {},
     "output_type": "execute_result"
    }
   ],
   "source": [
    "Corruption_AvgTone_byFIPS = CorruptionData_byFIPS.merge(averageTone_FIPS, left_on='FIPS', right_on='FIPS')\n",
    "Corruption_AvgTone_byFIPS.head()"
   ]
  },
  {
   "cell_type": "code",
   "execution_count": 32,
   "metadata": {},
   "outputs": [
    {
     "name": "stdout",
     "output_type": "stream",
     "text": [
      "The Pearson correlation between Corruption perception and Average Tone is : \n",
      "0.08604790179045836\n"
     ]
    }
   ],
   "source": [
    "print('The Pearson correlation between Corruption perception and Average Tone is : ')\n",
    "print(Corruption_AvgTone_byFIPS['Perceptions of corruption']\\\n",
    "      .corr(Corruption_AvgTone_byFIPS['AverageTone']))"
   ]
  },
  {
   "cell_type": "code",
   "execution_count": 33,
   "metadata": {},
   "outputs": [
    {
     "data": {
      "text/html": [
       "<div>\n",
       "<style scoped>\n",
       "    .dataframe tbody tr th:only-of-type {\n",
       "        vertical-align: middle;\n",
       "    }\n",
       "\n",
       "    .dataframe tbody tr th {\n",
       "        vertical-align: top;\n",
       "    }\n",
       "\n",
       "    .dataframe thead th {\n",
       "        text-align: right;\n",
       "    }\n",
       "</style>\n",
       "<table border=\"1\" class=\"dataframe\">\n",
       "  <thead>\n",
       "    <tr style=\"text-align: right;\">\n",
       "      <th></th>\n",
       "      <th>FIPS</th>\n",
       "      <th>GoldsteinScale</th>\n",
       "    </tr>\n",
       "  </thead>\n",
       "  <tbody>\n",
       "    <tr>\n",
       "      <th>0</th>\n",
       "      <td>MD</td>\n",
       "      <td>0.783230</td>\n",
       "    </tr>\n",
       "    <tr>\n",
       "      <th>1</th>\n",
       "      <td>JE</td>\n",
       "      <td>0.242012</td>\n",
       "    </tr>\n",
       "    <tr>\n",
       "      <th>2</th>\n",
       "      <td>EC</td>\n",
       "      <td>1.119071</td>\n",
       "    </tr>\n",
       "    <tr>\n",
       "      <th>3</th>\n",
       "      <td>AN</td>\n",
       "      <td>1.866339</td>\n",
       "    </tr>\n",
       "    <tr>\n",
       "      <th>4</th>\n",
       "      <td>WS</td>\n",
       "      <td>0.561354</td>\n",
       "    </tr>\n",
       "  </tbody>\n",
       "</table>\n",
       "</div>"
      ],
      "text/plain": [
       "  FIPS  GoldsteinScale\n",
       "0   MD        0.783230\n",
       "1   JE        0.242012\n",
       "2   EC        1.119071\n",
       "3   AN        1.866339\n",
       "4   WS        0.561354"
      ]
     },
     "execution_count": 33,
     "metadata": {},
     "output_type": "execute_result"
    }
   ],
   "source": [
    "# Country instability analysis\n",
    "GoldsteinScaleData = pd.read_csv('../Data/AvgGoldsteinScale_FIPS_table.csv')\n",
    "GoldsteinScaleData.head()"
   ]
  },
  {
   "cell_type": "code",
   "execution_count": 34,
   "metadata": {},
   "outputs": [
    {
     "data": {
      "text/html": [
       "<div>\n",
       "<style scoped>\n",
       "    .dataframe tbody tr th:only-of-type {\n",
       "        vertical-align: middle;\n",
       "    }\n",
       "\n",
       "    .dataframe tbody tr th {\n",
       "        vertical-align: top;\n",
       "    }\n",
       "\n",
       "    .dataframe thead th {\n",
       "        text-align: right;\n",
       "    }\n",
       "</style>\n",
       "<table border=\"1\" class=\"dataframe\">\n",
       "  <thead>\n",
       "    <tr style=\"text-align: right;\">\n",
       "      <th></th>\n",
       "      <th>FIPS</th>\n",
       "      <th>country</th>\n",
       "      <th>GoldsteinScale</th>\n",
       "    </tr>\n",
       "  </thead>\n",
       "  <tbody>\n",
       "    <tr>\n",
       "      <th>0</th>\n",
       "      <td>AN</td>\n",
       "      <td>Andorra</td>\n",
       "      <td>1.866339</td>\n",
       "    </tr>\n",
       "    <tr>\n",
       "      <th>1</th>\n",
       "      <td>AE</td>\n",
       "      <td>United Arab Emirates</td>\n",
       "      <td>1.057767</td>\n",
       "    </tr>\n",
       "    <tr>\n",
       "      <th>2</th>\n",
       "      <td>AF</td>\n",
       "      <td>Afghanistan</td>\n",
       "      <td>-0.667173</td>\n",
       "    </tr>\n",
       "    <tr>\n",
       "      <th>3</th>\n",
       "      <td>AC</td>\n",
       "      <td>Antigua and Barbuda</td>\n",
       "      <td>1.287779</td>\n",
       "    </tr>\n",
       "    <tr>\n",
       "      <th>4</th>\n",
       "      <td>AV</td>\n",
       "      <td>Anguilla</td>\n",
       "      <td>2.246747</td>\n",
       "    </tr>\n",
       "  </tbody>\n",
       "</table>\n",
       "</div>"
      ],
      "text/plain": [
       "  FIPS               country  GoldsteinScale\n",
       "0   AN               Andorra        1.866339\n",
       "1   AE  United Arab Emirates        1.057767\n",
       "2   AF           Afghanistan       -0.667173\n",
       "3   AC   Antigua and Barbuda        1.287779\n",
       "4   AV              Anguilla        2.246747"
      ]
     },
     "execution_count": 34,
     "metadata": {},
     "output_type": "execute_result"
    }
   ],
   "source": [
    "GoldsteinScaleData = FIPS_codes.merge(GoldsteinScaleData, left_on='FIPS', right_on='FIPS')\n",
    "GoldsteinScaleData.head()"
   ]
  },
  {
   "cell_type": "code",
   "execution_count": 72,
   "metadata": {},
   "outputs": [],
   "source": [
    "def normalize_series(series):\n",
    "    abs_series = series.abs() #Absolute values of the whole column\n",
    "    max_value = abs_series.max() # Max of the absolute values\n",
    "    \n",
    "    return series/max_value"
   ]
  },
  {
   "cell_type": "code",
   "execution_count": 73,
   "metadata": {},
   "outputs": [],
   "source": [
    "GoldsteinScaleData.loc[GoldsteinScaleData['country']=='United States', 'country'] = 'United States of America'\n",
    "GoldsteinScaleData.loc[GoldsteinScaleData['country']=='Serbia', 'country'] = 'Republic of Serbia'\n",
    "\n",
    "GoldsteinScaleData['GoldsteinScale'] = normalize_series(GoldsteinScaleData['GoldsteinScale'])\n",
    "\n",
    "GoldsteinScale_dict = GoldsteinScaleData.set_index('country')['GoldsteinScale'].to_dict()"
   ]
  },
  {
   "cell_type": "code",
   "execution_count": 74,
   "metadata": {},
   "outputs": [],
   "source": [
    "world_borders = json.load(open('../Data/world_borders.topojson.json'))"
   ]
  },
  {
   "cell_type": "code",
   "execution_count": 75,
   "metadata": {},
   "outputs": [],
   "source": [
    "def color_function(feature, data, color_fun):\n",
    "    value = data.get(feature['properties']['name'])\n",
    "    if value is None:\n",
    "        return '#8c8c8c' # MISSING -> gray\n",
    "    else:\n",
    "        return color_fun(value)"
   ]
  },
  {
   "cell_type": "code",
   "execution_count": 86,
   "metadata": {},
   "outputs": [
    {
     "data": {
      "text/html": [
       "\n",
       "        <iframe\n",
       "            width=\"900\"\n",
       "            height=\"700\"\n",
       "            src=\"GoldsteinMap_full.html\"\n",
       "            frameborder=\"0\"\n",
       "            allowfullscreen\n",
       "        ></iframe>\n",
       "        "
      ],
      "text/plain": [
       "<IPython.lib.display.IFrame at 0x1a197672b0>"
      ]
     },
     "execution_count": 86,
     "metadata": {},
     "output_type": "execute_result"
    }
   ],
   "source": [
    "world_map = folium.Map(tiles='Mapbox bright', zoom_start=5.5)\n",
    "\n",
    "# Defining a style function to color the map and the borders\n",
    "style_func=lambda feature: {'fillColor': '#990033','color' : 'black','weight' : 2 }\n",
    "\n",
    "# Using a GeoJsonTooltip to display cantons' name when mouse is over them\n",
    "tool=folium.GeoJsonTooltip(fields=['name'], aliases=['Country:'], sticky=True, \\\n",
    "                           style=\"font-family: Arial; color: black;\", \\\n",
    "                           opacity=0.8, \\\n",
    "                           direction='top' \\\n",
    "                          )\n",
    "\n",
    "# Load border information on the map\n",
    "folium.TopoJson(world_borders,\\\n",
    "                object_path='objects.countries1',\\\n",
    "                style_function=style_func,\\\n",
    "                tooltip=tool, \\\n",
    "                overlay=False \\\n",
    "               ) \\\n",
    "      .add_to(world_map)\n",
    "\n",
    "color_scale_Goldstein = LinearColormap(['red','blue'], \\\n",
    "                                     vmin = -1, \\\n",
    "                                     vmax = 1 \\\n",
    "                                    )\n",
    "\n",
    "#FIRST MAP\n",
    "folium.TopoJson(\n",
    "    world_borders,\n",
    "    object_path='objects.countries1',\n",
    "    style_function=lambda feature: {\n",
    "        'fillColor': color_function(feature, GoldsteinScale_dict, color_scale_Goldstein),\n",
    "        'color' : 'black',\n",
    "        'weight' : 1,\n",
    "        'dashArray' : '5, 5',\n",
    "        'fillOpacity' : 0.8\n",
    "        },\n",
    "    tooltip=folium.GeoJsonTooltip(fields=['name'],aliases=['Country: '], sticky=True, style=\"font-family: Arial; color: black;\", \\\n",
    "                           opacity=0.8, direction='top'),\n",
    "    name = 'Average Goldstein Scale',\n",
    "    ).add_to(world_map)\n",
    "\n",
    "color_scale_Goldstein.caption = 'Average Goldstein Scale per country (full date range)'\n",
    "world_map.add_child(color_scale_Goldstein)\n",
    "folium.LayerControl().add_to(world_map)\n",
    "world_map  \n",
    "\n",
    "world_map.save('GoldsteinMap_full.html')\n",
    "\n",
    "IFrame(src='GoldsteinMap_full.html', width=900, height=700)"
   ]
  },
  {
   "cell_type": "code",
   "execution_count": 82,
   "metadata": {},
   "outputs": [],
   "source": [
    "# Year 2014\n",
    "GoldsteinScaleData_2014 = pd.read_csv('../Data/2014_GoldsteinScale_FIPS_table.csv')\n",
    "GoldsteinScaleData_2014 = FIPS_codes.merge(GoldsteinScaleData_2014, left_on='FIPS', right_on='FIPS')\n",
    "GoldsteinScaleData_2014.loc[GoldsteinScaleData_2014['country']=='United States', 'country'] = 'United States of America'\n",
    "GoldsteinScaleData_2014.loc[GoldsteinScaleData_2014['country']=='Serbia', 'country'] = 'Republic of Serbia'\n",
    "\n",
    "GoldsteinScaleData_2014['GoldsteinScale'] = normalize_series(GoldsteinScaleData_2014['GoldsteinScale'])\n",
    "GoldsteinScale_dict_2014 = GoldsteinScaleData_2014.set_index('country')['GoldsteinScale'].to_dict()\n",
    "\n",
    "\n",
    "# Year 2015\n",
    "GoldsteinScaleData_2015 = pd.read_csv('../Data/2015_GoldsteinScale_FIPS_table.csv')\n",
    "GoldsteinScaleData_2015 = FIPS_codes.merge(GoldsteinScaleData_2015, left_on='FIPS', right_on='FIPS')\n",
    "GoldsteinScaleData_2015.loc[GoldsteinScaleData_2015['country']=='United States', 'country'] = 'United States of America'\n",
    "GoldsteinScaleData_2015.loc[GoldsteinScaleData_2015['country']=='Serbia', 'country'] = 'Republic of Serbia'\n",
    "\n",
    "GoldsteinScaleData_2015['GoldsteinScale'] = normalize_series(GoldsteinScaleData_2015['GoldsteinScale'])\n",
    "GoldsteinScale_dict_2015 = GoldsteinScaleData_2015.set_index('country')['GoldsteinScale'].to_dict()\n",
    "\n",
    "#Year 2016\n",
    "GoldsteinScaleData_2016 = pd.read_csv('../Data/2016_GoldsteinScale_FIPS_table.csv')\n",
    "GoldsteinScaleData_2016 = FIPS_codes.merge(GoldsteinScaleData_2016, left_on='FIPS', right_on='FIPS')\n",
    "GoldsteinScaleData_2016.loc[GoldsteinScaleData_2016['country']=='United States', 'country'] = 'United States of America'\n",
    "GoldsteinScaleData_2016.loc[GoldsteinScaleData_2016['country']=='Serbia', 'country'] = 'Republic of Serbia'\n",
    "\n",
    "\n",
    "GoldsteinScaleData_2016['GoldsteinScale'] = normalize_series(GoldsteinScaleData_2016['GoldsteinScale'])\n",
    "GoldsteinScale_dict_2016 = GoldsteinScaleData_2016.set_index('country')['GoldsteinScale'].to_dict()\n",
    "\n",
    "# Year 2017\n",
    "GoldsteinScaleData_2017 = pd.read_csv('../Data/2017_GoldsteinScale_FIPS_table.csv')\n",
    "GoldsteinScaleData_2017 = FIPS_codes.merge(GoldsteinScaleData_2017, left_on='FIPS', right_on='FIPS')\n",
    "GoldsteinScaleData_2017.loc[GoldsteinScaleData_2017['country']=='United States', 'country'] = 'United States of America'\n",
    "GoldsteinScaleData_2017.loc[GoldsteinScaleData_2017['country']=='Serbia', 'country'] = 'Republic of Serbia'\n",
    "\n",
    "GoldsteinScaleData_2017['GoldsteinScale'] = normalize_series(GoldsteinScaleData_2017['GoldsteinScale'])\n",
    "GoldsteinScale_dict_2017 = GoldsteinScaleData_2017.set_index('country')['GoldsteinScale'].to_dict()\n",
    "\n",
    "# Year 2018\n",
    "GoldsteinScaleData_2018 = pd.read_csv('../Data/2018_GoldsteinScale_FIPS_table.csv')\n",
    "GoldsteinScaleData_2018 = FIPS_codes.merge(GoldsteinScaleData_2018, left_on='FIPS', right_on='FIPS')\n",
    "GoldsteinScaleData_2018.loc[GoldsteinScaleData_2018['country']=='United States', 'country'] = 'United States of America'\n",
    "GoldsteinScaleData_2018.loc[GoldsteinScaleData_2018['country']=='Serbia', 'country'] = 'Republic of Serbia'\n",
    "\n",
    "\n",
    "GoldsteinScaleData_2018['GoldsteinScale'] = normalize_series(GoldsteinScaleData_2018['GoldsteinScale'])\n",
    "GoldsteinScale_dict_2018 = GoldsteinScaleData_2018.set_index('country')['GoldsteinScale'].to_dict()"
   ]
  },
  {
   "cell_type": "code",
   "execution_count": 94,
   "metadata": {},
   "outputs": [
    {
     "data": {
      "text/html": [
       "\n",
       "        <iframe\n",
       "            width=\"900\"\n",
       "            height=\"700\"\n",
       "            src=\"Evolution.html\"\n",
       "            frameborder=\"0\"\n",
       "            allowfullscreen\n",
       "        ></iframe>\n",
       "        "
      ],
      "text/plain": [
       "<IPython.lib.display.IFrame at 0x1a17e34668>"
      ]
     },
     "execution_count": 94,
     "metadata": {},
     "output_type": "execute_result"
    }
   ],
   "source": [
    "evolution_Map = folium.Map(tiles='Mapbox bright', zoom_start=5.5)\n",
    "\n",
    "\n",
    "tool=folium.GeoJsonTooltip(fields=['name'], aliases=['Country:'], sticky=True, \\\n",
    "                           style=\"font-family: Arial; color: black;\", \\\n",
    "                           opacity=0.8, \\\n",
    "                           direction='top')\n",
    "\n",
    "\n",
    "color_scale_Goldstein = LinearColormap(['red','blue'], \\\n",
    "                                     vmin = -1, \\\n",
    "                                     vmax = 1)\n",
    "\n",
    "\n",
    "\n",
    "folium.TopoJson(\n",
    "    world_borders,\n",
    "    object_path='objects.countries1',\n",
    "    style_function=lambda feature: {\n",
    "        'fillColor': color_function(feature, GoldsteinScale_dict_2014, color_scale_Goldstein),\n",
    "        'color' : 'black',\n",
    "        'weight' : 1,\n",
    "        'dashArray' : '5, 5',\n",
    "        'fillOpacity' : 0.8\n",
    "        },\n",
    "    tooltip=tool,\n",
    "    name = 'Average Goldstein Scale 2014'\n",
    "    ).add_to(evolution_Map)\n",
    "\n",
    "\n",
    "folium.TopoJson(\n",
    "    world_borders,\n",
    "    object_path='objects.countries1',\n",
    "    style_function=lambda feature: {\n",
    "        'fillColor': color_function(feature, GoldsteinScale_dict_2015, color_scale_Goldstein),\n",
    "        'color' : 'black',\n",
    "        'weight' : 1,\n",
    "        'dashArray' : '5, 5',\n",
    "        'fillOpacity' : 0.8\n",
    "        },\n",
    "    tooltip=tool,\n",
    "    name = 'Average Goldstein Scale 2015',\n",
    "    show = False\n",
    "    ).add_to(evolution_Map)\n",
    "\n",
    "\n",
    "\n",
    "folium.TopoJson(\n",
    "    world_borders,\n",
    "    object_path='objects.countries1',\n",
    "    style_function=lambda feature: {\n",
    "        'fillColor': color_function(feature, GoldsteinScale_dict_2016, color_scale_Goldstein),\n",
    "        'color' : 'black',\n",
    "        'weight' : 1,\n",
    "        'dashArray' : '5, 5',\n",
    "        'fillOpacity' : 0.8\n",
    "        },\n",
    "    tooltip=tool,\n",
    "    name = 'Average Goldstein Scale 2016',\n",
    "    show=False\n",
    "    ).add_to(evolution_Map)\n",
    "\n",
    "\n",
    "\n",
    "\n",
    "folium.TopoJson(\n",
    "    world_borders,\n",
    "    object_path='objects.countries1',\n",
    "    style_function=lambda feature: {\n",
    "        'fillColor': color_function(feature, GoldsteinScale_dict_2017, color_scale_Goldstein),\n",
    "        'color' : 'black',\n",
    "        'weight' : 1,\n",
    "        'dashArray' : '5, 5',\n",
    "        'fillOpacity' : 0.8\n",
    "        },\n",
    "    tooltip=tool,\n",
    "    name = 'Average Goldstein Scale 2017',\n",
    "    show = False\n",
    "    ).add_to(evolution_Map)\n",
    "\n",
    "\n",
    "\n",
    "folium.TopoJson(\n",
    "    world_borders,\n",
    "    object_path='objects.countries1',\n",
    "    style_function=lambda feature: {\n",
    "        'fillColor': color_function(feature, GoldsteinScale_dict_2018, color_scale_Goldstein),\n",
    "        'color' : 'black',\n",
    "        'weight' : 1,\n",
    "        'dashArray' : '5, 5',\n",
    "        'fillOpacity' : 0.8\n",
    "        },\n",
    "    tooltip=tool,\n",
    "    name = 'Average Goldstein Scale 2018',\n",
    "    show = False\n",
    "    ).add_to(evolution_Map)\n",
    "\n",
    "\n",
    "\n",
    "color_scale_Goldstein.caption = 'Average Goldstein Scale per country'\n",
    "\n",
    "evolution_Map.add_child(color_scale_Goldstein)\n",
    "\n",
    "layerControl = folium.LayerControl()\n",
    "evolution_Map.add_child(layerControl)\n",
    "\n",
    "evolution_Map\n",
    "\n",
    "evolution_Map.save('Evolution.html')\n",
    "\n",
    "IFrame(src='Evolution.html', width=900, height=700)"
   ]
  },
  {
   "cell_type": "code",
   "execution_count": 41,
   "metadata": {},
   "outputs": [
    {
     "data": {
      "text/plain": [
       "True"
      ]
     },
     "execution_count": 41,
     "metadata": {},
     "output_type": "execute_result"
    }
   ],
   "source": [
    "folium.__version__ == '0.6.0'"
   ]
  },
  {
   "cell_type": "code",
   "execution_count": 91,
   "metadata": {},
   "outputs": [],
   "source": [
    "folium.TopoJson?"
   ]
  },
  {
   "cell_type": "code",
   "execution_count": 57,
   "metadata": {},
   "outputs": [],
   "source": [
    "LinearColormap?"
   ]
  },
  {
   "cell_type": "code",
   "execution_count": null,
   "metadata": {},
   "outputs": [],
   "source": []
  }
 ],
 "metadata": {
  "kernelspec": {
   "display_name": "Python 3",
   "language": "python",
   "name": "python3"
  },
  "language_info": {
   "codemirror_mode": {
    "name": "ipython",
    "version": 3
   },
   "file_extension": ".py",
   "mimetype": "text/x-python",
   "name": "python",
   "nbconvert_exporter": "python",
   "pygments_lexer": "ipython3",
   "version": "3.6.6"
  }
 },
 "nbformat": 4,
 "nbformat_minor": 2
}

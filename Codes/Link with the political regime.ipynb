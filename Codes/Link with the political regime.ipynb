{
 "cells": [
  {
   "cell_type": "code",
   "execution_count": 2,
   "metadata": {},
   "outputs": [],
   "source": [
    "import pandas as pd\n",
    "import seaborn as sns\n",
    "import matplotlib.pyplot as plt\n",
    "import numpy as np"
   ]
  },
  {
   "cell_type": "code",
   "execution_count": 73,
   "metadata": {},
   "outputs": [
    {
     "data": {
      "text/html": [
       "<div>\n",
       "<style scoped>\n",
       "    .dataframe tbody tr th:only-of-type {\n",
       "        vertical-align: middle;\n",
       "    }\n",
       "\n",
       "    .dataframe tbody tr th {\n",
       "        vertical-align: top;\n",
       "    }\n",
       "\n",
       "    .dataframe thead th {\n",
       "        text-align: right;\n",
       "    }\n",
       "</style>\n",
       "<table border=\"1\" class=\"dataframe\">\n",
       "  <thead>\n",
       "    <tr style=\"text-align: right;\">\n",
       "      <th></th>\n",
       "      <th>country</th>\n",
       "      <th>year</th>\n",
       "      <th>Democratic Quality</th>\n",
       "    </tr>\n",
       "  </thead>\n",
       "  <tbody>\n",
       "    <tr>\n",
       "      <th>0</th>\n",
       "      <td>Afghanistan</td>\n",
       "      <td>2008</td>\n",
       "      <td>-1.929690</td>\n",
       "    </tr>\n",
       "    <tr>\n",
       "      <th>1</th>\n",
       "      <td>Afghanistan</td>\n",
       "      <td>2009</td>\n",
       "      <td>-2.044093</td>\n",
       "    </tr>\n",
       "    <tr>\n",
       "      <th>2</th>\n",
       "      <td>Afghanistan</td>\n",
       "      <td>2010</td>\n",
       "      <td>-1.991810</td>\n",
       "    </tr>\n",
       "    <tr>\n",
       "      <th>3</th>\n",
       "      <td>Afghanistan</td>\n",
       "      <td>2011</td>\n",
       "      <td>-1.919018</td>\n",
       "    </tr>\n",
       "    <tr>\n",
       "      <th>4</th>\n",
       "      <td>Afghanistan</td>\n",
       "      <td>2012</td>\n",
       "      <td>-1.842996</td>\n",
       "    </tr>\n",
       "  </tbody>\n",
       "</table>\n",
       "</div>"
      ],
      "text/plain": [
       "       country  year  Democratic Quality\n",
       "0  Afghanistan  2008           -1.929690\n",
       "1  Afghanistan  2009           -2.044093\n",
       "2  Afghanistan  2010           -1.991810\n",
       "3  Afghanistan  2011           -1.919018\n",
       "4  Afghanistan  2012           -1.842996"
      ]
     },
     "execution_count": 73,
     "metadata": {},
     "output_type": "execute_result"
    }
   ],
   "source": [
    "DemocraticQualityData = pd.read_excel('../Data/HappinessData.xls', sheet_name = 'Table2.1', usecols=\"A,B,M\")\n",
    "DemocraticQualityData.head()"
   ]
  },
  {
   "cell_type": "code",
   "execution_count": 74,
   "metadata": {},
   "outputs": [],
   "source": [
    "# Get the more recent Democratic Quality score --> should we take the mean ?\n",
    "DemocraticQualityData = DemocraticQualityData.sort_values('year', ascending=False)\\\n",
    "    .groupby(\"country\").first()"
   ]
  },
  {
   "cell_type": "code",
   "execution_count": 75,
   "metadata": {},
   "outputs": [
    {
     "data": {
      "text/html": [
       "<div>\n",
       "<style scoped>\n",
       "    .dataframe tbody tr th:only-of-type {\n",
       "        vertical-align: middle;\n",
       "    }\n",
       "\n",
       "    .dataframe tbody tr th {\n",
       "        vertical-align: top;\n",
       "    }\n",
       "\n",
       "    .dataframe thead th {\n",
       "        text-align: right;\n",
       "    }\n",
       "</style>\n",
       "<table border=\"1\" class=\"dataframe\">\n",
       "  <thead>\n",
       "    <tr style=\"text-align: right;\">\n",
       "      <th></th>\n",
       "      <th>Democratic Quality</th>\n",
       "    </tr>\n",
       "    <tr>\n",
       "      <th>country</th>\n",
       "      <th></th>\n",
       "    </tr>\n",
       "  </thead>\n",
       "  <tbody>\n",
       "    <tr>\n",
       "      <th>Afghanistan</th>\n",
       "      <td>-1.917693</td>\n",
       "    </tr>\n",
       "    <tr>\n",
       "      <th>Albania</th>\n",
       "      <td>0.208456</td>\n",
       "    </tr>\n",
       "    <tr>\n",
       "      <th>Algeria</th>\n",
       "      <td>-1.008262</td>\n",
       "    </tr>\n",
       "    <tr>\n",
       "      <th>Angola</th>\n",
       "      <td>-0.739363</td>\n",
       "    </tr>\n",
       "    <tr>\n",
       "      <th>Argentina</th>\n",
       "      <td>0.381370</td>\n",
       "    </tr>\n",
       "  </tbody>\n",
       "</table>\n",
       "</div>"
      ],
      "text/plain": [
       "             Democratic Quality\n",
       "country                        \n",
       "Afghanistan           -1.917693\n",
       "Albania                0.208456\n",
       "Algeria               -1.008262\n",
       "Angola                -0.739363\n",
       "Argentina              0.381370"
      ]
     },
     "execution_count": 75,
     "metadata": {},
     "output_type": "execute_result"
    }
   ],
   "source": [
    "DemocraticQualityData = DemocraticQualityData.drop('year', axis=1)\n",
    "DemocraticQualityData.head()"
   ]
  },
  {
   "cell_type": "code",
   "execution_count": 76,
   "metadata": {},
   "outputs": [
    {
     "data": {
      "text/html": [
       "<div>\n",
       "<style scoped>\n",
       "    .dataframe tbody tr th:only-of-type {\n",
       "        vertical-align: middle;\n",
       "    }\n",
       "\n",
       "    .dataframe tbody tr th {\n",
       "        vertical-align: top;\n",
       "    }\n",
       "\n",
       "    .dataframe thead th {\n",
       "        text-align: right;\n",
       "    }\n",
       "</style>\n",
       "<table border=\"1\" class=\"dataframe\">\n",
       "  <thead>\n",
       "    <tr style=\"text-align: right;\">\n",
       "      <th></th>\n",
       "      <th>FIPS 10-4</th>\n",
       "      <th>Name</th>\n",
       "    </tr>\n",
       "  </thead>\n",
       "  <tbody>\n",
       "    <tr>\n",
       "      <th>0</th>\n",
       "      <td>AF</td>\n",
       "      <td>Afghanistan</td>\n",
       "    </tr>\n",
       "    <tr>\n",
       "      <th>1</th>\n",
       "      <td>AX</td>\n",
       "      <td>Akrotiri</td>\n",
       "    </tr>\n",
       "    <tr>\n",
       "      <th>2</th>\n",
       "      <td>AL</td>\n",
       "      <td>Albania</td>\n",
       "    </tr>\n",
       "    <tr>\n",
       "      <th>3</th>\n",
       "      <td>AG</td>\n",
       "      <td>Algeria</td>\n",
       "    </tr>\n",
       "    <tr>\n",
       "      <th>4</th>\n",
       "      <td>AQ</td>\n",
       "      <td>American Samoa</td>\n",
       "    </tr>\n",
       "  </tbody>\n",
       "</table>\n",
       "</div>"
      ],
      "text/plain": [
       "  FIPS 10-4            Name\n",
       "0        AF     Afghanistan\n",
       "1        AX        Akrotiri\n",
       "2        AL         Albania\n",
       "3        AG         Algeria\n",
       "4        AQ  American Samoa"
      ]
     },
     "execution_count": 76,
     "metadata": {},
     "output_type": "execute_result"
    }
   ],
   "source": [
    "FIPS_codes = pd.read_csv('../Data/fips-country-codes.csv', usecols = ['Name', 'FIPS 10-4'])\n",
    "FIPS_codes.head()"
   ]
  },
  {
   "cell_type": "code",
   "execution_count": 77,
   "metadata": {},
   "outputs": [
    {
     "data": {
      "text/html": [
       "<div>\n",
       "<style scoped>\n",
       "    .dataframe tbody tr th:only-of-type {\n",
       "        vertical-align: middle;\n",
       "    }\n",
       "\n",
       "    .dataframe tbody tr th {\n",
       "        vertical-align: top;\n",
       "    }\n",
       "\n",
       "    .dataframe thead th {\n",
       "        text-align: right;\n",
       "    }\n",
       "</style>\n",
       "<table border=\"1\" class=\"dataframe\">\n",
       "  <thead>\n",
       "    <tr style=\"text-align: right;\">\n",
       "      <th></th>\n",
       "      <th>Democratic Quality</th>\n",
       "      <th>FIPS 10-4</th>\n",
       "      <th>Name</th>\n",
       "    </tr>\n",
       "  </thead>\n",
       "  <tbody>\n",
       "    <tr>\n",
       "      <th>0</th>\n",
       "      <td>-1.917693</td>\n",
       "      <td>AF</td>\n",
       "      <td>Afghanistan</td>\n",
       "    </tr>\n",
       "    <tr>\n",
       "      <th>1</th>\n",
       "      <td>0.208456</td>\n",
       "      <td>AL</td>\n",
       "      <td>Albania</td>\n",
       "    </tr>\n",
       "    <tr>\n",
       "      <th>2</th>\n",
       "      <td>-1.008262</td>\n",
       "      <td>AG</td>\n",
       "      <td>Algeria</td>\n",
       "    </tr>\n",
       "    <tr>\n",
       "      <th>3</th>\n",
       "      <td>-0.739363</td>\n",
       "      <td>AO</td>\n",
       "      <td>Angola</td>\n",
       "    </tr>\n",
       "    <tr>\n",
       "      <th>4</th>\n",
       "      <td>0.381370</td>\n",
       "      <td>AR</td>\n",
       "      <td>Argentina</td>\n",
       "    </tr>\n",
       "  </tbody>\n",
       "</table>\n",
       "</div>"
      ],
      "text/plain": [
       "   Democratic Quality FIPS 10-4         Name\n",
       "0           -1.917693        AF  Afghanistan\n",
       "1            0.208456        AL      Albania\n",
       "2           -1.008262        AG      Algeria\n",
       "3           -0.739363        AO       Angola\n",
       "4            0.381370        AR    Argentina"
      ]
     },
     "execution_count": 77,
     "metadata": {},
     "output_type": "execute_result"
    }
   ],
   "source": [
    "DemocraticQuality_byFIPS = DemocraticQualityData.merge(FIPS_codes, left_on='country', right_on='Name')\n",
    "DemocraticQuality_byFIPS.head()"
   ]
  },
  {
   "cell_type": "code",
   "execution_count": 78,
   "metadata": {},
   "outputs": [
    {
     "data": {
      "text/plain": [
       "count    154.000000\n",
       "mean      -0.162913\n",
       "std        0.881022\n",
       "min       -2.448228\n",
       "25%       -0.738842\n",
       "50%       -0.249497\n",
       "75%        0.571413\n",
       "max        1.467140\n",
       "Name: Democratic Quality, dtype: float64"
      ]
     },
     "execution_count": 78,
     "metadata": {},
     "output_type": "execute_result"
    }
   ],
   "source": [
    "DemocraticQuality_byFIPS['Democratic Quality'].describe()"
   ]
  },
  {
   "cell_type": "code",
   "execution_count": 79,
   "metadata": {},
   "outputs": [
    {
     "data": {
      "text/html": [
       "<div>\n",
       "<style scoped>\n",
       "    .dataframe tbody tr th:only-of-type {\n",
       "        vertical-align: middle;\n",
       "    }\n",
       "\n",
       "    .dataframe tbody tr th {\n",
       "        vertical-align: top;\n",
       "    }\n",
       "\n",
       "    .dataframe thead th {\n",
       "        text-align: right;\n",
       "    }\n",
       "</style>\n",
       "<table border=\"1\" class=\"dataframe\">\n",
       "  <thead>\n",
       "    <tr style=\"text-align: right;\">\n",
       "      <th></th>\n",
       "      <th>Democratic Quality</th>\n",
       "      <th>FIPS 10-4</th>\n",
       "      <th>Name</th>\n",
       "      <th>Democratic Quality binned</th>\n",
       "    </tr>\n",
       "  </thead>\n",
       "  <tbody>\n",
       "    <tr>\n",
       "      <th>0</th>\n",
       "      <td>-1.917693</td>\n",
       "      <td>AF</td>\n",
       "      <td>Afghanistan</td>\n",
       "      <td>(-2.0, -1.5]</td>\n",
       "    </tr>\n",
       "    <tr>\n",
       "      <th>1</th>\n",
       "      <td>0.208456</td>\n",
       "      <td>AL</td>\n",
       "      <td>Albania</td>\n",
       "      <td>(0.0, 0.5]</td>\n",
       "    </tr>\n",
       "    <tr>\n",
       "      <th>2</th>\n",
       "      <td>-1.008262</td>\n",
       "      <td>AG</td>\n",
       "      <td>Algeria</td>\n",
       "      <td>(-1.5, -1.0]</td>\n",
       "    </tr>\n",
       "    <tr>\n",
       "      <th>3</th>\n",
       "      <td>-0.739363</td>\n",
       "      <td>AO</td>\n",
       "      <td>Angola</td>\n",
       "      <td>(-1.0, -0.5]</td>\n",
       "    </tr>\n",
       "    <tr>\n",
       "      <th>4</th>\n",
       "      <td>0.381370</td>\n",
       "      <td>AR</td>\n",
       "      <td>Argentina</td>\n",
       "      <td>(0.0, 0.5]</td>\n",
       "    </tr>\n",
       "  </tbody>\n",
       "</table>\n",
       "</div>"
      ],
      "text/plain": [
       "   Democratic Quality FIPS 10-4         Name Democratic Quality binned\n",
       "0           -1.917693        AF  Afghanistan              (-2.0, -1.5]\n",
       "1            0.208456        AL      Albania                (0.0, 0.5]\n",
       "2           -1.008262        AG      Algeria              (-1.5, -1.0]\n",
       "3           -0.739363        AO       Angola              (-1.0, -0.5]\n",
       "4            0.381370        AR    Argentina                (0.0, 0.5]"
      ]
     },
     "execution_count": 79,
     "metadata": {},
     "output_type": "execute_result"
    }
   ],
   "source": [
    "# Split DemocraticQuality index into bins in order to group countries with similar index\n",
    "DemocraticQuality_byFIPS['Democratic Quality binned']=pd.cut(DemocraticQuality_byFIPS['Democratic Quality'],\\\n",
    "                                                             bins = [-2.5, -2, -1.5, -1, -0.5, 0, 0.5, 1, 1.5])\n",
    "DemocraticQuality_byFIPS.head()"
   ]
  },
  {
   "cell_type": "code",
   "execution_count": 80,
   "metadata": {},
   "outputs": [
    {
     "data": {
      "text/html": [
       "<div>\n",
       "<style scoped>\n",
       "    .dataframe tbody tr th:only-of-type {\n",
       "        vertical-align: middle;\n",
       "    }\n",
       "\n",
       "    .dataframe tbody tr th {\n",
       "        vertical-align: top;\n",
       "    }\n",
       "\n",
       "    .dataframe thead th {\n",
       "        text-align: right;\n",
       "    }\n",
       "</style>\n",
       "<table border=\"1\" class=\"dataframe\">\n",
       "  <thead>\n",
       "    <tr style=\"text-align: right;\">\n",
       "      <th></th>\n",
       "      <th>Democratic_Quality_binned</th>\n",
       "      <th>FIPS</th>\n",
       "    </tr>\n",
       "  </thead>\n",
       "  <tbody>\n",
       "    <tr>\n",
       "      <th>0</th>\n",
       "      <td>(-2.5, -2.0]</td>\n",
       "      <td>[SO, OD, SU, SY, YM]</td>\n",
       "    </tr>\n",
       "    <tr>\n",
       "      <th>1</th>\n",
       "      <td>(-2.0, -1.5]</td>\n",
       "      <td>[AF, ET, IZ, LY, PK]</td>\n",
       "    </tr>\n",
       "    <tr>\n",
       "      <th>2</th>\n",
       "      <td>(-1.5, -1.0]</td>\n",
       "      <td>[AG, AJ, BA, CT, CD, CH, EG, IR, LE, NI, RS, S...</td>\n",
       "    </tr>\n",
       "    <tr>\n",
       "      <th>3</th>\n",
       "      <td>(-1.0, -0.5]</td>\n",
       "      <td>[AO, AM, BG, BO, BY, CM, CU, DJ, GB, GV, HA, J...</td>\n",
       "    </tr>\n",
       "    <tr>\n",
       "      <th>4</th>\n",
       "      <td>(-0.5, 0.0]</td>\n",
       "      <td>[BL, BK, UV, CB, CO, CN, EC, GG, GT, GY, HO, I...</td>\n",
       "    </tr>\n",
       "  </tbody>\n",
       "</table>\n",
       "</div>"
      ],
      "text/plain": [
       "  Democratic_Quality_binned                                               FIPS\n",
       "0              (-2.5, -2.0]                               [SO, OD, SU, SY, YM]\n",
       "1              (-2.0, -1.5]                               [AF, ET, IZ, LY, PK]\n",
       "2              (-1.5, -1.0]  [AG, AJ, BA, CT, CD, CH, EG, IR, LE, NI, RS, S...\n",
       "3              (-1.0, -0.5]  [AO, AM, BG, BO, BY, CM, CU, DJ, GB, GV, HA, J...\n",
       "4               (-0.5, 0.0]  [BL, BK, UV, CB, CO, CN, EC, GG, GT, GY, HO, I..."
      ]
     },
     "execution_count": 80,
     "metadata": {},
     "output_type": "execute_result"
    }
   ],
   "source": [
    "list_by_bin = DemocraticQuality_byFIPS.groupby('Democratic Quality binned')['FIPS 10-4'].apply(list)\n",
    "\n",
    "binned_DemocraticQuality = pd.DataFrame(list_by_bin)\n",
    "binned_DemocraticQuality = binned_DemocraticQuality.reset_index()\n",
    "binned_DemocraticQuality = binned_DemocraticQuality.rename(index=str, columns={'FIPS 10-4':'FIPS'})\n",
    "binned_DemocraticQuality = binned_DemocraticQuality.rename(index=str, columns={'Democratic Quality binned':'Democratic_Quality_binned'})\n",
    "\n",
    "binned_DemocraticQuality.head()"
   ]
  },
  {
   "cell_type": "code",
   "execution_count": 81,
   "metadata": {},
   "outputs": [],
   "source": [
    "binned_DemocraticQuality.to_csv('binned_DemocraticQuality_FIPS', header=False, index=False)"
   ]
  },
  {
   "cell_type": "code",
   "execution_count": 82,
   "metadata": {},
   "outputs": [
    {
     "data": {
      "text/html": [
       "<div>\n",
       "<style scoped>\n",
       "    .dataframe tbody tr th:only-of-type {\n",
       "        vertical-align: middle;\n",
       "    }\n",
       "\n",
       "    .dataframe tbody tr th {\n",
       "        vertical-align: top;\n",
       "    }\n",
       "\n",
       "    .dataframe thead th {\n",
       "        text-align: right;\n",
       "    }\n",
       "</style>\n",
       "<table border=\"1\" class=\"dataframe\">\n",
       "  <thead>\n",
       "    <tr style=\"text-align: right;\">\n",
       "      <th></th>\n",
       "      <th>FIPS</th>\n",
       "      <th>AverageTone</th>\n",
       "    </tr>\n",
       "  </thead>\n",
       "  <tbody>\n",
       "    <tr>\n",
       "      <th>0</th>\n",
       "      <td>IT</td>\n",
       "      <td>-1.226632</td>\n",
       "    </tr>\n",
       "    <tr>\n",
       "      <th>1</th>\n",
       "      <td>WA</td>\n",
       "      <td>-2.156439</td>\n",
       "    </tr>\n",
       "    <tr>\n",
       "      <th>2</th>\n",
       "      <td>CM</td>\n",
       "      <td>-2.944971</td>\n",
       "    </tr>\n",
       "    <tr>\n",
       "      <th>3</th>\n",
       "      <td>ML</td>\n",
       "      <td>-1.462604</td>\n",
       "    </tr>\n",
       "    <tr>\n",
       "      <th>4</th>\n",
       "      <td>MG</td>\n",
       "      <td>-0.242109</td>\n",
       "    </tr>\n",
       "  </tbody>\n",
       "</table>\n",
       "</div>"
      ],
      "text/plain": [
       "  FIPS  AverageTone\n",
       "0   IT    -1.226632\n",
       "1   WA    -2.156439\n",
       "2   CM    -2.944971\n",
       "3   ML    -1.462604\n",
       "4   MG    -0.242109"
      ]
     },
     "execution_count": 82,
     "metadata": {},
     "output_type": "execute_result"
    }
   ],
   "source": [
    "averageTone_FIPS = pd.read_csv('../Data/avgToneBySourceLocation_table.csv')\n",
    "averageTone_FIPS.head()"
   ]
  },
  {
   "cell_type": "code",
   "execution_count": 83,
   "metadata": {},
   "outputs": [
    {
     "data": {
      "text/html": [
       "<div>\n",
       "<style scoped>\n",
       "    .dataframe tbody tr th:only-of-type {\n",
       "        vertical-align: middle;\n",
       "    }\n",
       "\n",
       "    .dataframe tbody tr th {\n",
       "        vertical-align: top;\n",
       "    }\n",
       "\n",
       "    .dataframe thead th {\n",
       "        text-align: right;\n",
       "    }\n",
       "</style>\n",
       "<table border=\"1\" class=\"dataframe\">\n",
       "  <thead>\n",
       "    <tr style=\"text-align: right;\">\n",
       "      <th></th>\n",
       "      <th>Democratic Quality</th>\n",
       "      <th>Name</th>\n",
       "      <th>Democratic Quality binned</th>\n",
       "      <th>FIPS</th>\n",
       "      <th>AverageTone</th>\n",
       "    </tr>\n",
       "  </thead>\n",
       "  <tbody>\n",
       "    <tr>\n",
       "      <th>0</th>\n",
       "      <td>-1.917693</td>\n",
       "      <td>Afghanistan</td>\n",
       "      <td>(-2.0, -1.5]</td>\n",
       "      <td>AF</td>\n",
       "      <td>-3.374755</td>\n",
       "    </tr>\n",
       "    <tr>\n",
       "      <th>1</th>\n",
       "      <td>0.208456</td>\n",
       "      <td>Albania</td>\n",
       "      <td>(0.0, 0.5]</td>\n",
       "      <td>AL</td>\n",
       "      <td>-1.843297</td>\n",
       "    </tr>\n",
       "    <tr>\n",
       "      <th>2</th>\n",
       "      <td>-1.008262</td>\n",
       "      <td>Algeria</td>\n",
       "      <td>(-1.5, -1.0]</td>\n",
       "      <td>AG</td>\n",
       "      <td>-2.045113</td>\n",
       "    </tr>\n",
       "    <tr>\n",
       "      <th>3</th>\n",
       "      <td>-0.739363</td>\n",
       "      <td>Angola</td>\n",
       "      <td>(-1.0, -0.5]</td>\n",
       "      <td>AO</td>\n",
       "      <td>-1.026558</td>\n",
       "    </tr>\n",
       "    <tr>\n",
       "      <th>4</th>\n",
       "      <td>0.381370</td>\n",
       "      <td>Argentina</td>\n",
       "      <td>(0.0, 0.5]</td>\n",
       "      <td>AR</td>\n",
       "      <td>-1.964747</td>\n",
       "    </tr>\n",
       "  </tbody>\n",
       "</table>\n",
       "</div>"
      ],
      "text/plain": [
       "   Democratic Quality         Name Democratic Quality binned FIPS  AverageTone\n",
       "0           -1.917693  Afghanistan              (-2.0, -1.5]   AF    -3.374755\n",
       "1            0.208456      Albania                (0.0, 0.5]   AL    -1.843297\n",
       "2           -1.008262      Algeria              (-1.5, -1.0]   AG    -2.045113\n",
       "3           -0.739363       Angola              (-1.0, -0.5]   AO    -1.026558\n",
       "4            0.381370    Argentina                (0.0, 0.5]   AR    -1.964747"
      ]
     },
     "execution_count": 83,
     "metadata": {},
     "output_type": "execute_result"
    }
   ],
   "source": [
    "DemocraticQuality_AvgTone_byFIPS = DemocraticQuality_byFIPS.merge(averageTone_FIPS, left_on='FIPS 10-4', right_on='FIPS')\\\n",
    "    .drop(['FIPS 10-4'], axis=1)\n",
    "DemocraticQuality_AvgTone_byFIPS.head()"
   ]
  },
  {
   "cell_type": "code",
   "execution_count": 84,
   "metadata": {},
   "outputs": [
    {
     "data": {
      "text/plain": [
       "Democratic Quality binned\n",
       "(-2.5, -2.0]   -2.631084\n",
       "(-2.0, -1.5]   -2.574403\n",
       "(-1.5, -1.0]   -1.635941\n",
       "(-1.0, -0.5]   -1.578045\n",
       "(-0.5, 0.0]    -1.735919\n",
       "Name: AverageTone, dtype: float64"
      ]
     },
     "execution_count": 84,
     "metadata": {},
     "output_type": "execute_result"
    }
   ],
   "source": [
    "DemocraticQuality_AvgTone_mean=DemocraticQuality_AvgTone_byFIPS.groupby('Democratic Quality binned')['AverageTone']\\\n",
    "    .apply(np.mean)\n",
    "DemocraticQuality_AvgTone_mean.head()"
   ]
  },
  {
   "cell_type": "code",
   "execution_count": 85,
   "metadata": {},
   "outputs": [
    {
     "data": {
      "text/plain": [
       "Text(0, 0.5, 'Average Tone')"
      ]
     },
     "execution_count": 85,
     "metadata": {},
     "output_type": "execute_result"
    },
    {
     "data": {
      "image/png": "[encoded data removed]",
      "text/plain": [
       "<Figure size 1440x1440 with 1 Axes>"
      ]
     },
     "metadata": {
      "needs_background": "light"
     },
     "output_type": "display_data"
    }
   ],
   "source": [
    "DemocraticQuality_AvgTone_mean.plot.bar()\n",
    "plt.ylabel('Average Tone')"
   ]
  },
  {
   "cell_type": "code",
   "execution_count": 86,
   "metadata": {},
   "outputs": [
    {
     "name": "stdout",
     "output_type": "stream",
     "text": [
      "The Pearson correlation between Democratic Quality and Average Tone is : \n",
      "-0.0769280980307341\n"
     ]
    }
   ],
   "source": [
    "print('The Pearson correlation between Democratic Quality and Average Tone is : ')\n",
    "print(DemocraticQuality_AvgTone_byFIPS['Democratic Quality'].corr(DemocraticQuality_AvgTone_byFIPS['AverageTone']))"
   ]
  },
  {
   "cell_type": "code",
   "execution_count": 87,
   "metadata": {},
   "outputs": [
    {
     "data": {
      "text/html": [
       "<div>\n",
       "<style scoped>\n",
       "    .dataframe tbody tr th:only-of-type {\n",
       "        vertical-align: middle;\n",
       "    }\n",
       "\n",
       "    .dataframe tbody tr th {\n",
       "        vertical-align: top;\n",
       "    }\n",
       "\n",
       "    .dataframe thead th {\n",
       "        text-align: right;\n",
       "    }\n",
       "</style>\n",
       "<table border=\"1\" class=\"dataframe\">\n",
       "  <thead>\n",
       "    <tr style=\"text-align: right;\">\n",
       "      <th></th>\n",
       "      <th>FIPS</th>\n",
       "      <th>EventRootCode</th>\n",
       "      <th>AvgTone</th>\n",
       "    </tr>\n",
       "  </thead>\n",
       "  <tbody>\n",
       "    <tr>\n",
       "      <th>0</th>\n",
       "      <td>TU</td>\n",
       "      <td>5</td>\n",
       "      <td>0.641469</td>\n",
       "    </tr>\n",
       "    <tr>\n",
       "      <th>1</th>\n",
       "      <td>JO</td>\n",
       "      <td>5</td>\n",
       "      <td>0.100875</td>\n",
       "    </tr>\n",
       "    <tr>\n",
       "      <th>2</th>\n",
       "      <td>SC</td>\n",
       "      <td>5</td>\n",
       "      <td>2.567115</td>\n",
       "    </tr>\n",
       "    <tr>\n",
       "      <th>3</th>\n",
       "      <td>GP</td>\n",
       "      <td>5</td>\n",
       "      <td>-0.572004</td>\n",
       "    </tr>\n",
       "    <tr>\n",
       "      <th>4</th>\n",
       "      <td>PC</td>\n",
       "      <td>5</td>\n",
       "      <td>-1.619279</td>\n",
       "    </tr>\n",
       "  </tbody>\n",
       "</table>\n",
       "</div>"
      ],
      "text/plain": [
       "  FIPS  EventRootCode   AvgTone\n",
       "0   TU              5  0.641469\n",
       "1   JO              5  0.100875\n",
       "2   SC              5  2.567115\n",
       "3   GP              5 -0.572004\n",
       "4   PC              5 -1.619279"
      ]
     },
     "execution_count": 87,
     "metadata": {},
     "output_type": "execute_result"
    }
   ],
   "source": [
    "# Observe for several EventRootCodes, the average tone in each country\n",
    "avgTone_FIPS_EventRootCode = pd.read_csv('../Data/avgTone_FIPS_EventRootCode.csv')\\\n",
    "    .rename(index=str, columns={'f0_':'AvgTone'})\n",
    "avgTone_FIPS_EventRootCode.head()"
   ]
  },
  {
   "cell_type": "code",
   "execution_count": 88,
   "metadata": {},
   "outputs": [
    {
     "data": {
      "text/html": [
       "<div>\n",
       "<style scoped>\n",
       "    .dataframe tbody tr th:only-of-type {\n",
       "        vertical-align: middle;\n",
       "    }\n",
       "\n",
       "    .dataframe tbody tr th {\n",
       "        vertical-align: top;\n",
       "    }\n",
       "\n",
       "    .dataframe thead th {\n",
       "        text-align: right;\n",
       "    }\n",
       "</style>\n",
       "<table border=\"1\" class=\"dataframe\">\n",
       "  <thead>\n",
       "    <tr style=\"text-align: right;\">\n",
       "      <th></th>\n",
       "      <th>Democratic Quality</th>\n",
       "      <th>Name</th>\n",
       "      <th>Democratic Quality binned</th>\n",
       "      <th>FIPS</th>\n",
       "      <th>EventRootCode</th>\n",
       "      <th>AvgTone</th>\n",
       "    </tr>\n",
       "  </thead>\n",
       "  <tbody>\n",
       "    <tr>\n",
       "      <th>0</th>\n",
       "      <td>-1.917693</td>\n",
       "      <td>Afghanistan</td>\n",
       "      <td>(-2.0, -1.5]</td>\n",
       "      <td>AF</td>\n",
       "      <td>5</td>\n",
       "      <td>-0.896783</td>\n",
       "    </tr>\n",
       "    <tr>\n",
       "      <th>1</th>\n",
       "      <td>-1.917693</td>\n",
       "      <td>Afghanistan</td>\n",
       "      <td>(-2.0, -1.5]</td>\n",
       "      <td>AF</td>\n",
       "      <td>6</td>\n",
       "      <td>-2.208447</td>\n",
       "    </tr>\n",
       "    <tr>\n",
       "      <th>2</th>\n",
       "      <td>-1.917693</td>\n",
       "      <td>Afghanistan</td>\n",
       "      <td>(-2.0, -1.5]</td>\n",
       "      <td>AF</td>\n",
       "      <td>14</td>\n",
       "      <td>-5.137769</td>\n",
       "    </tr>\n",
       "    <tr>\n",
       "      <th>3</th>\n",
       "      <td>-1.917693</td>\n",
       "      <td>Afghanistan</td>\n",
       "      <td>(-2.0, -1.5]</td>\n",
       "      <td>AF</td>\n",
       "      <td>15</td>\n",
       "      <td>-3.055255</td>\n",
       "    </tr>\n",
       "    <tr>\n",
       "      <th>4</th>\n",
       "      <td>-1.917693</td>\n",
       "      <td>Afghanistan</td>\n",
       "      <td>(-2.0, -1.5]</td>\n",
       "      <td>AF</td>\n",
       "      <td>19</td>\n",
       "      <td>-6.547427</td>\n",
       "    </tr>\n",
       "  </tbody>\n",
       "</table>\n",
       "</div>"
      ],
      "text/plain": [
       "   Democratic Quality         Name Democratic Quality binned FIPS  \\\n",
       "0           -1.917693  Afghanistan              (-2.0, -1.5]   AF   \n",
       "1           -1.917693  Afghanistan              (-2.0, -1.5]   AF   \n",
       "2           -1.917693  Afghanistan              (-2.0, -1.5]   AF   \n",
       "3           -1.917693  Afghanistan              (-2.0, -1.5]   AF   \n",
       "4           -1.917693  Afghanistan              (-2.0, -1.5]   AF   \n",
       "\n",
       "   EventRootCode   AvgTone  \n",
       "0              5 -0.896783  \n",
       "1              6 -2.208447  \n",
       "2             14 -5.137769  \n",
       "3             15 -3.055255  \n",
       "4             19 -6.547427  "
      ]
     },
     "execution_count": 88,
     "metadata": {},
     "output_type": "execute_result"
    }
   ],
   "source": [
    "# Try to find a link with the democratic index in the country\n",
    "avgTone_EventRootCode_Demo = DemocraticQuality_byFIPS\\\n",
    "    .merge(avgTone_FIPS_EventRootCode, left_on='FIPS 10-4', right_on='FIPS')\\\n",
    "    .drop('FIPS 10-4', axis=1)\n",
    "avgTone_EventRootCode_Demo.head()"
   ]
  },
  {
   "cell_type": "code",
   "execution_count": 101,
   "metadata": {},
   "outputs": [
    {
     "data": {
      "text/plain": [
       "<matplotlib.axes._subplots.AxesSubplot at 0x1a27e31d68>"
      ]
     },
     "execution_count": 101,
     "metadata": {},
     "output_type": "execute_result"
    },
    {
     "data": {
      "image/png": "[encoded data removed]",
      "text/plain": [
       "<Figure size 1440x1440 with 1 Axes>"
      ]
     },
     "metadata": {
      "needs_background": "light"
     },
     "output_type": "display_data"
    }
   ],
   "source": [
    "sns.barplot(x=\"EventRootCode\", y=\"AvgTone\", hue=\"Democratic Quality binned\", data=avgTone_EventRootCode_Demo)"
   ]
  },
  {
   "cell_type": "code",
   "execution_count": 102,
   "metadata": {},
   "outputs": [
    {
     "data": {
      "text/html": [
       "<div>\n",
       "<style scoped>\n",
       "    .dataframe tbody tr th:only-of-type {\n",
       "        vertical-align: middle;\n",
       "    }\n",
       "\n",
       "    .dataframe tbody tr th {\n",
       "        vertical-align: top;\n",
       "    }\n",
       "\n",
       "    .dataframe thead tr th {\n",
       "        text-align: left;\n",
       "    }\n",
       "\n",
       "    .dataframe thead tr:last-of-type th {\n",
       "        text-align: right;\n",
       "    }\n",
       "</style>\n",
       "<table border=\"1\" class=\"dataframe\">\n",
       "  <thead>\n",
       "    <tr>\n",
       "      <th></th>\n",
       "      <th colspan=\"5\" halign=\"left\">AvgTone</th>\n",
       "    </tr>\n",
       "    <tr>\n",
       "      <th>EventRootCode</th>\n",
       "      <th>5</th>\n",
       "      <th>6</th>\n",
       "      <th>14</th>\n",
       "      <th>15</th>\n",
       "      <th>19</th>\n",
       "    </tr>\n",
       "    <tr>\n",
       "      <th>Democratic Quality binned</th>\n",
       "      <th></th>\n",
       "      <th></th>\n",
       "      <th></th>\n",
       "      <th></th>\n",
       "      <th></th>\n",
       "    </tr>\n",
       "  </thead>\n",
       "  <tbody>\n",
       "    <tr>\n",
       "      <th>(-2.5, -2.0]</th>\n",
       "      <td>-0.710548</td>\n",
       "      <td>-2.314746</td>\n",
       "      <td>-4.368456</td>\n",
       "      <td>-3.113141</td>\n",
       "      <td>-5.463931</td>\n",
       "    </tr>\n",
       "    <tr>\n",
       "      <th>(-2.0, -1.5]</th>\n",
       "      <td>-0.426933</td>\n",
       "      <td>-1.744307</td>\n",
       "      <td>-4.785505</td>\n",
       "      <td>-3.253414</td>\n",
       "      <td>-5.701234</td>\n",
       "    </tr>\n",
       "    <tr>\n",
       "      <th>(-1.5, -1.0]</th>\n",
       "      <td>0.362697</td>\n",
       "      <td>-1.084794</td>\n",
       "      <td>-3.488653</td>\n",
       "      <td>-2.620177</td>\n",
       "      <td>-4.845885</td>\n",
       "    </tr>\n",
       "    <tr>\n",
       "      <th>(-1.0, -0.5]</th>\n",
       "      <td>0.335028</td>\n",
       "      <td>-0.921354</td>\n",
       "      <td>-3.277511</td>\n",
       "      <td>-2.660077</td>\n",
       "      <td>-4.625361</td>\n",
       "    </tr>\n",
       "    <tr>\n",
       "      <th>(-0.5, 0.0]</th>\n",
       "      <td>0.267157</td>\n",
       "      <td>-1.005996</td>\n",
       "      <td>-3.415420</td>\n",
       "      <td>-2.711075</td>\n",
       "      <td>-4.842796</td>\n",
       "    </tr>\n",
       "  </tbody>\n",
       "</table>\n",
       "</div>"
      ],
      "text/plain": [
       "                            AvgTone                                        \n",
       "EventRootCode                    5         6         14        15        19\n",
       "Democratic Quality binned                                                  \n",
       "(-2.5, -2.0]              -0.710548 -2.314746 -4.368456 -3.113141 -5.463931\n",
       "(-2.0, -1.5]              -0.426933 -1.744307 -4.785505 -3.253414 -5.701234\n",
       "(-1.5, -1.0]               0.362697 -1.084794 -3.488653 -2.620177 -4.845885\n",
       "(-1.0, -0.5]               0.335028 -0.921354 -3.277511 -2.660077 -4.625361\n",
       "(-0.5, 0.0]                0.267157 -1.005996 -3.415420 -2.711075 -4.842796"
      ]
     },
     "execution_count": 102,
     "metadata": {},
     "output_type": "execute_result"
    }
   ],
   "source": [
    "avgTone_EventRootCode_Demo_binned = avgTone_EventRootCode_Demo.groupby(['Democratic Quality binned', 'EventRootCode'])['AvgTone'].apply(np.mean)\n",
    "\n",
    "avgTone_EventRootCode_Demo_binned = pd.DataFrame(avgTone_EventRootCode_Demo_binned).unstack()\n",
    "avgTone_EventRootCode_Demo_binned.head()"
   ]
  },
  {
   "cell_type": "code",
   "execution_count": 103,
   "metadata": {},
   "outputs": [],
   "source": [
    "#fig_size = plt.rcParams[\"figure.figsize\"]\n",
    "#fig_size[0] = 20\n",
    "#fig_size[1] = 20\n",
    "#plt.rcParams[\"figure.figsize\"] = fig_size\n",
    "\n",
    "#avgTone_EventRootCode_Demo_binned.unstack(level=0).plot(kind='bar', subplots=True)\n",
    "#fig = plt.gcf()\n",
    "#fig.savefig(\"democratic_event_avgTone.png\")"
   ]
  },
  {
   "cell_type": "code",
   "execution_count": 91,
   "metadata": {},
   "outputs": [
    {
     "data": {
      "text/html": [
       "<div>\n",
       "<style scoped>\n",
       "    .dataframe tbody tr th:only-of-type {\n",
       "        vertical-align: middle;\n",
       "    }\n",
       "\n",
       "    .dataframe tbody tr th {\n",
       "        vertical-align: top;\n",
       "    }\n",
       "\n",
       "    .dataframe thead th {\n",
       "        text-align: right;\n",
       "    }\n",
       "</style>\n",
       "<table border=\"1\" class=\"dataframe\">\n",
       "  <thead>\n",
       "    <tr style=\"text-align: right;\">\n",
       "      <th></th>\n",
       "      <th>Confidence in national government</th>\n",
       "    </tr>\n",
       "    <tr>\n",
       "      <th>country</th>\n",
       "      <th></th>\n",
       "    </tr>\n",
       "  </thead>\n",
       "  <tbody>\n",
       "    <tr>\n",
       "      <th>Afghanistan</th>\n",
       "      <td>0.261179</td>\n",
       "    </tr>\n",
       "    <tr>\n",
       "      <th>Albania</th>\n",
       "      <td>0.457738</td>\n",
       "    </tr>\n",
       "    <tr>\n",
       "      <th>Angola</th>\n",
       "      <td>0.572346</td>\n",
       "    </tr>\n",
       "    <tr>\n",
       "      <th>Argentina</th>\n",
       "      <td>0.305430</td>\n",
       "    </tr>\n",
       "    <tr>\n",
       "      <th>Armenia</th>\n",
       "      <td>0.246901</td>\n",
       "    </tr>\n",
       "  </tbody>\n",
       "</table>\n",
       "</div>"
      ],
      "text/plain": [
       "             Confidence in national government\n",
       "country                                       \n",
       "Afghanistan                           0.261179\n",
       "Albania                               0.457738\n",
       "Angola                                0.572346\n",
       "Argentina                             0.305430\n",
       "Armenia                               0.246901"
      ]
     },
     "execution_count": 91,
     "metadata": {},
     "output_type": "execute_result"
    }
   ],
   "source": [
    "# Observe the link with Confidence in the national government\n",
    "GovernmentConfidenceData = pd.read_excel('../Data/HappinessData.xls', sheet_name = 'Table2.1', usecols=\"A,B,L\")\\\n",
    "    .sort_values('year', ascending=False)\\\n",
    "    .groupby(\"country\").first()\\\n",
    "    .drop('year', axis=1)\\\n",
    "    .dropna()\n",
    "GovernmentConfidenceData.head()"
   ]
  },
  {
   "cell_type": "code",
   "execution_count": 92,
   "metadata": {},
   "outputs": [
    {
     "data": {
      "text/html": [
       "<div>\n",
       "<style scoped>\n",
       "    .dataframe tbody tr th:only-of-type {\n",
       "        vertical-align: middle;\n",
       "    }\n",
       "\n",
       "    .dataframe tbody tr th {\n",
       "        vertical-align: top;\n",
       "    }\n",
       "\n",
       "    .dataframe thead th {\n",
       "        text-align: right;\n",
       "    }\n",
       "</style>\n",
       "<table border=\"1\" class=\"dataframe\">\n",
       "  <thead>\n",
       "    <tr style=\"text-align: right;\">\n",
       "      <th></th>\n",
       "      <th>Confidence in national government</th>\n",
       "    </tr>\n",
       "    <tr>\n",
       "      <th>country</th>\n",
       "      <th></th>\n",
       "    </tr>\n",
       "  </thead>\n",
       "  <tbody>\n",
       "    <tr>\n",
       "      <th>Afghanistan</th>\n",
       "      <td>0.400442</td>\n",
       "    </tr>\n",
       "    <tr>\n",
       "      <th>Albania</th>\n",
       "      <td>0.409726</td>\n",
       "    </tr>\n",
       "    <tr>\n",
       "      <th>Angola</th>\n",
       "      <td>0.397389</td>\n",
       "    </tr>\n",
       "    <tr>\n",
       "      <th>Argentina</th>\n",
       "      <td>0.400587</td>\n",
       "    </tr>\n",
       "    <tr>\n",
       "      <th>Armenia</th>\n",
       "      <td>0.302084</td>\n",
       "    </tr>\n",
       "  </tbody>\n",
       "</table>\n",
       "</div>"
      ],
      "text/plain": [
       "             Confidence in national government\n",
       "country                                       \n",
       "Afghanistan                           0.400442\n",
       "Albania                               0.409726\n",
       "Angola                                0.397389\n",
       "Argentina                             0.400587\n",
       "Armenia                               0.302084"
      ]
     },
     "execution_count": 92,
     "metadata": {},
     "output_type": "execute_result"
    }
   ],
   "source": [
    "GovernmentConfidenceData = pd.read_excel('../Data/HappinessData.xls', sheet_name = 'Table2.1', usecols=\"A,L\")\\\n",
    "    .groupby('country')\\\n",
    "    .apply(np.mean)\\\n",
    "    .dropna()\n",
    "GovernmentConfidenceData.head()"
   ]
  },
  {
   "cell_type": "code",
   "execution_count": 93,
   "metadata": {},
   "outputs": [
    {
     "data": {
      "text/html": [
       "<div>\n",
       "<style scoped>\n",
       "    .dataframe tbody tr th:only-of-type {\n",
       "        vertical-align: middle;\n",
       "    }\n",
       "\n",
       "    .dataframe tbody tr th {\n",
       "        vertical-align: top;\n",
       "    }\n",
       "\n",
       "    .dataframe thead th {\n",
       "        text-align: right;\n",
       "    }\n",
       "</style>\n",
       "<table border=\"1\" class=\"dataframe\">\n",
       "  <thead>\n",
       "    <tr style=\"text-align: right;\">\n",
       "      <th></th>\n",
       "      <th>Confidence in national government</th>\n",
       "      <th>FIPS 10-4</th>\n",
       "      <th>Name</th>\n",
       "    </tr>\n",
       "  </thead>\n",
       "  <tbody>\n",
       "    <tr>\n",
       "      <th>0</th>\n",
       "      <td>0.400442</td>\n",
       "      <td>AF</td>\n",
       "      <td>Afghanistan</td>\n",
       "    </tr>\n",
       "    <tr>\n",
       "      <th>1</th>\n",
       "      <td>0.409726</td>\n",
       "      <td>AL</td>\n",
       "      <td>Albania</td>\n",
       "    </tr>\n",
       "    <tr>\n",
       "      <th>2</th>\n",
       "      <td>0.397389</td>\n",
       "      <td>AO</td>\n",
       "      <td>Angola</td>\n",
       "    </tr>\n",
       "    <tr>\n",
       "      <th>3</th>\n",
       "      <td>0.400587</td>\n",
       "      <td>AR</td>\n",
       "      <td>Argentina</td>\n",
       "    </tr>\n",
       "    <tr>\n",
       "      <th>4</th>\n",
       "      <td>0.302084</td>\n",
       "      <td>AM</td>\n",
       "      <td>Armenia</td>\n",
       "    </tr>\n",
       "  </tbody>\n",
       "</table>\n",
       "</div>"
      ],
      "text/plain": [
       "   Confidence in national government FIPS 10-4         Name\n",
       "0                           0.400442        AF  Afghanistan\n",
       "1                           0.409726        AL      Albania\n",
       "2                           0.397389        AO       Angola\n",
       "3                           0.400587        AR    Argentina\n",
       "4                           0.302084        AM      Armenia"
      ]
     },
     "execution_count": 93,
     "metadata": {},
     "output_type": "execute_result"
    }
   ],
   "source": [
    "GovernmentConfidenceData_byFIPS = GovernmentConfidenceData.merge(FIPS_codes, left_on='country', right_on='Name')\n",
    "GovernmentConfidenceData_byFIPS.head()"
   ]
  },
  {
   "cell_type": "code",
   "execution_count": 94,
   "metadata": {},
   "outputs": [
    {
     "data": {
      "text/plain": [
       "count    145.000000\n",
       "mean       0.503223\n",
       "std        0.183764\n",
       "min        0.164084\n",
       "25%        0.371353\n",
       "50%        0.470382\n",
       "75%        0.603462\n",
       "max        0.961462\n",
       "Name: Confidence in national government, dtype: float64"
      ]
     },
     "execution_count": 94,
     "metadata": {},
     "output_type": "execute_result"
    }
   ],
   "source": [
    "GovernmentConfidenceData_byFIPS['Confidence in national government'].describe()"
   ]
  },
  {
   "cell_type": "code",
   "execution_count": 95,
   "metadata": {},
   "outputs": [
    {
     "data": {
      "text/html": [
       "<div>\n",
       "<style scoped>\n",
       "    .dataframe tbody tr th:only-of-type {\n",
       "        vertical-align: middle;\n",
       "    }\n",
       "\n",
       "    .dataframe tbody tr th {\n",
       "        vertical-align: top;\n",
       "    }\n",
       "\n",
       "    .dataframe thead th {\n",
       "        text-align: right;\n",
       "    }\n",
       "</style>\n",
       "<table border=\"1\" class=\"dataframe\">\n",
       "  <thead>\n",
       "    <tr style=\"text-align: right;\">\n",
       "      <th></th>\n",
       "      <th>Confidence in national government</th>\n",
       "      <th>Name</th>\n",
       "      <th>FIPS</th>\n",
       "      <th>AverageTone</th>\n",
       "    </tr>\n",
       "  </thead>\n",
       "  <tbody>\n",
       "    <tr>\n",
       "      <th>0</th>\n",
       "      <td>0.400442</td>\n",
       "      <td>Afghanistan</td>\n",
       "      <td>AF</td>\n",
       "      <td>-3.374755</td>\n",
       "    </tr>\n",
       "    <tr>\n",
       "      <th>1</th>\n",
       "      <td>0.409726</td>\n",
       "      <td>Albania</td>\n",
       "      <td>AL</td>\n",
       "      <td>-1.843297</td>\n",
       "    </tr>\n",
       "    <tr>\n",
       "      <th>2</th>\n",
       "      <td>0.397389</td>\n",
       "      <td>Angola</td>\n",
       "      <td>AO</td>\n",
       "      <td>-1.026558</td>\n",
       "    </tr>\n",
       "    <tr>\n",
       "      <th>3</th>\n",
       "      <td>0.400587</td>\n",
       "      <td>Argentina</td>\n",
       "      <td>AR</td>\n",
       "      <td>-1.964747</td>\n",
       "    </tr>\n",
       "    <tr>\n",
       "      <th>4</th>\n",
       "      <td>0.302084</td>\n",
       "      <td>Armenia</td>\n",
       "      <td>AM</td>\n",
       "      <td>-1.528395</td>\n",
       "    </tr>\n",
       "  </tbody>\n",
       "</table>\n",
       "</div>"
      ],
      "text/plain": [
       "   Confidence in national government         Name FIPS  AverageTone\n",
       "0                           0.400442  Afghanistan   AF    -3.374755\n",
       "1                           0.409726      Albania   AL    -1.843297\n",
       "2                           0.397389       Angola   AO    -1.026558\n",
       "3                           0.400587    Argentina   AR    -1.964747\n",
       "4                           0.302084      Armenia   AM    -1.528395"
      ]
     },
     "execution_count": 95,
     "metadata": {},
     "output_type": "execute_result"
    }
   ],
   "source": [
    "GovernmentConfidence_AvgTone_byFIPS = GovernmentConfidenceData_byFIPS.merge(averageTone_FIPS, left_on='FIPS 10-4', right_on='FIPS')\\\n",
    "    .drop(['FIPS 10-4'], axis=1)\n",
    "GovernmentConfidence_AvgTone_byFIPS.head()"
   ]
  },
  {
   "cell_type": "code",
   "execution_count": 96,
   "metadata": {},
   "outputs": [
    {
     "name": "stdout",
     "output_type": "stream",
     "text": [
      "The Pearson correlation between Government confidence and Average Tone is : \n",
      "0.09185903261290604\n"
     ]
    }
   ],
   "source": [
    "print('The Pearson correlation between Government confidence and Average Tone is : ')\n",
    "print(GovernmentConfidence_AvgTone_byFIPS['Confidence in national government']\\\n",
    "      .corr(GovernmentConfidence_AvgTone_byFIPS['AverageTone']))"
   ]
  },
  {
   "cell_type": "code",
   "execution_count": null,
   "metadata": {},
   "outputs": [],
   "source": []
  }
 ],
 "metadata": {
  "kernelspec": {
   "display_name": "Python 3",
   "language": "python",
   "name": "python3"
  },
  "language_info": {
   "codemirror_mode": {
    "name": "ipython",
    "version": 3
   },
   "file_extension": ".py",
   "mimetype": "text/x-python",
   "name": "python",
   "nbconvert_exporter": "python",
   "pygments_lexer": "ipython3",
   "version": "3.6.7"
  }
 },
 "nbformat": 4,
 "nbformat_minor": 2
}

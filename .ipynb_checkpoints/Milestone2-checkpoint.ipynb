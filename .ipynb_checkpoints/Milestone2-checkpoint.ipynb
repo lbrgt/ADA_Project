{
 "cells": [
  {
   "cell_type": "markdown",
   "metadata": {},
   "source": [
    "\n",
    "\n",
    "<center> <h1> Evolution of emotions conveyed by media and their link with the society state </h1> \n",
    "<h2> Project Milestone 2 </h2> </center>"
   ]
  },
  {
   "cell_type": "markdown",
   "metadata": {},
   "source": [
    "<h2> Data collection </h2> \n",
    "\n",
    "<u> Source location related data : </u>\n",
    "\n",
    "When we started processing the data located on the cluster (*'/datasets/gdeltv2'*), we encountered a serious issue : very surprisingly, the dataset does not contain any record related to the media source location. However, we planned in Milestone 1 to focus our project on the specificity of the medias related to their home country.\n",
    "Thus we spent a lot of time on trying to find ways to circumvent this issue and get information about the source location by other means.\n",
    "<br>\n",
    "<ol>\n",
    "    <li>First, we looked at URL extensions. Indeed, some countries have specific URL extentions (‘.fr’, ‘.it’, etc), and we can use this criterion to filter event mentions.\n",
    "However, this solution is clearly not very representative because most of the sources (METTRE QUERY QUI PROUVE CE FAIT) have a ‘.com’ extension, and this in not informative. Moreover, countries like the USA only use ‘.com’ extensions. </li> <br>\n",
    "    \n",
    "<li>Then, we chose a different strategy : we searched for rankings (EST-CE QU’ON PEUT TROUVER DES RANKINGS PLUS FIABLES?) to get the main online medias in a small sample of countries (France, USA). Then we stored these lists of sources and we filtered the event mentions dataset to get medias related to these sources. If we base these queries on relevant information (selection of the principal medias), this strategy can be a good option. However, it requires a lot of manual work, and we had many issues related to the string filter used. Indeed, if fetching only the sources whose name is strictly <i>‘foxnews.com’</i> for example, one would miss <i>'foxcarolina.com'</i> and all the other state-specific or city-specific related webpages. But if we set a very open regular expression like ‘%fox%' or '%wsj%' (for the Wall Street Journal), we get a lot of false negatives like <i>'thenewsjournal.net'</i> or <i>'ctnewsjunkie.com'</i>. </li> <br>\n",
    "\n",
    "<li>Lastly, we discovered that when using the GdeltV2 database available on Google BigQuery, we also have access to additional tables, such as ‘sourcesbycountry’. This table contains exactly the information we were looking for since the beginning of the project : it matches the sources names ('Domain') with the FIPS-code of their country. </li>\n",
    " </ol> \n",
    "\n",
    "From now on, we will use Google BigQuery to make queries related to sources locations. The other big advantage of this tool, is that queries are running very fast, whereas when using the cluster, we wait sometimes a whole day for our job to be executed because of the queue.\n",
    "\n",
    "<u> ADD OTHER INFORMATION </u>"
   ]
  },
  {
   "cell_type": "markdown",
   "metadata": {},
   "source": [
    "## Data processing"
   ]
  },
  {
   "cell_type": "code",
   "execution_count": null,
   "metadata": {},
   "outputs": [],
   "source": [
    "import findspark\n",
    "findspark.init()\n",
    "import matplotlib.pyplot as plt\n",
    "from pyspark.sql.types import *\n",
    "import datetime as dt\n",
    "from pyspark.sql.functions import *\n",
    "import pandas as pd\n",
    "import numpy as np\n",
    "import scipy as sp\n",
    "from pyspark.sql import *\n",
    "%matplotlib inline\n",
    "import seaborn as sn\n",
    "sn.set(color_codes=True)\n",
    "spark = SparkSession.builder.getOrCreate()"
   ]
  },
  {
   "cell_type": "markdown",
   "metadata": {},
   "source": [
    "### 1. Are the medias becoming more and more anxiogenic ? Is there a specific trend during a year time ?"
   ]
  },
  {
   "cell_type": "markdown",
   "metadata": {},
   "source": [
    "### 2. Can we find different trends in the media tone depending on the event location country ? On the source country ? Is their a link with the Happiness score of the country ?\n",
    "\n",
    "First, let's look at mediatic tone, with respect to the event location country.\n",
    "This analysis would allow us to determine whether the global news concerning a country's events are rather positive or negative. Then, we can see if there is a correlation with the actual happiness level of each country. \n",
    "\n",
    "### AJOUTER ICI LES RESULTATS DE SINAN (plots + correlation avec le bonheur)\n",
    "#### Bien expliquer comment on a eu les data sur le bonheur et ce qu'on a fait pour lier les deux (FIPS code)\n",
    "\n",
    "Note that some country values were missing in the Happiness World report, thus we will use inner join to get rid of countries which have no happiness score."
   ]
  },
  {
   "cell_type": "markdown",
   "metadata": {},
   "source": [
    "Now, using Google BigQuery tool, let's look at the mediatic tone related to the source country of event mentions.\n",
    "\n",
    "The following query was run in order to get the average tone (field `MentionDocTone`) of mentions originating from the same country.\n",
    "Indeed, by joining the `eventmentions` table to the `sourcesbycountry` table, we could very easily group the mentions by their source FIPS code and compute the average tone :"
   ]
  },
  {
   "cell_type": "markdown",
   "metadata": {},
   "source": [
    "<img src=\"query_avgToneBySourceLocation.png\" alt=\"drawing\" width=\"500\"/>"
   ]
  },
  {
   "cell_type": "markdown",
   "metadata": {},
   "source": [
    "After extracting the newly created table `avgToneBySourceLocation_table`, we plotted the result.\n",
    "Note that the result was splitted between positive and negative average tone in order to have smaller plots, but still be able to visualize the value for each country."
   ]
  },
  {
   "cell_type": "code",
   "execution_count": null,
   "metadata": {},
   "outputs": [],
   "source": [
    "avgTone = spark.read.option(\"sep\",\",\").option('header', 'true').csv(\"avgToneBySourceLocation_table.csv\")\n",
    "avgTone.show()\n",
    "avgTone = avgTone.withColumn('AverageTone', avgTone['AverageTone'].cast(FloatType()))\n",
    "avgTone.registerTempTable('avgTone_table')"
   ]
  },
  {
   "cell_type": "code",
   "execution_count": null,
   "metadata": {},
   "outputs": [],
   "source": [
    "avgTone_pos = avgTone.filter('AverageTone > 0')\n",
    "avgTone_pos_pandas = avgTone_pos.toPandas()\n",
    "avgTone_pos_pandas.sort_values('AverageTone', ascending=True, inplace=True)\n",
    "\n",
    "sn.set(rc={'figure.figsize':(60,30)})\n",
    "plot = sn.barplot(x='FIPS', y='AverageTone',data=avgTone_pos_pandas)\n",
    "fig = plot.get_figure()"
   ]
  },
  {
   "cell_type": "code",
   "execution_count": null,
   "metadata": {},
   "outputs": [],
   "source": [
    "avgTone_neg = avgTone.filter('AverageTone <= 0')\n",
    "avgTone_neg_pandas = avgTone_neg.toPandas()\n",
    "avgTone_neg_pandas.sort_values('AverageTone', ascending=True, inplace=True)\n",
    "\n",
    "sn.set(rc={'figure.figsize':(60,30)})\n",
    "plot = sn.barplot(x='FIPS', y='AverageTone',data=avgTone_neg_pandas)\n",
    "fig = plot.get_figure()"
   ]
  },
  {
   "cell_type": "markdown",
   "metadata": {},
   "source": [
    "Now, we will try to see if there is somehow a correlation between the overall Happiness of the country inhabitants.\n",
    "\n",
    "As explained above, we join `avgToneBySourceLocation_table` with the `happiness_table` which contains the Happiness score related to each FIPS country code."
   ]
  },
  {
   "cell_type": "code",
   "execution_count": null,
   "metadata": {},
   "outputs": [],
   "source": [
    "happiness = spark.read.option(\"sep\", \";\").option('header', 'true').csv(\"HappinessCustom.csv\")\\\n",
    "    .select('FIPS', 'Happiness_score').dropna()\n",
    "    \n",
    "happiness = happiness.withColumn('Happiness_score', happiness[\"Happiness_score\"].cast(FloatType()))\n",
    "print(happiness.dtypes)\n",
    "happiness.show()\n",
    "happiness.registerTempTable(\"happiness_table\")"
   ]
  },
  {
   "cell_type": "code",
   "execution_count": null,
   "metadata": {},
   "outputs": [],
   "source": [
    "query = \"\"\"\n",
    "select happiness_table.FIPS, Happiness_score, AverageTone\n",
    "from happiness_table\n",
    "inner join avgTone_table\n",
    "on happiness_table.FIPS = avgTone_table.FIPS\n",
    "\"\"\"\n",
    "\n",
    "joinedTable = spark.sql(query)\n",
    "joinedTable.show()"
   ]
  },
  {
   "cell_type": "code",
   "execution_count": null,
   "metadata": {},
   "outputs": [],
   "source": [
    "fig_size = plt.rcParams[\"figure.figsize\"]\n",
    "fig_size[0] = 10\n",
    "fig_size[1] =10\n",
    "plt.rcParams[\"figure.figsize\"] = fig_size\n",
    "\n",
    "joined_df = joinedTable.toPandas()\n",
    "sn.regplot(x='Happiness_score', y='AverageTone', data=joined_df)"
   ]
  },
  {
   "cell_type": "code",
   "execution_count": null,
   "metadata": {},
   "outputs": [],
   "source": [
    "pearson_coef = joined_df['Happiness_score'].corr(joined_df['AverageTone'])\n",
    "print(pearson_coef)"
   ]
  },
  {
   "cell_type": "markdown",
   "metadata": {},
   "source": [
    "As we can see, the result is quite surprising (or deceiving). It seems that there is only a weak correlation between Happiness score and average mediatic tone, and it is rather negative. \n",
    "This would illustrate the fact that maybe the medias are not influencing too much the inhabitants' mood and that their tone is not representative of the overall atmosphere."
   ]
  },
  {
   "cell_type": "markdown",
   "metadata": {},
   "source": [
    "### 3. Is there a link with the political schedule ?"
   ]
  },
  {
   "cell_type": "markdown",
   "metadata": {},
   "source": [
    "#### US 2016 ELECTION"
   ]
  },
  {
   "cell_type": "code",
   "execution_count": null,
   "metadata": {},
   "outputs": [],
   "source": [
    "US_electionPreceedingMentions = spark.read.option(\"sep\",\",\").option('header', 'true')\\\n",
    "    .csv(\"US_electionPreceeding_mentions.csv\")\n",
    "US_electionPreceedingMentions.show()"
   ]
  },
  {
   "cell_type": "code",
   "execution_count": null,
   "metadata": {},
   "outputs": [],
   "source": []
  },
  {
   "cell_type": "markdown",
   "metadata": {},
   "source": [
    "## Future queries\n",
    "\n",
    "<ul> \n",
    "   <li>Which event types are associated with negative tones ? </li>\n",
    "\n",
    "   <li> Is there a correlation between the negativity of a news and the number of mentions ? The duration of its mediatic coverage ? </li>\n",
    "</ul>\n",
    "\n",
    "AJOUTER AUTRES"
   ]
  },
  {
   "cell_type": "code",
   "execution_count": null,
   "metadata": {},
   "outputs": [],
   "source": []
  }
 ],
 "metadata": {
  "kernelspec": {
   "display_name": "Python 3",
   "language": "python",
   "name": "python3"
  },
  "language_info": {
   "codemirror_mode": {
    "name": "ipython",
    "version": 3
   },
   "file_extension": ".py",
   "mimetype": "text/x-python",
   "name": "python",
   "nbconvert_exporter": "python",
   "pygments_lexer": "ipython3",
   "version": "3.6.6"
  }
 },
 "nbformat": 4,
 "nbformat_minor": 2
}

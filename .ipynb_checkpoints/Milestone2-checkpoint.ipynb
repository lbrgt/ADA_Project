{
 "cells": [
  {
   "cell_type": "markdown",
   "metadata": {},
   "source": [
    "\n",
    "\n",
    "<center> <h1> Evolution of emotions conveyed by media and their link with the society state </h1> \n",
    "<h2> Project Milestone 2 </h2> </center>"
   ]
  },
  {
   "cell_type": "markdown",
   "metadata": {},
   "source": [
    "<h2> Data collection </h2> \n",
    "\n",
    "<u> Source location related data : </u>\n",
    "\n",
    "When we started processing the data located on the cluster (*'/datasets/gdeltv2'*), we encountered a serious issue : very surprisingly, the dataset does not contain relevent record related to the media source location (like translation information). However, we planned in Milestone 1 to focus our project on the specificity of the medias related to their home country.\n",
    "Thus we spent a lot of time on trying to find ways to circumvent this issue and get information about the source location by other means.\n",
    "<br>\n",
    "<ol>\n",
    "    <li>First, we looked at URL extensions. Indeed, some countries have specific URL extentions (‘.fr’, ‘.it’, etc), and we can use this criterion to filter event mentions.\n",
    "However, this solution is clearly not very representative because most of the sources (METTRE QUERY QUI PROUVE CE FAIT) have a ‘.com’ extension, and this in not informative. Moreover, countries like the USA only use ‘.com’ extensions. </li> <br>\n",
    "    \n",
    "<li>Then, we chose a different strategy : we searched for rankings (EST-CE QU’ON PEUT TROUVER DES RANKINGS PLUS FIABLES?) to get the main online medias in a small sample of countries (France, USA). Then we stored these lists of sources and we filtered the event mentions dataset to get medias related to these sources. If we base these queries on relevant information (selection of the principal medias), this strategy can be a good option. However, it requires a lot of manual work, and we had many issues related to the string filter used. Indeed, if fetching only the sources whose name is strictly <i>‘foxnews.com’</i> for example, one would miss <i>'foxcarolina.com'</i> and all the other state-specific or city-specific related webpages. But if we set a very open regular expression like ‘%fox%' or '%wsj%' (for the Wall Street Journal), we get a lot of false negatives like <i>'thenewsjournal.net'</i> or <i>'ctnewsjunkie.com'</i>. </li> <br>\n",
    "\n",
    "<li>Lastly, we discovered that GDELT generated exactly what we needed: <i>'sources_by_country.csv'</i> a table that matches the sources names ('Domain') with the FIPS-code of their country. This table was generated in may 2018 and is based on the gdelt dataset. It is not perfectly accurate but gives us a sufficient precise information (more informations on <a href=“https://blog.gdeltproject.org/mapping-the-media-a-geographic-lookup-of-gdelts-sources/”> gdelt blog</a>). \n",
    "    </li>\n",
    "</ol> \n",
    "From now on, we will use Google BigQuery to make queries related to sources locations. The other big advantage of this tool, is that queries are running very fast, whereas when using the cluster, we wait sometimes a whole day for our job to be executed because of the queue.\n",
    "\n",
    "<u> ADD OTHER INFORMATION </u>"
   ]
  },
  {
   "cell_type": "markdown",
   "metadata": {},
   "source": [
    "## Data processing"
   ]
  },
  {
   "cell_type": "code",
   "execution_count": 2,
   "metadata": {},
   "outputs": [],
   "source": [
    "import findspark\n",
    "findspark.init()\n",
    "import matplotlib.pyplot as plt\n",
    "from pyspark.sql.types import *\n",
    "import datetime as dt\n",
    "from pyspark.sql.functions import *\n",
    "import pandas as pd\n",
    "import numpy as np\n",
    "import scipy as sp\n",
    "from pyspark.sql import *\n",
    "%matplotlib inline\n",
    "import seaborn as sn\n",
    "sn.set(color_codes=True)\n",
    "spark = SparkSession.builder.getOrCreate()"
   ]
  },
  {
   "cell_type": "code",
   "execution_count": 16,
   "metadata": {},
   "outputs": [],
   "source": [
    "data_folder= './Data/'"
   ]
  },
  {
   "cell_type": "markdown",
   "metadata": {},
   "source": [
    "### 1. Are the medias becoming more and more anxiogenic ? Is there a specific trend during a year time ?"
   ]
  },
  {
   "cell_type": "markdown",
   "metadata": {},
   "source": [
    "Then, we decided to observe whether we notice a periodic trend in the way mediatic tone evolves accross year months. For example, is summer more prone to positive news ?\n",
    "\n",
    "For now (as it was just a first overview to find what was feasible with the dataset), we focused on *'.fr'* and *'.it'* URL-extended sources, in order to observe these trends for French and Italian medias. When using this strategy to get source location, we have to be aware that we are excluding a lot of mentions which have the *'.com'* or *'.net'* extensions for example.\n",
    "\n",
    "We run a Python script on the cluster (see *'./Codes/get_monthIntervalMentions.py'*) in order to write as parquet files these specific mentions.\n",
    "\n",
    "\n",
    "#### EN RUNNANT LES CELLULES SUIVANTES : VOIR PQ IL Y A AUTANT DE VALEURS NULLES (e.g. en selectionnant aussi le field 'Year-Month-Day' pour voir si il est nul aussi)"
   ]
  },
  {
   "cell_type": "code",
   "execution_count": 3,
   "metadata": {},
   "outputs": [
    {
     "name": "stdout",
     "output_type": "stream",
     "text": [
      "+------------------+--------------+-----+\n",
      "| MentionSourceName|MentionDocTone|Month|\n",
      "+------------------+--------------+-----+\n",
      "|         en.rfi.fr|    -3.5971222|   12|\n",
      "|       thelocal.fr|   -0.22396417|    6|\n",
      "|diplomatie.gouv.fr|     3.0120482|    6|\n",
      "|diplomatie.gouv.fr|     3.0120482|    6|\n",
      "|       thelocal.fr|   -0.22396417|    6|\n",
      "|       thelocal.fr|   -0.22396417|    6|\n",
      "|       thelocal.fr|   -0.22396417|    6|\n",
      "|         en.rfi.fr|      -3.49162|    3|\n",
      "|         en.rfi.fr|      -3.49162|    3|\n",
      "|         en.rfi.fr|     -2.868069|    3|\n",
      "|         en.rfi.fr|      -3.49162|    3|\n",
      "|         en.rfi.fr|      -3.49162|    3|\n",
      "|         en.rfi.fr|     1.4035088|    3|\n",
      "|         en.rfi.fr|      -3.49162|    3|\n",
      "|         en.rfi.fr|     1.4035088|    3|\n",
      "|         en.rfi.fr|    -5.9479556|    3|\n",
      "|         en.rfi.fr|    -5.9479556|    3|\n",
      "|          inria.fr|     3.4206307|    2|\n",
      "|          inria.fr|     3.0560272|    2|\n",
      "|          inria.fr|     1.5261627|    2|\n",
      "+------------------+--------------+-----+\n",
      "only showing top 20 rows\n",
      "\n"
     ]
    }
   ],
   "source": [
    "fr_mentions = spark.read.parquet(\"fr_mentions_casted_date.parquet\")\n",
    "fr_mentions = fr_mentions.select('MentionSourceName','MentionDocTone', 'Month')\n",
    "fr_mentions.show()"
   ]
  },
  {
   "cell_type": "code",
   "execution_count": 4,
   "metadata": {},
   "outputs": [
    {
     "data": {
      "text/plain": [
       "<matplotlib.axes._subplots.AxesSubplot at 0x7f88dd481ac8>"
      ]
     },
     "execution_count": 4,
     "metadata": {},
     "output_type": "execute_result"
    },
    {
     "data": {
      "image/png": "[encoded data removed]",
      "text/plain": [
       "<Figure size 432x288 with 1 Axes>"
      ]
     },
     "metadata": {
      "needs_background": "light"
     },
     "output_type": "display_data"
    }
   ],
   "source": [
    "fr_mentions = fr_mentions.groupBy('Month').agg(mean('MentionDocTone').alias('Average tone'))\n",
    "\n",
    "fr_mentions_Pandas_df = fr_mentions.toPandas()\n",
    "fr_mentions_Pandas_df.dropna(inplace=True)\n",
    "fr_mentions_Pandas_df.sort_values('Month', ascending=True, inplace=True)\n",
    "\n",
    "fr_mentions_Pandas_df.plot.bar(x='Month', y='Average tone')"
   ]
  },
  {
   "cell_type": "code",
   "execution_count": 5,
   "metadata": {},
   "outputs": [
    {
     "name": "stdout",
     "output_type": "stream",
     "text": [
      "+--------------------+--------------+-----+\n",
      "|   MentionSourceName|MentionDocTone|Month|\n",
      "+--------------------+--------------+-----+\n",
      "|         lastampa.it|     1.8962076| null|\n",
      "|         lastampa.it|     1.8962076| null|\n",
      "|         lastampa.it|     1.8962076| null|\n",
      "|         lastampa.it|     1.8962076| null|\n",
      "|         lastampa.it|     1.8962076| null|\n",
      "|         lastampa.it|     1.8962076| null|\n",
      "|         lastampa.it|     1.8962076| null|\n",
      "|         lastampa.it|     1.8962076| null|\n",
      "|         lastampa.it|     1.8962076| null|\n",
      "|firenze.repubblic...|     3.7974684|    6|\n",
      "|firenze.repubblic...|     3.7974684|    6|\n",
      "|firenze.repubblic...|     3.7974684|    6|\n",
      "|lagazzettadelmezz...|           0.0|    6|\n",
      "|lagazzettadelmezz...|           0.0|    6|\n",
      "|           cutuli.it|      5.188679|    6|\n",
      "|           cutuli.it|      5.188679|    6|\n",
      "|           cutuli.it|      5.188679|    6|\n",
      "|   gazzettadelsud.it|     -6.590909| null|\n",
      "|   gazzettadelsud.it|    -7.1017275| null|\n",
      "|lagazzettadelmezz...|    -7.1017275| null|\n",
      "+--------------------+--------------+-----+\n",
      "only showing top 20 rows\n",
      "\n"
     ]
    }
   ],
   "source": [
    "it_mentions = spark.read.parquet(\"it_mentions_casted_date.parquet\")\n",
    "it_mentions = it_mentions.select('MentionSourceName','MentionDocTone', 'Month')\n",
    "it_mentions.show()"
   ]
  },
  {
   "cell_type": "code",
   "execution_count": 6,
   "metadata": {},
   "outputs": [
    {
     "data": {
      "text/plain": [
       "<matplotlib.axes._subplots.AxesSubplot at 0x7f88dc642a90>"
      ]
     },
     "execution_count": 6,
     "metadata": {},
     "output_type": "execute_result"
    },
    {
     "data": {
      "image/png": "[encoded data removed]",
      "text/plain": [
       "<Figure size 432x288 with 1 Axes>"
      ]
     },
     "metadata": {
      "needs_background": "light"
     },
     "output_type": "display_data"
    }
   ],
   "source": [
    "it_mentions = it_mentions.groupBy('Month').agg(mean('MentionDocTone').alias('Average tone'))\n",
    "\n",
    "it_mentions_Pandas_df = it_mentions.toPandas()\n",
    "it_mentions_Pandas_df.dropna(inplace=True)\n",
    "it_mentions_Pandas_df.sort_values('Month', ascending=True, inplace=True)\n",
    "\n",
    "it_mentions_Pandas_df.plot.bar(x='Month', y='Average tone')"
   ]
  },
  {
   "cell_type": "markdown",
   "metadata": {},
   "source": [
    "We see that for these two specific countries, we do not have very obvious differences between year months. \n",
    "However...\n",
    "\n",
    "AJOUTER INTERPRETATION PLUS COMPLETE"
   ]
  },
  {
   "cell_type": "markdown",
   "metadata": {},
   "source": [
    "### 2. Can we find different trends in the media tone depending on the event location country ? On the source country ? Is their a link with the Happiness score of the country ?\n",
    "\n",
    "First, let's look at mediatic tone, with respect to the event location country.\n",
    "This analysis would allow us to determine whether the global news concerning a country's events are rather positive or negative. Then, we can see if there is a correlation with the actual happiness level of each country. \n",
    "\n",
    "### AJOUTER ICI LES RESULTATS DE SINAN (plots + correlation avec le bonheur)\n",
    "#### Bien expliquer comment on a eu les data sur le bonheur et ce qu'on a fait pour lier les deux (FIPS code)\n",
    "\n",
    "Note that some country values were missing in the Happiness World report, thus we will use inner join to get rid of countries which have no happiness score."
   ]
  },
  {
   "cell_type": "markdown",
   "metadata": {},
   "source": [
    "Now, using Google BigQuery tool, let's look at the mediatic tone related to the source country of event mentions.\n",
    "\n",
    "The following query was run in order to get the average tone (field `MentionDocTone`) of mentions originating from the same country.\n",
    "Indeed, by joining the `eventmentions` table to the `sourcesbycountry` table, we could very easily group the mentions by their source FIPS code and compute the average tone :"
   ]
  },
  {
   "cell_type": "markdown",
   "metadata": {},
   "source": [
    "<img src=\"query_avgToneBySourceLocation.png\" alt=\"drawing\" width=\"500\"/>"
   ]
  },
  {
   "cell_type": "markdown",
   "metadata": {},
   "source": [
    "After extracting the newly created table `avgToneBySourceLocation_table`, we plotted the result.\n",
    "Note that the result was splitted between positive and negative average tone in order to have smaller plots, but still be able to visualize the value for each country."
   ]
  },
  {
   "cell_type": "code",
   "execution_count": 7,
   "metadata": {},
   "outputs": [
    {
     "name": "stdout",
     "output_type": "stream",
     "text": [
      "+----+--------------------+\n",
      "|FIPS|         AverageTone|\n",
      "+----+--------------------+\n",
      "|  IT| -1.2266319517342155|\n",
      "|  WA| -2.1564389385620708|\n",
      "|  CM| -2.9449712401336963|\n",
      "|  ML| -1.4626035850125303|\n",
      "|  MG|-0.24210924465101621|\n",
      "|  PK| -2.9042192814547048|\n",
      "|  GH| -1.9078195733342607|\n",
      "|  KZ| -1.2593573700554748|\n",
      "|  BM|  -2.257738120596255|\n",
      "|  IN| -2.6352216561258954|\n",
      "|  MI| -2.1356432264451626|\n",
      "|  AV|  1.6529235384892216|\n",
      "|  LT| -1.7559838499012681|\n",
      "|  GB|-0.75436355420488421|\n",
      "|  UK| -2.4232246650674325|\n",
      "|  AU| -2.9686971461863192|\n",
      "|  CK| -2.7693001028740176|\n",
      "|  RS| -2.3112888288017395|\n",
      "|  TW| -2.4235868152902853|\n",
      "|  RI|  -1.003833159575332|\n",
      "+----+--------------------+\n",
      "only showing top 20 rows\n",
      "\n"
     ]
    }
   ],
   "source": [
    "avgTone = spark.read.option(\"sep\",\",\").option('header', 'true').csv(\"avgToneBySourceLocation_table.csv\")\n",
    "avgTone.show()\n",
    "avgTone = avgTone.withColumn('AverageTone', avgTone['AverageTone'].cast(FloatType()))\n",
    "avgTone.registerTempTable('avgTone_table')"
   ]
  },
  {
   "cell_type": "code",
   "execution_count": 8,
   "metadata": {},
   "outputs": [
    {
     "data": {
      "image/png": "[encoded data removed]",
      "text/plain": [
       "<Figure size 4320x2160 with 1 Axes>"
      ]
     },
     "metadata": {},
     "output_type": "display_data"
    }
   ],
   "source": [
    "avgTone_pos = avgTone.filter('AverageTone > 0')\n",
    "avgTone_pos_pandas = avgTone_pos.toPandas()\n",
    "avgTone_pos_pandas.sort_values('AverageTone', ascending=True, inplace=True)\n",
    "\n",
    "sn.set(rc={'figure.figsize':(60,30)})\n",
    "plot = sn.barplot(x='FIPS', y='AverageTone',data=avgTone_pos_pandas)\n",
    "fig = plot.get_figure()"
   ]
  },
  {
   "cell_type": "code",
   "execution_count": 9,
   "metadata": {},
   "outputs": [
    {
     "data": {
      "image/png": "[encoded data removed]",
      "text/plain": [
       "<Figure size 4320x2160 with 1 Axes>"
      ]
     },
     "metadata": {},
     "output_type": "display_data"
    }
   ],
   "source": [
    "avgTone_neg = avgTone.filter('AverageTone <= 0')\n",
    "avgTone_neg_pandas = avgTone_neg.toPandas()\n",
    "avgTone_neg_pandas.sort_values('AverageTone', ascending=True, inplace=True)\n",
    "\n",
    "sn.set(rc={'figure.figsize':(60,30)})\n",
    "plot = sn.barplot(x='FIPS', y='AverageTone',data=avgTone_neg_pandas)\n",
    "fig = plot.get_figure()"
   ]
  },
  {
   "cell_type": "markdown",
   "metadata": {},
   "source": [
    "Now, we will try to see if there is somehow a correlation between the overall Happiness of the country inhabitants.\n",
    "\n",
    "As explained above, we join `avgToneBySourceLocation_table` with the `happiness_table` which contains the Happiness score related to each FIPS country code."
   ]
  },
  {
   "cell_type": "code",
   "execution_count": 10,
   "metadata": {},
   "outputs": [
    {
     "name": "stdout",
     "output_type": "stream",
     "text": [
      "[('FIPS', 'string'), ('Happiness_score', 'float')]\n",
      "+----+---------------+\n",
      "|FIPS|Happiness_score|\n",
      "+----+---------------+\n",
      "|  FI|          7.632|\n",
      "|  NO|          7.594|\n",
      "|  DK|          7.555|\n",
      "|  IC|          7.495|\n",
      "|  SZ|          7.487|\n",
      "|  NL|          7.441|\n",
      "|  CA|          7.328|\n",
      "|  NZ|          7.324|\n",
      "|  SW|          7.314|\n",
      "|  AS|          7.272|\n",
      "|  IS|           7.19|\n",
      "|  AU|          7.139|\n",
      "|  CS|          7.072|\n",
      "|  EI|          6.977|\n",
      "|  GM|          6.965|\n",
      "|  BE|          6.927|\n",
      "|  LU|           6.91|\n",
      "|  US|          6.886|\n",
      "|  UK|          6.814|\n",
      "|  AE|          6.774|\n",
      "+----+---------------+\n",
      "only showing top 20 rows\n",
      "\n"
     ]
    }
   ],
   "source": [
    "happiness = spark.read.option(\"sep\", \";\").option('header', 'true').csv(\"HappinessCustom.csv\")\\\n",
    "    .select('FIPS', 'Happiness_score').dropna()\n",
    "    \n",
    "happiness = happiness.withColumn('Happiness_score', happiness[\"Happiness_score\"].cast(FloatType()))\n",
    "print(happiness.dtypes)\n",
    "happiness.show()\n",
    "happiness.registerTempTable(\"happiness_table\")"
   ]
  },
  {
   "cell_type": "code",
   "execution_count": 11,
   "metadata": {},
   "outputs": [
    {
     "name": "stdout",
     "output_type": "stream",
     "text": [
      "+----+---------------+-----------+\n",
      "|FIPS|Happiness_score|AverageTone|\n",
      "+----+---------------+-----------+\n",
      "|  IT|            6.0|  -1.226632|\n",
      "|  WA|          4.441| -2.1564388|\n",
      "|  CM|          4.975| -2.9449713|\n",
      "|  ML|          4.447| -1.4626036|\n",
      "|  MG|          5.125|-0.24210924|\n",
      "|  PK|          5.472| -2.9042194|\n",
      "|  GH|          4.657| -1.9078196|\n",
      "|  KZ|           5.79| -1.2593573|\n",
      "|  IN|           4.19| -2.6352217|\n",
      "|  MI|          3.587| -2.1356432|\n",
      "|  LT|          3.808| -1.7559838|\n",
      "|  GB|          4.758|-0.75436354|\n",
      "|  UK|          6.814| -2.4232247|\n",
      "|  AU|          7.139|  -2.968697|\n",
      "|  RS|           5.81| -2.3112888|\n",
      "|  TW|          6.441| -2.4235868|\n",
      "|  BG|            4.5| -2.9303584|\n",
      "|  IC|          7.495| -1.2405035|\n",
      "|  ET|           4.35| -1.9656553|\n",
      "|  UP|          4.103| -2.5247657|\n",
      "+----+---------------+-----------+\n",
      "only showing top 20 rows\n",
      "\n"
     ]
    }
   ],
   "source": [
    "query = \"\"\"\n",
    "select happiness_table.FIPS, Happiness_score, AverageTone\n",
    "from happiness_table\n",
    "inner join avgTone_table\n",
    "on happiness_table.FIPS = avgTone_table.FIPS\n",
    "\"\"\"\n",
    "\n",
    "joinedTable = spark.sql(query)\n",
    "joinedTable.show()"
   ]
  },
  {
   "cell_type": "code",
   "execution_count": 12,
   "metadata": {},
   "outputs": [
    {
     "name": "stderr",
     "output_type": "stream",
     "text": [
      "/home/lburget/anaconda3/envs/ada/lib/python3.6/site-packages/scipy/stats/stats.py:1713: FutureWarning: Using a non-tuple sequence for multidimensional indexing is deprecated; use `arr[tuple(seq)]` instead of `arr[seq]`. In the future this will be interpreted as an array index, `arr[np.array(seq)]`, which will result either in an error or a different result.\n",
      "  return np.add.reduce(sorted[indexer] * weights, axis=axis) / sumval\n"
     ]
    },
    {
     "data": {
      "text/plain": [
       "<matplotlib.axes._subplots.AxesSubplot at 0x7f88dc31f128>"
      ]
     },
     "execution_count": 12,
     "metadata": {},
     "output_type": "execute_result"
    },
    {
     "data": {
      "image/png": "[encoded data removed]",
      "text/plain": [
       "<Figure size 720x720 with 1 Axes>"
      ]
     },
     "metadata": {},
     "output_type": "display_data"
    }
   ],
   "source": [
    "fig_size = plt.rcParams[\"figure.figsize\"]\n",
    "fig_size[0] = 10\n",
    "fig_size[1] =10\n",
    "plt.rcParams[\"figure.figsize\"] = fig_size\n",
    "\n",
    "joined_df = joinedTable.toPandas()\n",
    "sn.regplot(x='Happiness_score', y='AverageTone', data=joined_df)"
   ]
  },
  {
   "cell_type": "code",
   "execution_count": 13,
   "metadata": {},
   "outputs": [
    {
     "name": "stdout",
     "output_type": "stream",
     "text": [
      "-0.19776258027613083\n"
     ]
    }
   ],
   "source": [
    "pearson_coef = joined_df['Happiness_score'].corr(joined_df['AverageTone'])\n",
    "print(pearson_coef)"
   ]
  },
  {
   "cell_type": "markdown",
   "metadata": {},
   "source": [
    "As we can see, the result is quite surprising (or deceiving). It seems that there is only a weak correlation between Happiness score and average mediatic tone, and it is rather negative. \n",
    "This would illustrate the fact that maybe the medias are not influencing too much the inhabitants' mood and that their tone is not representative of the overall atmosphere."
   ]
  },
  {
   "cell_type": "markdown",
   "metadata": {},
   "source": [
    "### 3. Is there a link with the political schedule ?"
   ]
  },
  {
   "cell_type": "markdown",
   "metadata": {},
   "source": [
    "#### US 2016 ELECTION"
   ]
  },
  {
   "cell_type": "code",
   "execution_count": 14,
   "metadata": {},
   "outputs": [
    {
     "name": "stdout",
     "output_type": "stream",
     "text": [
      "+--------------------+-----------+\n",
      "|   MentionSourceName|AverageTone|\n",
      "+--------------------+-----------+\n",
      "|        brynmawr.edu|        0.0|\n",
      "|         umhoops.com|        0.0|\n",
      "|     celectrical.com|        0.0|\n",
      "|        calbears.com|        0.0|\n",
      "|broadbandbreakfas...|        0.0|\n",
      "|       skiracing.com|        0.0|\n",
      "|    leroyfcpress.com|        0.0|\n",
      "|illinoisentertain...|        0.0|\n",
      "|     cwuobserver.com|        0.0|\n",
      "|neworleanssaints.com|        0.0|\n",
      "|    pacifictakes.com|        0.0|\n",
      "|   techfragments.com|        0.0|\n",
      "|   battellemedia.com|        0.0|\n",
      "|   thelocalvoice.net|        0.0|\n",
      "|     bleedinblue.com|        0.0|\n",
      "|acmepackingcompan...|        0.0|\n",
      "|     akhbar-tech.com|        0.0|\n",
      "|        dxcoffee.com|        2.0|\n",
      "|       myballard.com|       -2.5|\n",
      "|        sfappeal.com|       -5.5|\n",
      "+--------------------+-----------+\n",
      "only showing top 20 rows\n",
      "\n"
     ]
    }
   ],
   "source": [
    "US_electionPreceedingMentions = spark.read.option(\"sep\",\",\").option('header', 'true')\\\n",
    "    .csv(\"US_electionPreceeding_mentions.csv\")\n",
    "US_electionPreceedingMentions.show()"
   ]
  },
  {
   "cell_type": "code",
   "execution_count": null,
   "metadata": {},
   "outputs": [],
   "source": []
  },
  {
   "cell_type": "markdown",
   "metadata": {},
   "source": [
    "## Future queries\n",
    "\n",
    "<ul> \n",
    "   <li>Which event types are associated with negative tones ? </li>\n",
    "\n",
    "   <li> Is there a correlation between the negativity of a news and the number of mentions ? The duration of its mediatic coverage ? </li>\n",
    "</ul>\n",
    "\n"
   ]
  },
  {
   "cell_type": "markdown",
   "metadata": {},
   "source": [
    "From now, we will use the dataset available on google [BigQuerry](https://bigquery.cloud.google.com/table/gdelt-bq:gdeltv2.events) service. "
   ]
  },
  {
   "cell_type": "markdown",
   "metadata": {},
   "source": [
    "To be able to study the representation of one country by the media of another, we decided join the Mention and the Event. From the first one we retrive the tone (*MentionDocTone*) of the mention and the location of the source, based on *source_by_country*. From the latter we get the [CAMEO](https://www.gdeltproject.org/data/documentation/CAMEO.Manual.1.1b3.pdf) code and the location of the event.\n",
    "\n",
    "After uploading *source_by_country.csv* we used the folowing SQL querry to retrives our data. "
   ]
  },
  {
   "cell_type": "raw",
   "metadata": {},
   "source": [
    "SELECT EventRootCode, LocMention, Actor2Geo_CountryCode AS LocEvent, AVG(MentionDocTone) as AverageTone, COUNT(*) as NumberOfInterMentions\n",
    "FROM (\n",
    "    SELECT GLOBALEVENTID AS GLOBALEVENTID_mentions , MentionSourceName, MentionDocTone, FIPSCode AS LocMention \n",
    "    FROM `gdelt-bq.gdeltv2.eventmentions` \n",
    "      INNER JOIN `ada-projet-2018.gdeltv2.sources_by_country` ON MentionSourceName = MentionSource \n",
    "    WHERE MentionType = 1 ) \n",
    "INNER JOIN `gdelt-bq.gdeltv2.events` ON `gdelt-bq.gdeltv2.events`.GLOBALEVENTID = GLOBALEVENTID_mentions \n",
    "GROUP BY EventRootCode, LocMention, Actor2Geo_CountryCode"
   ]
  },
  {
   "cell_type": "code",
   "execution_count": 29,
   "metadata": {},
   "outputs": [],
   "source": [
    "output_intercountry_tone_count = pd.read_csv(data_folder+'output_intercountry_tone_count_table.csv', \\\n",
    "                                             dtype={'EventRootCode': np.str})"
   ]
  },
  {
   "cell_type": "code",
   "execution_count": 30,
   "metadata": {},
   "outputs": [
    {
     "data": {
      "text/html": [
       "<div>\n",
       "<style scoped>\n",
       "    .dataframe tbody tr th:only-of-type {\n",
       "        vertical-align: middle;\n",
       "    }\n",
       "\n",
       "    .dataframe tbody tr th {\n",
       "        vertical-align: top;\n",
       "    }\n",
       "\n",
       "    .dataframe thead th {\n",
       "        text-align: right;\n",
       "    }\n",
       "</style>\n",
       "<table border=\"1\" class=\"dataframe\">\n",
       "  <thead>\n",
       "    <tr style=\"text-align: right;\">\n",
       "      <th></th>\n",
       "      <th>EventRootCode</th>\n",
       "      <th>LocMention</th>\n",
       "      <th>LocEvent</th>\n",
       "      <th>AverageTone</th>\n",
       "      <th>NumberOfInterMentions</th>\n",
       "    </tr>\n",
       "  </thead>\n",
       "  <tbody>\n",
       "    <tr>\n",
       "      <th>0</th>\n",
       "      <td>X</td>\n",
       "      <td>VE</td>\n",
       "      <td>NaN</td>\n",
       "      <td>-1.694915</td>\n",
       "      <td>2</td>\n",
       "    </tr>\n",
       "    <tr>\n",
       "      <th>1</th>\n",
       "      <td>--</td>\n",
       "      <td>AS</td>\n",
       "      <td>NaN</td>\n",
       "      <td>-5.860806</td>\n",
       "      <td>2</td>\n",
       "    </tr>\n",
       "    <tr>\n",
       "      <th>2</th>\n",
       "      <td>--</td>\n",
       "      <td>AS</td>\n",
       "      <td>AS</td>\n",
       "      <td>-3.122265</td>\n",
       "      <td>5</td>\n",
       "    </tr>\n",
       "    <tr>\n",
       "      <th>3</th>\n",
       "      <td>--</td>\n",
       "      <td>CA</td>\n",
       "      <td>NaN</td>\n",
       "      <td>-0.425331</td>\n",
       "      <td>6</td>\n",
       "    </tr>\n",
       "    <tr>\n",
       "      <th>4</th>\n",
       "      <td>--</td>\n",
       "      <td>CA</td>\n",
       "      <td>CA</td>\n",
       "      <td>-0.700771</td>\n",
       "      <td>2</td>\n",
       "    </tr>\n",
       "  </tbody>\n",
       "</table>\n",
       "</div>"
      ],
      "text/plain": [
       "  EventRootCode LocMention LocEvent  AverageTone  NumberOfInterMentions\n",
       "0             X         VE      NaN    -1.694915                      2\n",
       "1            --         AS      NaN    -5.860806                      2\n",
       "2            --         AS       AS    -3.122265                      5\n",
       "3            --         CA      NaN    -0.425331                      6\n",
       "4            --         CA       CA    -0.700771                      2"
      ]
     },
     "execution_count": 30,
     "metadata": {},
     "output_type": "execute_result"
    }
   ],
   "source": [
    "output_intercountry_tone_count.head()"
   ]
  },
  {
   "cell_type": "code",
   "execution_count": 28,
   "metadata": {},
   "outputs": [
    {
     "data": {
      "text/plain": [
       "EventRootCode             object\n",
       "LocMention                object\n",
       "LocEvent                  object\n",
       "AverageTone              float64\n",
       "NumberOfInterMentions      int64\n",
       "dtype: object"
      ]
     },
     "execution_count": 28,
     "metadata": {},
     "output_type": "execute_result"
    }
   ],
   "source": [
    "output_intercountry_tone_count.dtypes"
   ]
  },
  {
   "cell_type": "code",
   "execution_count": 52,
   "metadata": {},
   "outputs": [],
   "source": [
    "CAME0_translation = pd.read_csv(data_folder+'CAMEO_code', header=None, sep=':', names=['Code', 'Translation'], dtype={'Code': np.str})"
   ]
  },
  {
   "cell_type": "code",
   "execution_count": 53,
   "metadata": {},
   "outputs": [
    {
     "data": {
      "text/html": [
       "<div>\n",
       "<style scoped>\n",
       "    .dataframe tbody tr th:only-of-type {\n",
       "        vertical-align: middle;\n",
       "    }\n",
       "\n",
       "    .dataframe tbody tr th {\n",
       "        vertical-align: top;\n",
       "    }\n",
       "\n",
       "    .dataframe thead th {\n",
       "        text-align: right;\n",
       "    }\n",
       "</style>\n",
       "<table border=\"1\" class=\"dataframe\">\n",
       "  <thead>\n",
       "    <tr style=\"text-align: right;\">\n",
       "      <th></th>\n",
       "      <th>Code</th>\n",
       "      <th>Translation</th>\n",
       "    </tr>\n",
       "  </thead>\n",
       "  <tbody>\n",
       "    <tr>\n",
       "      <th>0</th>\n",
       "      <td>01</td>\n",
       "      <td>MAKE PUBLIC STATEMENT</td>\n",
       "    </tr>\n",
       "    <tr>\n",
       "      <th>1</th>\n",
       "      <td>010</td>\n",
       "      <td>Make statement, not specified below</td>\n",
       "    </tr>\n",
       "    <tr>\n",
       "      <th>2</th>\n",
       "      <td>011</td>\n",
       "      <td>Decline comment</td>\n",
       "    </tr>\n",
       "    <tr>\n",
       "      <th>3</th>\n",
       "      <td>012</td>\n",
       "      <td>Make pessimistic comment</td>\n",
       "    </tr>\n",
       "    <tr>\n",
       "      <th>4</th>\n",
       "      <td>013</td>\n",
       "      <td>Make optimistic comment</td>\n",
       "    </tr>\n",
       "    <tr>\n",
       "      <th>5</th>\n",
       "      <td>014</td>\n",
       "      <td>Consider policy option</td>\n",
       "    </tr>\n",
       "    <tr>\n",
       "      <th>6</th>\n",
       "      <td>015</td>\n",
       "      <td>Acknowledge or claim responsibility</td>\n",
       "    </tr>\n",
       "    <tr>\n",
       "      <th>7</th>\n",
       "      <td>016</td>\n",
       "      <td>Deny responsibility</td>\n",
       "    </tr>\n",
       "    <tr>\n",
       "      <th>8</th>\n",
       "      <td>017</td>\n",
       "      <td>Engage in symbolic act</td>\n",
       "    </tr>\n",
       "    <tr>\n",
       "      <th>9</th>\n",
       "      <td>018</td>\n",
       "      <td>Make empathetic comment</td>\n",
       "    </tr>\n",
       "    <tr>\n",
       "      <th>10</th>\n",
       "      <td>019</td>\n",
       "      <td>Express accord</td>\n",
       "    </tr>\n",
       "    <tr>\n",
       "      <th>11</th>\n",
       "      <td>02</td>\n",
       "      <td>APPEAL</td>\n",
       "    </tr>\n",
       "    <tr>\n",
       "      <th>12</th>\n",
       "      <td>020</td>\n",
       "      <td>Make an appeal or request, not specified below</td>\n",
       "    </tr>\n",
       "    <tr>\n",
       "      <th>13</th>\n",
       "      <td>021</td>\n",
       "      <td>Appeal for material cooperation, not specifi...</td>\n",
       "    </tr>\n",
       "    <tr>\n",
       "      <th>14</th>\n",
       "      <td>0211</td>\n",
       "      <td>Appeal for economic cooperation</td>\n",
       "    </tr>\n",
       "    <tr>\n",
       "      <th>15</th>\n",
       "      <td>0212</td>\n",
       "      <td>Appeal for military cooperation</td>\n",
       "    </tr>\n",
       "    <tr>\n",
       "      <th>16</th>\n",
       "      <td>0213</td>\n",
       "      <td>Appeal for judicial cooperation</td>\n",
       "    </tr>\n",
       "    <tr>\n",
       "      <th>17</th>\n",
       "      <td>0214</td>\n",
       "      <td>Appeal for intelligence</td>\n",
       "    </tr>\n",
       "    <tr>\n",
       "      <th>18</th>\n",
       "      <td>022</td>\n",
       "      <td>Appeal for diplomatic cooperation (such as p...</td>\n",
       "    </tr>\n",
       "    <tr>\n",
       "      <th>19</th>\n",
       "      <td>023</td>\n",
       "      <td>Appeal for aid, not specified below</td>\n",
       "    </tr>\n",
       "    <tr>\n",
       "      <th>20</th>\n",
       "      <td>0231</td>\n",
       "      <td>Appeal for economic aid</td>\n",
       "    </tr>\n",
       "    <tr>\n",
       "      <th>21</th>\n",
       "      <td>0232</td>\n",
       "      <td>Appeal for military aid</td>\n",
       "    </tr>\n",
       "    <tr>\n",
       "      <th>22</th>\n",
       "      <td>0233</td>\n",
       "      <td>Appeal for humanitarian aid</td>\n",
       "    </tr>\n",
       "    <tr>\n",
       "      <th>23</th>\n",
       "      <td>0234</td>\n",
       "      <td>Appeal for military protection or peacekeeping</td>\n",
       "    </tr>\n",
       "    <tr>\n",
       "      <th>24</th>\n",
       "      <td>024</td>\n",
       "      <td>Appeal for political reform, not specified b...</td>\n",
       "    </tr>\n",
       "    <tr>\n",
       "      <th>25</th>\n",
       "      <td>0241</td>\n",
       "      <td>Appeal for change in leadership</td>\n",
       "    </tr>\n",
       "    <tr>\n",
       "      <th>26</th>\n",
       "      <td>0242</td>\n",
       "      <td>Appeal for policy change</td>\n",
       "    </tr>\n",
       "    <tr>\n",
       "      <th>27</th>\n",
       "      <td>0243</td>\n",
       "      <td>Appeal for rights</td>\n",
       "    </tr>\n",
       "    <tr>\n",
       "      <th>28</th>\n",
       "      <td>0244</td>\n",
       "      <td>Appeal for change in institutions, regime</td>\n",
       "    </tr>\n",
       "    <tr>\n",
       "      <th>29</th>\n",
       "      <td>025</td>\n",
       "      <td>Appeal to yield, not specified below</td>\n",
       "    </tr>\n",
       "    <tr>\n",
       "      <th>...</th>\n",
       "      <td>...</td>\n",
       "      <td>...</td>\n",
       "    </tr>\n",
       "    <tr>\n",
       "      <th>286</th>\n",
       "      <td>182</td>\n",
       "      <td>Physically assault, not specified below</td>\n",
       "    </tr>\n",
       "    <tr>\n",
       "      <th>287</th>\n",
       "      <td>1821</td>\n",
       "      <td>Sexually assault</td>\n",
       "    </tr>\n",
       "    <tr>\n",
       "      <th>288</th>\n",
       "      <td>1822</td>\n",
       "      <td>Torture</td>\n",
       "    </tr>\n",
       "    <tr>\n",
       "      <th>289</th>\n",
       "      <td>1823</td>\n",
       "      <td>Kill by physical assault</td>\n",
       "    </tr>\n",
       "    <tr>\n",
       "      <th>290</th>\n",
       "      <td>183</td>\n",
       "      <td>Conduct suicide, car, or other non-military ...</td>\n",
       "    </tr>\n",
       "    <tr>\n",
       "      <th>291</th>\n",
       "      <td>1831</td>\n",
       "      <td>Carry out suicide bombing</td>\n",
       "    </tr>\n",
       "    <tr>\n",
       "      <th>292</th>\n",
       "      <td>1832</td>\n",
       "      <td>Carry out vehicular bombing</td>\n",
       "    </tr>\n",
       "    <tr>\n",
       "      <th>293</th>\n",
       "      <td>1833</td>\n",
       "      <td>Carry out roadside bombing</td>\n",
       "    </tr>\n",
       "    <tr>\n",
       "      <th>294</th>\n",
       "      <td>1834</td>\n",
       "      <td>Carry out location bombing</td>\n",
       "    </tr>\n",
       "    <tr>\n",
       "      <th>295</th>\n",
       "      <td>184</td>\n",
       "      <td>Use as human shield</td>\n",
       "    </tr>\n",
       "    <tr>\n",
       "      <th>296</th>\n",
       "      <td>185</td>\n",
       "      <td>Attempt to assassinate</td>\n",
       "    </tr>\n",
       "    <tr>\n",
       "      <th>297</th>\n",
       "      <td>186</td>\n",
       "      <td>Assassinate</td>\n",
       "    </tr>\n",
       "    <tr>\n",
       "      <th>298</th>\n",
       "      <td>19</td>\n",
       "      <td>FIGHT</td>\n",
       "    </tr>\n",
       "    <tr>\n",
       "      <th>299</th>\n",
       "      <td>190</td>\n",
       "      <td>Use conventional military force, not specifi...</td>\n",
       "    </tr>\n",
       "    <tr>\n",
       "      <th>300</th>\n",
       "      <td>191</td>\n",
       "      <td>Impose blockade, restrict movement</td>\n",
       "    </tr>\n",
       "    <tr>\n",
       "      <th>301</th>\n",
       "      <td>192</td>\n",
       "      <td>Occupy territory</td>\n",
       "    </tr>\n",
       "    <tr>\n",
       "      <th>302</th>\n",
       "      <td>193</td>\n",
       "      <td>Fight with small arms and light weapons</td>\n",
       "    </tr>\n",
       "    <tr>\n",
       "      <th>303</th>\n",
       "      <td>194</td>\n",
       "      <td>Fight with artillery and tanks</td>\n",
       "    </tr>\n",
       "    <tr>\n",
       "      <th>304</th>\n",
       "      <td>195</td>\n",
       "      <td>Employ aerial weapons, not specified below</td>\n",
       "    </tr>\n",
       "    <tr>\n",
       "      <th>305</th>\n",
       "      <td>1951</td>\n",
       "      <td>Employ precision-guided aerial munitions</td>\n",
       "    </tr>\n",
       "    <tr>\n",
       "      <th>306</th>\n",
       "      <td>1952</td>\n",
       "      <td>Employ remotely piloted aerial munitions</td>\n",
       "    </tr>\n",
       "    <tr>\n",
       "      <th>307</th>\n",
       "      <td>196</td>\n",
       "      <td>Violate ceasefire</td>\n",
       "    </tr>\n",
       "    <tr>\n",
       "      <th>308</th>\n",
       "      <td>20</td>\n",
       "      <td>USE UNCONVENTIONAL MASS VIOLENCE</td>\n",
       "    </tr>\n",
       "    <tr>\n",
       "      <th>309</th>\n",
       "      <td>200</td>\n",
       "      <td>Use unconventional mass violence, not specif...</td>\n",
       "    </tr>\n",
       "    <tr>\n",
       "      <th>310</th>\n",
       "      <td>201</td>\n",
       "      <td>Engage in mass expulsion</td>\n",
       "    </tr>\n",
       "    <tr>\n",
       "      <th>311</th>\n",
       "      <td>202</td>\n",
       "      <td>Engage in mass killings</td>\n",
       "    </tr>\n",
       "    <tr>\n",
       "      <th>312</th>\n",
       "      <td>203</td>\n",
       "      <td>Engage in ethnic cleansing</td>\n",
       "    </tr>\n",
       "    <tr>\n",
       "      <th>313</th>\n",
       "      <td>204</td>\n",
       "      <td>Use weapons of mass destruction, not specifi...</td>\n",
       "    </tr>\n",
       "    <tr>\n",
       "      <th>314</th>\n",
       "      <td>2041</td>\n",
       "      <td>Use chemical, biological, or radiological we...</td>\n",
       "    </tr>\n",
       "    <tr>\n",
       "      <th>315</th>\n",
       "      <td>2042</td>\n",
       "      <td>Detonate nuclear weapon</td>\n",
       "    </tr>\n",
       "  </tbody>\n",
       "</table>\n",
       "<p>316 rows × 2 columns</p>\n",
       "</div>"
      ],
      "text/plain": [
       "     Code                                        Translation\n",
       "0      01                              MAKE PUBLIC STATEMENT\n",
       "1     010                Make statement, not specified below\n",
       "2     011                                    Decline comment\n",
       "3     012                           Make pessimistic comment\n",
       "4     013                            Make optimistic comment\n",
       "5     014                             Consider policy option\n",
       "6     015                Acknowledge or claim responsibility\n",
       "7     016                                Deny responsibility\n",
       "8     017                             Engage in symbolic act\n",
       "9     018                            Make empathetic comment\n",
       "10    019                                     Express accord\n",
       "11     02                                             APPEAL\n",
       "12    020     Make an appeal or request, not specified below\n",
       "13    021    Appeal for material cooperation, not specifi...\n",
       "14   0211                    Appeal for economic cooperation\n",
       "15   0212                    Appeal for military cooperation\n",
       "16   0213                    Appeal for judicial cooperation\n",
       "17   0214                            Appeal for intelligence\n",
       "18    022    Appeal for diplomatic cooperation (such as p...\n",
       "19    023                Appeal for aid, not specified below\n",
       "20   0231                            Appeal for economic aid\n",
       "21   0232                            Appeal for military aid\n",
       "22   0233                        Appeal for humanitarian aid\n",
       "23   0234     Appeal for military protection or peacekeeping\n",
       "24    024    Appeal for political reform, not specified b...\n",
       "25   0241                    Appeal for change in leadership\n",
       "26   0242                           Appeal for policy change\n",
       "27   0243                                  Appeal for rights\n",
       "28   0244          Appeal for change in institutions, regime\n",
       "29    025               Appeal to yield, not specified below\n",
       "..    ...                                                ...\n",
       "286   182            Physically assault, not specified below\n",
       "287  1821                                   Sexually assault\n",
       "288  1822                                            Torture\n",
       "289  1823                           Kill by physical assault\n",
       "290   183    Conduct suicide, car, or other non-military ...\n",
       "291  1831                          Carry out suicide bombing\n",
       "292  1832                        Carry out vehicular bombing\n",
       "293  1833                         Carry out roadside bombing\n",
       "294  1834                         Carry out location bombing\n",
       "295   184                                Use as human shield\n",
       "296   185                             Attempt to assassinate\n",
       "297   186                                        Assassinate\n",
       "298    19                                              FIGHT\n",
       "299   190    Use conventional military force, not specifi...\n",
       "300   191                 Impose blockade, restrict movement\n",
       "301   192                                   Occupy territory\n",
       "302   193            Fight with small arms and light weapons\n",
       "303   194                     Fight with artillery and tanks\n",
       "304   195         Employ aerial weapons, not specified below\n",
       "305  1951           Employ precision-guided aerial munitions\n",
       "306  1952           Employ remotely piloted aerial munitions\n",
       "307   196                                  Violate ceasefire\n",
       "308    20                   USE UNCONVENTIONAL MASS VIOLENCE\n",
       "309   200    Use unconventional mass violence, not specif...\n",
       "310   201                           Engage in mass expulsion\n",
       "311   202                            Engage in mass killings\n",
       "312   203                         Engage in ethnic cleansing\n",
       "313   204    Use weapons of mass destruction, not specifi...\n",
       "314  2041    Use chemical, biological, or radiological we...\n",
       "315  2042                            Detonate nuclear weapon\n",
       "\n",
       "[316 rows x 2 columns]"
      ]
     },
     "execution_count": 53,
     "metadata": {},
     "output_type": "execute_result"
    }
   ],
   "source": [
    "CAME0_translation"
   ]
  },
  {
   "cell_type": "code",
   "execution_count": null,
   "metadata": {},
   "outputs": [],
   "source": []
  }
 ],
 "metadata": {
  "kernelspec": {
   "display_name": "Python [conda env:ada]",
   "language": "python",
   "name": "conda-env-ada-py"
  },
  "language_info": {
   "codemirror_mode": {
    "name": "ipython",
    "version": 3
   },
   "file_extension": ".py",
   "mimetype": "text/x-python",
   "name": "python",
   "nbconvert_exporter": "python",
   "pygments_lexer": "ipython3",
   "version": "3.6.6"
  }
 },
 "nbformat": 4,
 "nbformat_minor": 2
}

{
 "cells": [
  {
   "cell_type": "markdown",
   "metadata": {},
   "source": [
    "\n",
    "\n",
    "<center> <h1> Evolution of emotions conveyed by media and their link with the society state </h1> \n",
    "<h2> Project Milestone 2 </h2> </center>"
   ]
  },
  {
   "cell_type": "markdown",
   "metadata": {},
   "source": [
    "<h2> Data collection </h2> \n",
    "\n",
    "<u> Source location related data : </u>\n",
    "\n",
    "When we started processing the data located on the cluster (*'/datasets/gdeltv2'*), we encountered a serious issue : very surprisingly, the dataset does not contain any record related to the media source location. However, we planned in Milestone 1 to focus our project on the specificity of the medias related to their home country.\n",
    "Thus we spent a lot of time on trying to find ways to circumvent this issue and get information about the source location by other means.\n",
    "<br>\n",
    "<ol>\n",
    "    <li>First, we looked at URL extensions. Indeed, some countries have specific URL extentions (‘.fr’, ‘.it’, etc), and we can use this criterion to filter event mentions.\n",
    "However, this solution is clearly not very representative because most of the sources (METTRE QUERY QUI PROUVE CE FAIT) have a ‘.com’ extension, and this in not informative. Moreover, countries like the USA only use ‘.com’ extensions. </li> <br>\n",
    "    \n",
    "<li>Then, we chose a different strategy : we searched for rankings (EST-CE QU’ON PEUT TROUVER DES RANKINGS PLUS FIABLES?) to get the main online medias in a small sample of countries (France, USA). Then we stored these lists of sources and we filtered the event mentions dataset to get medias related to these sources. If we base these queries on relevant information (selection of the principal medias), this strategy can be a good option. However, it requires a lot of manual work, and we had many issues related to the string filter used. Indeed, if fetching only the sources whose name is strictly <i>‘foxnews.com’</i> for example, one would miss <i>'foxcarolina.com'</i> and all the other state-specific or city-specific related webpages. But if we set a very open regular expression like ‘%fox%' or '%wsj%' (for the Wall Street Journal), we get a lot of false negatives like <i>'thenewsjournal.net'</i> or <i>'ctnewsjunkie.com'</i>. </li> <br>\n",
    "\n",
    "<li>Lastly, we discovered that when using the GdeltV2 database available on Google BigQuery, we also have access to additional tables, such as ‘sourcesbycountry’. This table contains exactly the information we were looking for since the beginning of the project : it matches the sources names ('Domain') with the FIPS-code of their country. </li>\n",
    " </ol> \n",
    "\n",
    "From now on, we will use Google BigQuery to make queries related to sources locations. The other big advantage of this tool, is that queries are running very fast, whereas when using the cluster, we wait sometimes a whole day for our job to be executed because of the queue.\n",
    "\n",
    "<u> ADD OTHER INFORMATION </u>"
   ]
  },
  {
   "cell_type": "markdown",
   "metadata": {},
   "source": [
    "## Data processing"
   ]
  },
  {
   "cell_type": "code",
   "execution_count": 1,
   "metadata": {},
   "outputs": [],
   "source": [
    "import findspark\n",
    "findspark.init()\n",
    "import matplotlib.pyplot as plt\n",
    "from pyspark.sql.types import *\n",
    "import datetime as dt\n",
    "from pyspark.sql.functions import *\n",
    "import pandas as pd\n",
    "import numpy as np\n",
    "import scipy as sp\n",
    "from pyspark.sql import *\n",
    "%matplotlib inline\n",
    "import seaborn as sn\n",
    "sn.set(color_codes=True)\n",
    "spark = SparkSession.builder.getOrCreate()"
   ]
  },
  {
   "cell_type": "markdown",
   "metadata": {},
   "source": [
    "### 1. Are the medias becoming more and more anxiogenic ? Is there a specific trend during a year time ?"
   ]
  },
  {
   "cell_type": "markdown",
   "metadata": {},
   "source": [
    "Then, we decided to observe whether we notice a periodic trend in the way mediatic tone evolves accross year months. For example, is summer more prone to positive news ?\n",
    "\n",
    "For now (as it was just a first overview to find what was feasible with the dataset), we focused on *'.fr'* and *'.it'* URL-extended sources, in order to observe these trends for French and Italian medias. When using this strategy to get source location, we have to be aware that we are excluding a lot of mentions which have the *'.com'* or *'.net'* extensions for example.\n",
    "\n",
    "We run a Python script on the cluster (see *'./Codes/get_monthIntervalMentions.py'*) in order to write as parquet files these specific mentions.\n",
    "\n",
    "\n",
    "#### EN RUNNANT LES CELLULES SUIVANTES : VOIR PQ IL Y A AUTANT DE VALEURS NULLES (e.g. en selectionnant aussi le field 'Year-Month-Day' pour voir si il est nul aussi)"
   ]
  },
  {
   "cell_type": "code",
   "execution_count": 2,
   "metadata": {},
   "outputs": [
    {
     "name": "stdout",
     "output_type": "stream",
     "text": [
      "+------------------+--------------+-----+\n",
      "| MentionSourceName|MentionDocTone|Month|\n",
      "+------------------+--------------+-----+\n",
      "|         en.rfi.fr|    -3.5971222|   12|\n",
      "|       thelocal.fr|   -0.22396417|    6|\n",
      "|diplomatie.gouv.fr|     3.0120482|    6|\n",
      "|diplomatie.gouv.fr|     3.0120482|    6|\n",
      "|       thelocal.fr|   -0.22396417|    6|\n",
      "|       thelocal.fr|   -0.22396417|    6|\n",
      "|       thelocal.fr|   -0.22396417|    6|\n",
      "|         en.rfi.fr|      -3.49162|    3|\n",
      "|         en.rfi.fr|      -3.49162|    3|\n",
      "|         en.rfi.fr|     -2.868069|    3|\n",
      "|         en.rfi.fr|      -3.49162|    3|\n",
      "|         en.rfi.fr|      -3.49162|    3|\n",
      "|         en.rfi.fr|     1.4035088|    3|\n",
      "|         en.rfi.fr|      -3.49162|    3|\n",
      "|         en.rfi.fr|     1.4035088|    3|\n",
      "|         en.rfi.fr|    -5.9479556|    3|\n",
      "|         en.rfi.fr|    -5.9479556|    3|\n",
      "|          inria.fr|     3.4206307|    2|\n",
      "|          inria.fr|     3.0560272|    2|\n",
      "|          inria.fr|     1.5261627|    2|\n",
      "+------------------+--------------+-----+\n",
      "only showing top 20 rows\n",
      "\n"
     ]
    }
   ],
   "source": [
    "fr_mentions = spark.read.parquet(\"fr_mentions_casted_date.parquet\")\n",
    "fr_mentions = fr_mentions.select('MentionSourceName','MentionDocTone', 'Month')\n",
    "fr_mentions.show()"
   ]
  },
  {
   "cell_type": "code",
   "execution_count": 3,
   "metadata": {},
   "outputs": [
    {
     "data": {
      "text/plain": [
       "<matplotlib.axes._subplots.AxesSubplot at 0x1163269b0>"
      ]
     },
     "execution_count": 3,
     "metadata": {},
     "output_type": "execute_result"
    },
    {
     "data": {
      "image/png": "[encoded data removed]",
      "text/plain": [
       "<Figure size 432x288 with 1 Axes>"
      ]
     },
     "metadata": {},
     "output_type": "display_data"
    }
   ],
   "source": [
    "fr_mentions = fr_mentions.groupBy('Month').agg(mean('MentionDocTone').alias('Average tone'))\n",
    "\n",
    "fr_mentions_Pandas_df = fr_mentions.toPandas()\n",
    "fr_mentions_Pandas_df.dropna(inplace=True)\n",
    "fr_mentions_Pandas_df.sort_values('Month', ascending=True, inplace=True)\n",
    "\n",
    "fr_mentions_Pandas_df.plot.bar(x='Month', y='Average tone')"
   ]
  },
  {
   "cell_type": "code",
   "execution_count": 4,
   "metadata": {},
   "outputs": [
    {
     "name": "stdout",
     "output_type": "stream",
     "text": [
      "+--------------------+--------------+-----+\n",
      "|   MentionSourceName|MentionDocTone|Month|\n",
      "+--------------------+--------------+-----+\n",
      "|         lastampa.it|     1.8962076| null|\n",
      "|         lastampa.it|     1.8962076| null|\n",
      "|         lastampa.it|     1.8962076| null|\n",
      "|         lastampa.it|     1.8962076| null|\n",
      "|         lastampa.it|     1.8962076| null|\n",
      "|         lastampa.it|     1.8962076| null|\n",
      "|         lastampa.it|     1.8962076| null|\n",
      "|         lastampa.it|     1.8962076| null|\n",
      "|         lastampa.it|     1.8962076| null|\n",
      "|firenze.repubblic...|     3.7974684|    6|\n",
      "|firenze.repubblic...|     3.7974684|    6|\n",
      "|firenze.repubblic...|     3.7974684|    6|\n",
      "|lagazzettadelmezz...|           0.0|    6|\n",
      "|lagazzettadelmezz...|           0.0|    6|\n",
      "|           cutuli.it|      5.188679|    6|\n",
      "|           cutuli.it|      5.188679|    6|\n",
      "|           cutuli.it|      5.188679|    6|\n",
      "|   gazzettadelsud.it|     -6.590909| null|\n",
      "|   gazzettadelsud.it|    -7.1017275| null|\n",
      "|lagazzettadelmezz...|    -7.1017275| null|\n",
      "+--------------------+--------------+-----+\n",
      "only showing top 20 rows\n",
      "\n"
     ]
    }
   ],
   "source": [
    "it_mentions = spark.read.parquet(\"it_mentions_casted_date.parquet\")\n",
    "it_mentions = it_mentions.select('MentionSourceName','MentionDocTone', 'Month')\n",
    "it_mentions.show()"
   ]
  },
  {
   "cell_type": "code",
   "execution_count": 5,
   "metadata": {},
   "outputs": [
    {
     "data": {
      "text/plain": [
       "<matplotlib.axes._subplots.AxesSubplot at 0x1a183a0160>"
      ]
     },
     "execution_count": 5,
     "metadata": {},
     "output_type": "execute_result"
    },
    {
     "data": {
      "image/png": "[encoded data removed]",
      "text/plain": [
       "<Figure size 432x288 with 1 Axes>"
      ]
     },
     "metadata": {},
     "output_type": "display_data"
    }
   ],
   "source": [
    "it_mentions = it_mentions.groupBy('Month').agg(mean('MentionDocTone').alias('Average tone'))\n",
    "\n",
    "it_mentions_Pandas_df = it_mentions.toPandas()\n",
    "it_mentions_Pandas_df.dropna(inplace=True)\n",
    "it_mentions_Pandas_df.sort_values('Month', ascending=True, inplace=True)\n",
    "\n",
    "it_mentions_Pandas_df.plot.bar(x='Month', y='Average tone')"
   ]
  },
  {
   "cell_type": "markdown",
   "metadata": {},
   "source": [
    "We see that for these two specific countries, we do not have very obvious differences between year months. \n",
    "However...\n",
    "\n",
    "AJOUTER INTERPRETATION PLUS COMPLETE"
   ]
  },
  {
   "cell_type": "markdown",
   "metadata": {},
   "source": [
    "Now we will try to see if the mediatic tone changes over different seasons of the year. Because we thought there may be a correlation between climate and the way the people express the news. For example, in the summer a same event may be expressed more positive than in the winter"
   ]
  },
  {
   "cell_type": "markdown",
   "metadata": {},
   "source": [
    "We first extracted the dataset \"file_mentions_year_month_day.parquet\" in format parquet with the useful columns. The following python script helps us to get the dataset from cluster:"
   ]
  },
  {
   "cell_type": "markdown",
   "metadata": {},
   "source": [
    "MENTIONS_SCHEMA = StructType([\n",
    "    StructField(\"GLOBALEVENTID\",LongType(),True),\n",
    "    StructField(\"EventTimeDate\",LongType(),True),\n",
    "    StructField(\"MentionTimeDate\",LongType(),True),\n",
    "    StructField(\"MentionType\",LongType(),True),\n",
    "    StructField(\"MentionSourceName\",StringType(),True),\n",
    "    StructField(\"MentionIdentifier\",StringType(),True),\n",
    "    StructField(\"SentenceID\",LongType(),True),\n",
    "    StructField(\"Actor1CharOffset\",LongType(),True),\n",
    "    StructField(\"Actor2CharOffset\",LongType(),True),\n",
    "    StructField(\"ActionCharOffset\",LongType(),True),\n",
    "    StructField(\"InRawText\",LongType(),True),\n",
    "    StructField(\"Confidence\",LongType(),True),\n",
    "    StructField(\"MentionDocLen\",LongType(),True),\n",
    "    StructField(\"MentionDocTone\",FloatType(),True),\n",
    "    StructField(\"MentionDocTranslationInfo\",StringType(),True),\n",
    "    StructField(\"Extras\",StringType(),True)\n",
    "    ])\n",
    "\n",
    "DATA_DIR = \"hdfs:///datasets/gdeltv2\"\n",
    "mentions_df = spark.read.option(\"sep\", \"\\t\").csv(os.path.join(DATA_DIR, \"*.mentions.CSV\"),schema=MENTIONS_SCHEMA)\n",
    "\n",
    "mentions_df = mentions_df.withColumn(\"Year-Month-Day\", to_date(concat(col(\"MentionTimeDate\")), \"yyyyMMddhhmmss\"))\n",
    "\n",
    "mentions_df = mentions_df.select('MentionDocTone', 'MentionTimeDate', 'MentionSourceName', 'Year-Month-Day', \\\n",
    "                                  year(mentions_df[\"Year-Month-Day\"]).alias('Year'), \\\n",
    "                                  month(mentions_df[\"Year-Month-Day\"]).alias('Month'),\n",
    "                                )\\\n",
    "                         .withColumn(\"Year-Month\",concat(col(\"Year\"), lit(\"-\"), col(\"Month\"))) \\\n",
    "                         .drop('Year', 'Month')\n",
    "\n",
    "mentions_df.write.parquet('file_mentions_year_month_day.parquet', mode='overwrite')"
   ]
  },
  {
   "cell_type": "markdown",
   "metadata": {},
   "source": [
    "Once we have the data in our local drive, we can process it on jupyter notebook."
   ]
  },
  {
   "cell_type": "code",
   "execution_count": 6,
   "metadata": {},
   "outputs": [],
   "source": [
    "mentions_df = spark.read.parquet(\"/Users/sinangokce/Desktop/Project_ESKI/ADA_Project/Data/file_mentions_year_month_day.parquet\")"
   ]
  },
  {
   "cell_type": "code",
   "execution_count": 7,
   "metadata": {},
   "outputs": [
    {
     "data": {
      "text/plain": [
       "DataFrame[MentionDocTone: float, MentionTimeDate: bigint, MentionSourceName: string, Year-Month-Day: date, Year-Month: string]"
      ]
     },
     "execution_count": 7,
     "metadata": {},
     "output_type": "execute_result"
    }
   ],
   "source": [
    "mentions_df"
   ]
  },
  {
   "cell_type": "code",
   "execution_count": 8,
   "metadata": {},
   "outputs": [],
   "source": [
    "mentions_df = mentions_df.groupBy(window(mentions_df['Year-Month-Day'], \\\n",
    "                                                           \"90 days\", \\\n",
    "                                                           startTime = \"24 days\"\n",
    "                                                          ) \\\n",
    "                                 ) \\\n",
    "                        .agg(mean(\"MentionDocTone\")) \\"
   ]
  },
  {
   "cell_type": "code",
   "execution_count": 9,
   "metadata": {},
   "outputs": [],
   "source": [
    "mentions_df = mentions_df.withColumn(\"start\", mentions_df.window.start.cast(\"string\")) \\\n",
    "                         .withColumn(\"end\", mentions_df.window.end.cast(\"string\")) \\\n",
    "                         .sort('start', ascending = True) \\\n",
    "                         .select('start', 'end', 'avg(MentionDocTone)')"
   ]
  },
  {
   "cell_type": "code",
   "execution_count": 10,
   "metadata": {},
   "outputs": [],
   "source": [
    "mentions_Pandas_df = mentions_df.toPandas()"
   ]
  },
  {
   "cell_type": "code",
   "execution_count": 11,
   "metadata": {},
   "outputs": [],
   "source": [
    "mentions_Pandas_df[\"interval\"] = \"[\" + mentions_Pandas_df[\"start\"] + \"; \" +\\\n",
    "                                       mentions_Pandas_df[\"end\"] + \")\"\n",
    "mentions_Pandas_df = mentions_Pandas_df[['start', 'end', 'interval', 'avg(MentionDocTone)']]"
   ]
  },
  {
   "cell_type": "code",
   "execution_count": 12,
   "metadata": {
    "scrolled": true
   },
   "outputs": [
    {
     "data": {
      "text/plain": [
       "<matplotlib.axes._subplots.AxesSubplot at 0x1a18428908>"
      ]
     },
     "execution_count": 12,
     "metadata": {},
     "output_type": "execute_result"
    },
    {
     "data": {
      "image/png": "[encoded data removed]",
      "text/plain": [
       "<Figure size 432x288 with 1 Axes>"
      ]
     },
     "metadata": {},
     "output_type": "display_data"
    }
   ],
   "source": [
    "mentions_Pandas_df.plot.bar(x='interval', y='avg(MentionDocTone)')"
   ]
  },
  {
   "cell_type": "markdown",
   "metadata": {},
   "source": [
    "This plot shows no remarkable trend of the mediatic tone over different seasons of the year since it's almost constant."
   ]
  },
  {
   "cell_type": "markdown",
   "metadata": {},
   "source": [
    "### 2. Can we find different trends in the media tone depending on the event location country ? On the source country ? Is their a link with the Happiness score of the country ?\n",
    "\n",
    "First, let's look at mediatic tone, with respect to the event location country.\n",
    "This analysis would allow us to determine whether the global news concerning a country's events are rather positive or negative. Then, we can see if there is a correlation with the actual happiness level of each country. \n",
    "\n",
    "### AJOUTER ICI LES RESULTATS DE SINAN (plots + correlation avec le bonheur)\n",
    "#### Bien expliquer comment on a eu les data sur le bonheur et ce qu'on a fait pour lier les deux (FIPS code)\n",
    "\n",
    "Note that some country values were missing in the Happiness World report, thus we will use inner join to get rid of countries which have no happiness score."
   ]
  },
  {
   "cell_type": "markdown",
   "metadata": {},
   "source": [
    "Now, using Google BigQuery tool, let's look at the mediatic tone related to the source country of event mentions.\n",
    "\n",
    "The following query was run in order to get the average tone (field `MentionDocTone`) of mentions originating from the same country.\n",
    "Indeed, by joining the `eventmentions` table to the `sourcesbycountry` table, we could very easily group the mentions by their source FIPS code and compute the average tone :"
   ]
  },
  {
   "cell_type": "markdown",
   "metadata": {},
   "source": [
    "<img src=\"query_avgToneBySourceLocation.png\" alt=\"drawing\" width=\"500\"/>"
   ]
  },
  {
   "cell_type": "markdown",
   "metadata": {},
   "source": [
    "After extracting the newly created table `avgToneBySourceLocation_table`, we plotted the result.\n",
    "Note that the result was splitted between positive and negative average tone in order to have smaller plots, but still be able to visualize the value for each country."
   ]
  },
  {
   "cell_type": "code",
   "execution_count": null,
   "metadata": {},
   "outputs": [],
   "source": [
    "avgTone = spark.read.option(\"sep\",\",\").option('header', 'true').csv(\"avgToneBySourceLocation_table.csv\")\n",
    "avgTone.show()\n",
    "avgTone = avgTone.withColumn('AverageTone', avgTone['AverageTone'].cast(FloatType()))\n",
    "avgTone.registerTempTable('avgTone_table')"
   ]
  },
  {
   "cell_type": "code",
   "execution_count": null,
   "metadata": {},
   "outputs": [],
   "source": [
    "avgTone_pos = avgTone.filter('AverageTone > 0')\n",
    "avgTone_pos_pandas = avgTone_pos.toPandas()\n",
    "avgTone_pos_pandas.sort_values('AverageTone', ascending=True, inplace=True)\n",
    "\n",
    "sn.set(rc={'figure.figsize':(60,30)})\n",
    "plot = sn.barplot(x='FIPS', y='AverageTone',data=avgTone_pos_pandas)\n",
    "fig = plot.get_figure()"
   ]
  },
  {
   "cell_type": "code",
   "execution_count": null,
   "metadata": {},
   "outputs": [],
   "source": [
    "avgTone_neg = avgTone.filter('AverageTone <= 0')\n",
    "avgTone_neg_pandas = avgTone_neg.toPandas()\n",
    "avgTone_neg_pandas.sort_values('AverageTone', ascending=True, inplace=True)\n",
    "\n",
    "sn.set(rc={'figure.figsize':(60,30)})\n",
    "plot = sn.barplot(x='FIPS', y='AverageTone',data=avgTone_neg_pandas)\n",
    "fig = plot.get_figure()"
   ]
  },
  {
   "cell_type": "markdown",
   "metadata": {},
   "source": [
    "Now, we will try to see if there is somehow a correlation between the overall Happiness of the country inhabitants.\n",
    "\n",
    "As explained above, we join `avgToneBySourceLocation_table` with the `happiness_table` which contains the Happiness score related to each FIPS country code."
   ]
  },
  {
   "cell_type": "code",
   "execution_count": null,
   "metadata": {},
   "outputs": [],
   "source": [
    "happiness = spark.read.option(\"sep\", \";\").option('header', 'true').csv(\"HappinessCustom.csv\")\\\n",
    "    .select('FIPS', 'Happiness_score').dropna()\n",
    "    \n",
    "happiness = happiness.withColumn('Happiness_score', happiness[\"Happiness_score\"].cast(FloatType()))\n",
    "print(happiness.dtypes)\n",
    "happiness.show()\n",
    "happiness.registerTempTable(\"happiness_table\")"
   ]
  },
  {
   "cell_type": "code",
   "execution_count": null,
   "metadata": {},
   "outputs": [],
   "source": [
    "query = \"\"\"\n",
    "select happiness_table.FIPS, Happiness_score, AverageTone\n",
    "from happiness_table\n",
    "inner join avgTone_table\n",
    "on happiness_table.FIPS = avgTone_table.FIPS\n",
    "\"\"\"\n",
    "\n",
    "joinedTable = spark.sql(query)\n",
    "joinedTable.show()"
   ]
  },
  {
   "cell_type": "code",
   "execution_count": null,
   "metadata": {},
   "outputs": [],
   "source": [
    "fig_size = plt.rcParams[\"figure.figsize\"]\n",
    "fig_size[0] = 10\n",
    "fig_size[1] =10\n",
    "plt.rcParams[\"figure.figsize\"] = fig_size\n",
    "\n",
    "joined_df = joinedTable.toPandas()\n",
    "sn.regplot(x='Happiness_score', y='AverageTone', data=joined_df)"
   ]
  },
  {
   "cell_type": "code",
   "execution_count": null,
   "metadata": {},
   "outputs": [],
   "source": [
    "pearson_coef = joined_df['Happiness_score'].corr(joined_df['AverageTone'])\n",
    "print(pearson_coef)"
   ]
  },
  {
   "cell_type": "markdown",
   "metadata": {},
   "source": [
    "As we can see, the result is quite surprising (or deceiving). It seems that there is only a weak correlation between Happiness score and average mediatic tone, and it is rather negative. \n",
    "This would illustrate the fact that maybe the medias are not influencing too much the inhabitants' mood and that their tone is not representative of the overall atmosphere."
   ]
  },
  {
   "cell_type": "markdown",
   "metadata": {},
   "source": [
    "### 3. Is there a link with the political schedule ?"
   ]
  },
  {
   "cell_type": "markdown",
   "metadata": {},
   "source": [
    "#### US 2016 ELECTION"
   ]
  },
  {
   "cell_type": "code",
   "execution_count": null,
   "metadata": {},
   "outputs": [],
   "source": [
    "US_electionPreceedingMentions = spark.read.option(\"sep\",\",\").option('header', 'true')\\\n",
    "    .csv(\"US_electionPreceeding_mentions.csv\")\n",
    "US_electionPreceedingMentions.show()"
   ]
  },
  {
   "cell_type": "code",
   "execution_count": null,
   "metadata": {},
   "outputs": [],
   "source": []
  },
  {
   "cell_type": "markdown",
   "metadata": {},
   "source": [
    "## Future queries\n",
    "\n",
    "<ul> \n",
    "   <li>Which event types are associated with negative tones ? </li>\n",
    "\n",
    "   <li> Is there a correlation between the negativity of a news and the number of mentions ? The duration of its mediatic coverage ? </li>\n",
    "</ul>\n",
    "\n",
    "AJOUTER AUTRES"
   ]
  },
  {
   "cell_type": "code",
   "execution_count": null,
   "metadata": {},
   "outputs": [],
   "source": []
  }
 ],
 "metadata": {
  "kernelspec": {
   "display_name": "Python [default]",
   "language": "python",
   "name": "python3"
  },
  "language_info": {
   "codemirror_mode": {
    "name": "ipython",
    "version": 3
   },
   "file_extension": ".py",
   "mimetype": "text/x-python",
   "name": "python",
   "nbconvert_exporter": "python",
   "pygments_lexer": "ipython3",
   "version": "3.6.6"
  }
 },
 "nbformat": 4,
 "nbformat_minor": 2
}
